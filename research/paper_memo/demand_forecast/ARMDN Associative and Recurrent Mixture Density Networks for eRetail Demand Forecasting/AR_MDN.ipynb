{
  "nbformat": 4,
  "nbformat_minor": 0,
  "metadata": {
    "colab": {
      "name": "AR-MDN.ipynb",
      "provenance": []
    },
    "kernelspec": {
      "name": "python3",
      "display_name": "Python 3"
    }
  },
  "cells": [
    {
      "cell_type": "code",
      "metadata": {
        "id": "pis6ernBjvM_",
        "colab_type": "code",
        "colab": {}
      },
      "source": [
        "import torch\n",
        "import torch.nn as nn\n",
        "import numpy as np"
      ],
      "execution_count": 0,
      "outputs": []
    },
    {
      "cell_type": "code",
      "metadata": {
        "id": "wqxqPNIlkDt3",
        "colab_type": "code",
        "colab": {}
      },
      "source": [
        "TIME_LEN = 1000"
      ],
      "execution_count": 0,
      "outputs": []
    },
    {
      "cell_type": "code",
      "metadata": {
        "id": "euJ9cQ00kLP3",
        "colab_type": "code",
        "colab": {}
      },
      "source": [
        "FEAT_DIM_GROUP1 = 14  # グループ１の特徴量数\n",
        "FEAT_DIM_GROUP2 = 7  # グループ2の特徴量数\n",
        "FEAT_DIM_GROUP3 = 10  # グループ3の特徴量数\n",
        "FEAT_DIM_GROUP4 = 6  # グループ4の特徴量数\n",
        "\n",
        "FEAT_DIMS = (\n",
        "    FEAT_DIM_GROUP1,\n",
        "    FEAT_DIM_GROUP2,\n",
        "    FEAT_DIM_GROUP3,\n",
        "    FEAT_DIM_GROUP4\n",
        ")"
      ],
      "execution_count": 0,
      "outputs": []
    },
    {
      "cell_type": "code",
      "metadata": {
        "id": "DW4dLMBMj821",
        "colab_type": "code",
        "colab": {}
      },
      "source": [
        "X_feat_group1 = np.random.randn(TIME_LEN, FEAT_DIM_GROUP1)\n",
        "X_feat_group2 = np.random.randn(TIME_LEN, FEAT_DIM_GROUP2)\n",
        "X_feat_group3 = np.random.randn(TIME_LEN, FEAT_DIM_GROUP3)\n",
        "X_feat_group4 = np.random.randn(TIME_LEN, FEAT_DIM_GROUP4)\n",
        "\n",
        "y = np.random.poisson(10, TIME_LEN)"
      ],
      "execution_count": 0,
      "outputs": []
    },
    {
      "cell_type": "code",
      "metadata": {
        "id": "BWAo-HCQkRma",
        "colab_type": "code",
        "colab": {
          "base_uri": "https://localhost:8080/",
          "height": 34
        },
        "outputId": "081d1067-5712-4ba8-e0f1-41d938a3e133"
      },
      "source": [
        "X_feat_group1.shape"
      ],
      "execution_count": 270,
      "outputs": [
        {
          "output_type": "execute_result",
          "data": {
            "text/plain": [
              "(1000, 14)"
            ]
          },
          "metadata": {
            "tags": []
          },
          "execution_count": 270
        }
      ]
    },
    {
      "cell_type": "code",
      "metadata": {
        "id": "3rGPz0VZq6GA",
        "colab_type": "code",
        "colab": {}
      },
      "source": [
        ""
      ],
      "execution_count": 0,
      "outputs": []
    },
    {
      "cell_type": "code",
      "metadata": {
        "id": "EBhTYD4aq55P",
        "colab_type": "code",
        "colab": {}
      },
      "source": [
        "SEQ_LEN = 50"
      ],
      "execution_count": 0,
      "outputs": []
    },
    {
      "cell_type": "code",
      "metadata": {
        "id": "X8ChhPT9q8g2",
        "colab_type": "code",
        "colab": {}
      },
      "source": [
        "X_feat_group1_tensor = []\n",
        "X_feat_group2_tensor = []\n",
        "X_feat_group3_tensor = []\n",
        "X_feat_group4_tensor = []\n",
        "y_tensor = []\n",
        "\n",
        "for t in range(TIME_LEN-SEQ_LEN-1):\n",
        "    X_feat_group1_tensor.append(torch.from_numpy(X_feat_group1[t:t+SEQ_LEN, :]))\n",
        "    X_feat_group2_tensor.append(torch.from_numpy(X_feat_group2[t:t+SEQ_LEN, :]))\n",
        "    X_feat_group3_tensor.append(torch.from_numpy(X_feat_group3[t:t+SEQ_LEN, :]))\n",
        "    X_feat_group4_tensor.append(torch.from_numpy(X_feat_group4[t:t+SEQ_LEN, :]))\n",
        "    y_tensor.append(y[t+1:t+SEQ_LEN+1])\n",
        "\n",
        "X_feat_group1_tensor = torch.stack(X_feat_group1_tensor, dim=0).float()\n",
        "X_feat_group2_tensor = torch.stack(X_feat_group2_tensor, dim=0).float()\n",
        "X_feat_group3_tensor = torch.stack(X_feat_group3_tensor, dim=0).float()\n",
        "X_feat_group4_tensor = torch.stack(X_feat_group4_tensor, dim=0).float()\n",
        "y_tensor = torch.from_numpy(np.array(y_tensor)).float()"
      ],
      "execution_count": 0,
      "outputs": []
    },
    {
      "cell_type": "code",
      "metadata": {
        "id": "yOGdFzk-q52w",
        "colab_type": "code",
        "colab": {
          "base_uri": "https://localhost:8080/",
          "height": 34
        },
        "outputId": "2229f448-887c-48ad-b853-9482b0f9ad9d"
      },
      "source": [
        "X_feat_group1_tensor.shape"
      ],
      "execution_count": 273,
      "outputs": [
        {
          "output_type": "execute_result",
          "data": {
            "text/plain": [
              "torch.Size([949, 50, 14])"
            ]
          },
          "metadata": {
            "tags": []
          },
          "execution_count": 273
        }
      ]
    },
    {
      "cell_type": "code",
      "metadata": {
        "id": "jApDW19EsDpc",
        "colab_type": "code",
        "colab": {
          "base_uri": "https://localhost:8080/",
          "height": 34
        },
        "outputId": "147a9865-963a-46a9-d0d0-b5e2f6cbc33a"
      },
      "source": [
        "y_tensor.shape"
      ],
      "execution_count": 274,
      "outputs": [
        {
          "output_type": "execute_result",
          "data": {
            "text/plain": [
              "torch.Size([949, 50])"
            ]
          },
          "metadata": {
            "tags": []
          },
          "execution_count": 274
        }
      ]
    },
    {
      "cell_type": "code",
      "metadata": {
        "id": "FBzADY3OlDMq",
        "colab_type": "code",
        "colab": {}
      },
      "source": [
        ""
      ],
      "execution_count": 0,
      "outputs": []
    },
    {
      "cell_type": "code",
      "metadata": {
        "id": "EPPTf4vpkXoC",
        "colab_type": "code",
        "colab": {}
      },
      "source": [
        "class ARMDN(nn.Module):\n",
        "\n",
        "    def __init__(self, feat_dims, embedding_dim=4, gauss_component_n=10):\n",
        "\n",
        "        super(ARMDN, self).__init__()\n",
        "\n",
        "        self._feat_layers = []\n",
        "        self._embedding_dim = embedding_dim\n",
        "        self._gauss_component_n = gauss_component_n\n",
        "        self._z_mu = nn.Parameter(torch.randn(gauss_component_n).unsqueeze(0).unsqueeze(0))\n",
        "        self._z_sigma = nn.Parameter(torch.randn(gauss_component_n).unsqueeze(0).unsqueeze(0))\n",
        "        self._z_p = nn.Parameter(torch.randn(gauss_component_n).unsqueeze(0).unsqueeze(0))\n",
        "\n",
        "        for feat_dim in feat_dims:\n",
        "            self._feat_layers.append(\n",
        "                nn.Linear(feat_dim, self._embedding_dim)\n",
        "            )\n",
        "        \n",
        "        self._lstm = nn.LSTM(\n",
        "            input_size=embedding_dim*len(feat_dims),\n",
        "            hidden_size=self._gauss_component_n,\n",
        "            batch_first=True\n",
        "        )\n",
        "\n",
        "    def forward(self, xs):\n",
        "        assert len(xs) == len(self._feat_layers)\n",
        "\n",
        "        seq_len = xs[0].shape[1]\n",
        "\n",
        "        embs = []\n",
        "        for x, feat_layer in zip(xs, self._feat_layers):\n",
        "            emb_timeseries = []\n",
        "            for t in range(seq_len):\n",
        "                emb_timeseries.append(feat_layer(x[:, t, :]))\n",
        "            # print(torch.stack(emb_timeseries, dim=1).shape) => (BATCH_SIZE, SEQ_LEN, FEAT_DIM)\n",
        "            embs.append(torch.stack(emb_timeseries, dim=1))\n",
        "\n",
        "        embs = torch.cat(embs, dim=2)  # (BATCH_SIZE, SEQ_LEN, EMBEDDING_DIM*len(FEAT_DIMS))\n",
        "\n",
        "        lstm_output, (h_n, c_n) = self._lstm(embs)  # lstm_output.shape = (BATCH_SIZE, SEQ_LEN, gauss_component_n)\n",
        "\n",
        "        y_pred = self.pred(lstm_output)\n",
        "        return y_pred\n",
        "        \n",
        "    def gaussian_mixture(self, lstm_output):\n",
        "        means = lstm_output * self._z_mu  # (BATCH_SIZE, SEQ_LEN, gauss_component_n)\n",
        "        sigmas = torch.exp(lstm_output * self._z_sigma)  # (BATCH_SIZE, SEQ_LEN, gauss_component_n)\n",
        "        ps = torch.exp(lstm_output * self._z_p) / (lstm_output * self._z_p).sum(axis=2, keepdim=True)  # (BATCH_SIZE, SEQ_LEN, gauss_component_n)\n",
        "\n",
        "        return means, sigmas, ps\n",
        "\n",
        "    def pred(self, lstm_output):\n",
        "        means, sigmas, ps = self.gaussian_mixture(lstm_output)\n",
        "        y_pred = (ps*torch.exp(-0.5*(lstm_output-means)/sigmas)).sum(axis=2)\n",
        "\n",
        "        return y_pred\n",
        "\n",
        "    def loss(self, y, y_pred):\n",
        "        return ((y - y_pred).abs() / y).mean()"
      ],
      "execution_count": 0,
      "outputs": []
    },
    {
      "cell_type": "code",
      "metadata": {
        "id": "AGC54edYxHIj",
        "colab_type": "code",
        "colab": {}
      },
      "source": [
        ""
      ],
      "execution_count": 0,
      "outputs": []
    },
    {
      "cell_type": "code",
      "metadata": {
        "id": "RiU0J-C-xHF5",
        "colab_type": "code",
        "colab": {}
      },
      "source": [
        "EMBEDDING_DIM = 4"
      ],
      "execution_count": 0,
      "outputs": []
    },
    {
      "cell_type": "code",
      "metadata": {
        "id": "JqpDd9uIp_oZ",
        "colab_type": "code",
        "colab": {}
      },
      "source": [
        "armdn = ARMDN(\n",
        "    feat_dims=FEAT_DIMS,\n",
        "    embedding_dim=EMBEDDING_DIM,\n",
        "    gauss_component_n=10,\n",
        ")"
      ],
      "execution_count": 0,
      "outputs": []
    },
    {
      "cell_type": "code",
      "metadata": {
        "id": "kb0qu3URudSH",
        "colab_type": "code",
        "colab": {}
      },
      "source": [
        ""
      ],
      "execution_count": 0,
      "outputs": []
    },
    {
      "cell_type": "code",
      "metadata": {
        "id": "snNk-7rQudPO",
        "colab_type": "code",
        "colab": {}
      },
      "source": [
        "BATCH_SIZE = 32"
      ],
      "execution_count": 0,
      "outputs": []
    },
    {
      "cell_type": "code",
      "metadata": {
        "id": "byLDFdckDSmw",
        "colab_type": "code",
        "colab": {}
      },
      "source": [
        "X = (\n",
        "    X_feat_group1_tensor[:BATCH_SIZE],\n",
        "    X_feat_group2_tensor[:BATCH_SIZE],\n",
        "    X_feat_group3_tensor[:BATCH_SIZE],\n",
        "    X_feat_group4_tensor[:BATCH_SIZE]\n",
        ")"
      ],
      "execution_count": 0,
      "outputs": []
    },
    {
      "cell_type": "code",
      "metadata": {
        "id": "nlxjzncDqBzw",
        "colab_type": "code",
        "colab": {}
      },
      "source": [
        "out = armdn(X)"
      ],
      "execution_count": 0,
      "outputs": []
    },
    {
      "cell_type": "code",
      "metadata": {
        "id": "XLjzKymsqgZ4",
        "colab_type": "code",
        "colab": {
          "base_uri": "https://localhost:8080/",
          "height": 34
        },
        "outputId": "e8842b6f-58ea-446e-acb2-7ef81c53d30a"
      },
      "source": [
        "out.shape  # (BATCH_SIZE, SEQ_LEN)"
      ],
      "execution_count": 281,
      "outputs": [
        {
          "output_type": "execute_result",
          "data": {
            "text/plain": [
              "torch.Size([32, 50])"
            ]
          },
          "metadata": {
            "tags": []
          },
          "execution_count": 281
        }
      ]
    },
    {
      "cell_type": "code",
      "metadata": {
        "id": "jGP-ZRcPCkrL",
        "colab_type": "code",
        "colab": {
          "base_uri": "https://localhost:8080/",
          "height": 34
        },
        "outputId": "d1c01012-ac9c-4a3f-e0e5-6e2934e39d6f"
      },
      "source": [
        "y_tensor[:BATCH_SIZE].shape"
      ],
      "execution_count": 282,
      "outputs": [
        {
          "output_type": "execute_result",
          "data": {
            "text/plain": [
              "torch.Size([32, 50])"
            ]
          },
          "metadata": {
            "tags": []
          },
          "execution_count": 282
        }
      ]
    },
    {
      "cell_type": "code",
      "metadata": {
        "id": "9qwdhPaIAsiS",
        "colab_type": "code",
        "colab": {
          "base_uri": "https://localhost:8080/",
          "height": 34
        },
        "outputId": "d88cbede-399b-4391-afbf-571a7cb4d096"
      },
      "source": [
        "armdn.loss(y_tensor[:BATCH_SIZE], out)"
      ],
      "execution_count": 283,
      "outputs": [
        {
          "output_type": "execute_result",
          "data": {
            "text/plain": [
              "tensor(4.7437, grad_fn=<MeanBackward0>)"
            ]
          },
          "metadata": {
            "tags": []
          },
          "execution_count": 283
        }
      ]
    },
    {
      "cell_type": "code",
      "metadata": {
        "id": "JK4WNRp_CL6y",
        "colab_type": "code",
        "colab": {}
      },
      "source": [
        ""
      ],
      "execution_count": 0,
      "outputs": []
    }
  ]
}