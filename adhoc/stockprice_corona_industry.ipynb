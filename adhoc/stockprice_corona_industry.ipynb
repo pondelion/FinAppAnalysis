{
  "nbformat": 4,
  "nbformat_minor": 0,
  "metadata": {
    "colab": {
      "name": "stockprice_corona_industry.ipynb",
      "provenance": [],
      "collapsed_sections": []
    },
    "kernelspec": {
      "name": "python3",
      "display_name": "Python 3"
    }
  },
  "cells": [
    {
      "cell_type": "code",
      "metadata": {
        "id": "w-d8kqGw4pKL",
        "colab_type": "code",
        "colab": {
          "base_uri": "https://localhost:8080/",
          "height": 187
        },
        "outputId": "3cd165d3-38ae-4908-ba67-6d1057de63c8"
      },
      "source": [
        "!pip install japanize-matplotlib"
      ],
      "execution_count": null,
      "outputs": [
        {
          "output_type": "stream",
          "text": [
            "Collecting japanize-matplotlib\n",
            "\u001b[?25l  Downloading https://files.pythonhosted.org/packages/aa/c0/b75d434be51a8cc11d2e9b36f2d7f93a1bcf63bde24dc79a61d329d60b2a/japanize-matplotlib-1.0.5.tar.gz (4.1MB)\n",
            "\u001b[K     |████████████████████████████████| 4.1MB 1.4MB/s \n",
            "\u001b[?25hBuilding wheels for collected packages: japanize-matplotlib\n",
            "  Building wheel for japanize-matplotlib (setup.py) ... \u001b[?25l\u001b[?25hdone\n",
            "  Created wheel for japanize-matplotlib: filename=japanize_matplotlib-1.0.5-cp36-none-any.whl size=4118721 sha256=4931ed074bb72784220ee7cd7426aec55eb26f0a69b88ab29cab11b8fcc3eb7a\n",
            "  Stored in directory: /root/.cache/pip/wheels/6c/8a/08/4a784957da9f3c2b4839b4986be2fba2a481877318948be52c\n",
            "Successfully built japanize-matplotlib\n",
            "Installing collected packages: japanize-matplotlib\n",
            "Successfully installed japanize-matplotlib-1.0.5\n"
          ],
          "name": "stdout"
        }
      ]
    },
    {
      "cell_type": "code",
      "metadata": {
        "id": "N2-AO-VzpPPU",
        "colab_type": "code",
        "colab": {}
      },
      "source": [
        "import os\n",
        "import pandas as pd\n",
        "import matplotlib.pyplot as plt\n",
        "from datetime import datetime\n",
        "import numpy as np\n",
        "from fastprogress import progress_bar as pb\n",
        "import japanize_matplotlib"
      ],
      "execution_count": null,
      "outputs": []
    },
    {
      "cell_type": "code",
      "metadata": {
        "id": "KCLgLqfhqwvn",
        "colab_type": "code",
        "colab": {}
      },
      "source": [
        "import warnings\n",
        "warnings.simplefilter('ignore')"
      ],
      "execution_count": null,
      "outputs": []
    },
    {
      "cell_type": "code",
      "metadata": {
        "id": "CQiqmtZjqteU",
        "colab_type": "code",
        "colab": {}
      },
      "source": [
        "STOCKPRICE_FILEPATH_FMT = 's3://fin-app/stockprice/2020/{code}.csv'"
      ],
      "execution_count": null,
      "outputs": []
    },
    {
      "cell_type": "code",
      "metadata": {
        "id": "gRBvtyYeqy_8",
        "colab_type": "code",
        "colab": {}
      },
      "source": [
        "df_stocklist = pd.read_csv('s3://fin-app/stocklist/stocklist.csv')"
      ],
      "execution_count": null,
      "outputs": []
    },
    {
      "cell_type": "code",
      "metadata": {
        "id": "u22M3LFyq7OM",
        "colab_type": "code",
        "colab": {
          "base_uri": "https://localhost:8080/",
          "height": 204
        },
        "outputId": "894521b4-7acd-40d7-f826-7bc65fe497dc"
      },
      "source": [
        "df_stocklist.head()"
      ],
      "execution_count": null,
      "outputs": [
        {
          "output_type": "execute_result",
          "data": {
            "text/html": [
              "<div>\n",
              "<style scoped>\n",
              "    .dataframe tbody tr th:only-of-type {\n",
              "        vertical-align: middle;\n",
              "    }\n",
              "\n",
              "    .dataframe tbody tr th {\n",
              "        vertical-align: top;\n",
              "    }\n",
              "\n",
              "    .dataframe thead th {\n",
              "        text-align: right;\n",
              "    }\n",
              "</style>\n",
              "<table border=\"1\" class=\"dataframe\">\n",
              "  <thead>\n",
              "    <tr style=\"text-align: right;\">\n",
              "      <th></th>\n",
              "      <th>銘柄コード</th>\n",
              "      <th>銘柄名</th>\n",
              "      <th>市場名</th>\n",
              "      <th>業種分類</th>\n",
              "      <th>単元株数</th>\n",
              "      <th>日経225採用銘柄</th>\n",
              "    </tr>\n",
              "  </thead>\n",
              "  <tbody>\n",
              "    <tr>\n",
              "      <th>0</th>\n",
              "      <td>1301</td>\n",
              "      <td>(株)極洋</td>\n",
              "      <td>東証1部</td>\n",
              "      <td>水産・農林業</td>\n",
              "      <td>100</td>\n",
              "      <td>NaN</td>\n",
              "    </tr>\n",
              "    <tr>\n",
              "      <th>1</th>\n",
              "      <td>1332</td>\n",
              "      <td>日本水産(株)</td>\n",
              "      <td>東証1部</td>\n",
              "      <td>水産・農林業</td>\n",
              "      <td>100</td>\n",
              "      <td>1.0</td>\n",
              "    </tr>\n",
              "    <tr>\n",
              "      <th>2</th>\n",
              "      <td>1333</td>\n",
              "      <td>マルハニチロ(株)</td>\n",
              "      <td>東証1部</td>\n",
              "      <td>水産・農林業</td>\n",
              "      <td>100</td>\n",
              "      <td>1.0</td>\n",
              "    </tr>\n",
              "    <tr>\n",
              "      <th>3</th>\n",
              "      <td>1352</td>\n",
              "      <td>(株)ホウスイ</td>\n",
              "      <td>東証1部</td>\n",
              "      <td>卸売業</td>\n",
              "      <td>100</td>\n",
              "      <td>NaN</td>\n",
              "    </tr>\n",
              "    <tr>\n",
              "      <th>4</th>\n",
              "      <td>1376</td>\n",
              "      <td>カネコ種苗(株)</td>\n",
              "      <td>東証1部</td>\n",
              "      <td>水産・農林業</td>\n",
              "      <td>100</td>\n",
              "      <td>NaN</td>\n",
              "    </tr>\n",
              "  </tbody>\n",
              "</table>\n",
              "</div>"
            ],
            "text/plain": [
              "   銘柄コード        銘柄名   市場名    業種分類 単元株数  日経225採用銘柄\n",
              "0   1301      (株)極洋  東証1部  水産・農林業  100        NaN\n",
              "1   1332    日本水産(株)  東証1部  水産・農林業  100        1.0\n",
              "2   1333  マルハニチロ(株)  東証1部  水産・農林業  100        1.0\n",
              "3   1352    (株)ホウスイ  東証1部     卸売業  100        NaN\n",
              "4   1376   カネコ種苗(株)  東証1部  水産・農林業  100        NaN"
            ]
          },
          "metadata": {
            "tags": []
          },
          "execution_count": 6
        }
      ]
    },
    {
      "cell_type": "code",
      "metadata": {
        "id": "zfCccWWHq9yc",
        "colab_type": "code",
        "colab": {}
      },
      "source": [
        "codes = df_stocklist['銘柄コード'].unique()"
      ],
      "execution_count": null,
      "outputs": []
    },
    {
      "cell_type": "code",
      "metadata": {
        "id": "B7GoxNJRq_t0",
        "colab_type": "code",
        "colab": {
          "base_uri": "https://localhost:8080/",
          "height": 34
        },
        "outputId": "78798249-1fee-47e6-c7bb-17dafd91e3ea"
      },
      "source": [
        "codes"
      ],
      "execution_count": null,
      "outputs": [
        {
          "output_type": "execute_result",
          "data": {
            "text/plain": [
              "array([1301, 1332, 1333, ..., 9995, 9996, 9997])"
            ]
          },
          "metadata": {
            "tags": []
          },
          "execution_count": 8
        }
      ]
    },
    {
      "cell_type": "code",
      "metadata": {
        "id": "qE77dhBarANk",
        "colab_type": "code",
        "colab": {
          "base_uri": "https://localhost:8080/",
          "height": 37
        },
        "outputId": "3c3c6822-1e14-4bb4-cb32-72ee04ec1b52"
      },
      "source": [
        "df_dict = {}\n",
        "skipped_code = []\n",
        "\n",
        "for code in pb(codes):\n",
        "    try:\n",
        "        df_dict[code] = pd.read_csv(STOCKPRICE_FILEPATH_FMT.format(code=code))\n",
        "    except Exception:\n",
        "        skipped_code.append(code)"
      ],
      "execution_count": null,
      "outputs": [
        {
          "output_type": "display_data",
          "data": {
            "text/html": [
              "\n",
              "    <div>\n",
              "        <style>\n",
              "            /* Turns off some styling */\n",
              "            progress {\n",
              "                /* gets rid of default border in Firefox and Opera. */\n",
              "                border: none;\n",
              "                /* Needs to be in here for Safari polyfill so background images work as expected. */\n",
              "                background-size: auto;\n",
              "            }\n",
              "            .progress-bar-interrupted, .progress-bar-interrupted::-webkit-progress-bar {\n",
              "                background: #F44336;\n",
              "            }\n",
              "        </style>\n",
              "      <progress value='3866' class='' max='3866', style='width:300px; height:20px; vertical-align: middle;'></progress>\n",
              "      100.00% [3866/3866 05:30<00:00]\n",
              "    </div>\n",
              "    "
            ],
            "text/plain": [
              "<IPython.core.display.HTML object>"
            ]
          },
          "metadata": {
            "tags": []
          }
        }
      ]
    },
    {
      "cell_type": "code",
      "metadata": {
        "id": "z6Xyi_0Y9rRf",
        "colab_type": "code",
        "colab": {}
      },
      "source": [
        "from google.colab import drive\n",
        "drive.mount('/content/drive')"
      ],
      "execution_count": null,
      "outputs": []
    },
    {
      "cell_type": "code",
      "metadata": {
        "id": "GRa41efv8mI_",
        "colab_type": "code",
        "colab": {
          "base_uri": "https://localhost:8080/",
          "height": 37
        },
        "outputId": "603bff7c-39b9-468f-8a6f-71985be9793a"
      },
      "source": [
        " for code, df in pb(df_dict.items()):\n",
        "     df.to_csv(f'/content/drive/My Drive/data/stockprice/2020/{code}.csv', index=None)"
      ],
      "execution_count": null,
      "outputs": [
        {
          "output_type": "display_data",
          "data": {
            "text/html": [
              "\n",
              "    <div>\n",
              "        <style>\n",
              "            /* Turns off some styling */\n",
              "            progress {\n",
              "                /* gets rid of default border in Firefox and Opera. */\n",
              "                border: none;\n",
              "                /* Needs to be in here for Safari polyfill so background images work as expected. */\n",
              "                background-size: auto;\n",
              "            }\n",
              "            .progress-bar-interrupted, .progress-bar-interrupted::-webkit-progress-bar {\n",
              "                background: #F44336;\n",
              "            }\n",
              "        </style>\n",
              "      <progress value='3814' class='' max='3814', style='width:300px; height:20px; vertical-align: middle;'></progress>\n",
              "      100.00% [3814/3814 00:21<00:00]\n",
              "    </div>\n",
              "    "
            ],
            "text/plain": [
              "<IPython.core.display.HTML object>"
            ]
          },
          "metadata": {
            "tags": []
          }
        }
      ]
    },
    {
      "cell_type": "code",
      "metadata": {
        "id": "bgskh-IZvdXg",
        "colab_type": "code",
        "colab": {}
      },
      "source": [
        " for code, df in df_dict.items():\n",
        "    df_dict[code]['日付'] = pd.to_datetime(df_dict[code]['日付'])\n",
        "    df_dict[code].set_index('日付', inplace=True)"
      ],
      "execution_count": null,
      "outputs": []
    },
    {
      "cell_type": "code",
      "metadata": {
        "id": "4ygZqM_orRGL",
        "colab_type": "code",
        "colab": {
          "base_uri": "https://localhost:8080/",
          "height": 34
        },
        "outputId": "7454fe87-3d13-4aa2-939b-3170937fbc49"
      },
      "source": [
        "len(skipped_code)"
      ],
      "execution_count": null,
      "outputs": [
        {
          "output_type": "execute_result",
          "data": {
            "text/plain": [
              "52"
            ]
          },
          "metadata": {
            "tags": []
          },
          "execution_count": 10
        }
      ]
    },
    {
      "cell_type": "code",
      "metadata": {
        "id": "3buFZaEUskn_",
        "colab_type": "code",
        "colab": {}
      },
      "source": [
        "valid_codes = list(df_dict.keys())"
      ],
      "execution_count": null,
      "outputs": []
    },
    {
      "cell_type": "code",
      "metadata": {
        "id": "iIkaGdAqs3dk",
        "colab_type": "code",
        "colab": {
          "base_uri": "https://localhost:8080/",
          "height": 450
        },
        "outputId": "7d638258-bf08-447e-ea82-d80fa408e6b8"
      },
      "source": [
        "df_dict[1301]"
      ],
      "execution_count": null,
      "outputs": [
        {
          "output_type": "execute_result",
          "data": {
            "text/html": [
              "<div>\n",
              "<style scoped>\n",
              "    .dataframe tbody tr th:only-of-type {\n",
              "        vertical-align: middle;\n",
              "    }\n",
              "\n",
              "    .dataframe tbody tr th {\n",
              "        vertical-align: top;\n",
              "    }\n",
              "\n",
              "    .dataframe thead th {\n",
              "        text-align: right;\n",
              "    }\n",
              "</style>\n",
              "<table border=\"1\" class=\"dataframe\">\n",
              "  <thead>\n",
              "    <tr style=\"text-align: right;\">\n",
              "      <th></th>\n",
              "      <th>始値</th>\n",
              "      <th>高値</th>\n",
              "      <th>安値</th>\n",
              "      <th>終値</th>\n",
              "      <th>出来高</th>\n",
              "      <th>終値調整値</th>\n",
              "    </tr>\n",
              "    <tr>\n",
              "      <th>日付</th>\n",
              "      <th></th>\n",
              "      <th></th>\n",
              "      <th></th>\n",
              "      <th></th>\n",
              "      <th></th>\n",
              "      <th></th>\n",
              "    </tr>\n",
              "  </thead>\n",
              "  <tbody>\n",
              "    <tr>\n",
              "      <th>2020-01-06</th>\n",
              "      <td>2860</td>\n",
              "      <td>2873</td>\n",
              "      <td>2851</td>\n",
              "      <td>2862</td>\n",
              "      <td>25700</td>\n",
              "      <td>2862</td>\n",
              "    </tr>\n",
              "    <tr>\n",
              "      <th>2020-01-07</th>\n",
              "      <td>2864</td>\n",
              "      <td>2907</td>\n",
              "      <td>2864</td>\n",
              "      <td>2898</td>\n",
              "      <td>30300</td>\n",
              "      <td>2898</td>\n",
              "    </tr>\n",
              "    <tr>\n",
              "      <th>2020-01-08</th>\n",
              "      <td>2892</td>\n",
              "      <td>2908</td>\n",
              "      <td>2855</td>\n",
              "      <td>2903</td>\n",
              "      <td>30300</td>\n",
              "      <td>2903</td>\n",
              "    </tr>\n",
              "    <tr>\n",
              "      <th>2020-01-09</th>\n",
              "      <td>2911</td>\n",
              "      <td>2949</td>\n",
              "      <td>2911</td>\n",
              "      <td>2933</td>\n",
              "      <td>31500</td>\n",
              "      <td>2933</td>\n",
              "    </tr>\n",
              "    <tr>\n",
              "      <th>2020-01-10</th>\n",
              "      <td>2940</td>\n",
              "      <td>2942</td>\n",
              "      <td>2924</td>\n",
              "      <td>2932</td>\n",
              "      <td>11600</td>\n",
              "      <td>2932</td>\n",
              "    </tr>\n",
              "    <tr>\n",
              "      <th>...</th>\n",
              "      <td>...</td>\n",
              "      <td>...</td>\n",
              "      <td>...</td>\n",
              "      <td>...</td>\n",
              "      <td>...</td>\n",
              "      <td>...</td>\n",
              "    </tr>\n",
              "    <tr>\n",
              "      <th>2020-04-02</th>\n",
              "      <td>2467</td>\n",
              "      <td>2539</td>\n",
              "      <td>2446</td>\n",
              "      <td>2512</td>\n",
              "      <td>44400</td>\n",
              "      <td>2512</td>\n",
              "    </tr>\n",
              "    <tr>\n",
              "      <th>2020-04-03</th>\n",
              "      <td>2481</td>\n",
              "      <td>2530</td>\n",
              "      <td>2456</td>\n",
              "      <td>2496</td>\n",
              "      <td>31300</td>\n",
              "      <td>2496</td>\n",
              "    </tr>\n",
              "    <tr>\n",
              "      <th>2020-04-06</th>\n",
              "      <td>2450</td>\n",
              "      <td>2527</td>\n",
              "      <td>2450</td>\n",
              "      <td>2504</td>\n",
              "      <td>29600</td>\n",
              "      <td>2504</td>\n",
              "    </tr>\n",
              "    <tr>\n",
              "      <th>2020-04-07</th>\n",
              "      <td>2550</td>\n",
              "      <td>2560</td>\n",
              "      <td>2495</td>\n",
              "      <td>2555</td>\n",
              "      <td>27900</td>\n",
              "      <td>2555</td>\n",
              "    </tr>\n",
              "    <tr>\n",
              "      <th>2020-04-08</th>\n",
              "      <td>2556</td>\n",
              "      <td>2631</td>\n",
              "      <td>2532</td>\n",
              "      <td>2597</td>\n",
              "      <td>40500</td>\n",
              "      <td>2597</td>\n",
              "    </tr>\n",
              "  </tbody>\n",
              "</table>\n",
              "<p>64 rows × 6 columns</p>\n",
              "</div>"
            ],
            "text/plain": [
              "              始値    高値    安値    終値    出来高  終値調整値\n",
              "日付                                              \n",
              "2020-01-06  2860  2873  2851  2862  25700   2862\n",
              "2020-01-07  2864  2907  2864  2898  30300   2898\n",
              "2020-01-08  2892  2908  2855  2903  30300   2903\n",
              "2020-01-09  2911  2949  2911  2933  31500   2933\n",
              "2020-01-10  2940  2942  2924  2932  11600   2932\n",
              "...          ...   ...   ...   ...    ...    ...\n",
              "2020-04-02  2467  2539  2446  2512  44400   2512\n",
              "2020-04-03  2481  2530  2456  2496  31300   2496\n",
              "2020-04-06  2450  2527  2450  2504  29600   2504\n",
              "2020-04-07  2550  2560  2495  2555  27900   2555\n",
              "2020-04-08  2556  2631  2532  2597  40500   2597\n",
              "\n",
              "[64 rows x 6 columns]"
            ]
          },
          "metadata": {
            "tags": []
          },
          "execution_count": 18
        }
      ]
    },
    {
      "cell_type": "code",
      "metadata": {
        "id": "t04jfdSVs7mT",
        "colab_type": "code",
        "colab": {}
      },
      "source": [
        "CHANGE_RATE_DATES = [\n",
        "    ['2020-01-01', '2020-04-08'],\n",
        "    ['2020-02-01', '2020-03-01'],\n",
        "    ['2020-03-01', '2020-04-08'],\n",
        "    ['2020-02-01', '2020-04-08'],\n",
        "    ['2020-02-15', '2020-03-15'],\n",
        "]"
      ],
      "execution_count": null,
      "outputs": []
    },
    {
      "cell_type": "code",
      "metadata": {
        "id": "G_dtm72qt86W",
        "colab_type": "code",
        "colab": {
          "base_uri": "https://localhost:8080/",
          "height": 37
        },
        "outputId": "efb6a912-8d56-43fd-8f85-177c9fc70569"
      },
      "source": [
        "change_rates = {}\n",
        "\n",
        "for dt_start, dt_end in pb(CHANGE_RATE_DATES):\n",
        "    dt_tag = dt_start.replace('-', '') + '_' + dt_end.replace('-', '')\n",
        "    dt_start = datetime.strptime(dt_start, \"%Y-%m-%d\")\n",
        "    dt_end = datetime.strptime(dt_end, \"%Y-%m-%d\")\n",
        "\n",
        "    crs = []\n",
        "    for code in valid_codes:\n",
        "        df_price = df_dict[code]\n",
        "\n",
        "        dt_min = df_price[df_price.index >= dt_start].index.min()\n",
        "        dt_max = df_price[df_price.index <= dt_end].index.max()\n",
        "\n",
        "        if abs((dt_min - dt_start).days) > 7 or abs((dt_max - dt_end).days) > 7:\n",
        "            crs.append(None)\n",
        "            continue\n",
        "        \n",
        "        cr = (df_price.loc[dt_max]['終値'] - df_price.loc[dt_min]['終値']) / df_price.loc[dt_min]['終値']\n",
        "        crs.append(cr)\n",
        "    \n",
        "    change_rates[dt_tag] = crs"
      ],
      "execution_count": null,
      "outputs": [
        {
          "output_type": "display_data",
          "data": {
            "text/html": [
              "\n",
              "    <div>\n",
              "        <style>\n",
              "            /* Turns off some styling */\n",
              "            progress {\n",
              "                /* gets rid of default border in Firefox and Opera. */\n",
              "                border: none;\n",
              "                /* Needs to be in here for Safari polyfill so background images work as expected. */\n",
              "                background-size: auto;\n",
              "            }\n",
              "            .progress-bar-interrupted, .progress-bar-interrupted::-webkit-progress-bar {\n",
              "                background: #F44336;\n",
              "            }\n",
              "        </style>\n",
              "      <progress value='5' class='' max='5', style='width:300px; height:20px; vertical-align: middle;'></progress>\n",
              "      100.00% [5/5 00:34<00:00]\n",
              "    </div>\n",
              "    "
            ],
            "text/plain": [
              "<IPython.core.display.HTML object>"
            ]
          },
          "metadata": {
            "tags": []
          }
        }
      ]
    },
    {
      "cell_type": "code",
      "metadata": {
        "id": "y9xx59LK0p1h",
        "colab_type": "code",
        "colab": {}
      },
      "source": [
        "change_rates['code'] = valid_codes"
      ],
      "execution_count": null,
      "outputs": []
    },
    {
      "cell_type": "code",
      "metadata": {
        "id": "9FrQph1X0XT7",
        "colab_type": "code",
        "colab": {}
      },
      "source": [
        "df_change_rate = pd.DataFrame(change_rates)"
      ],
      "execution_count": null,
      "outputs": []
    },
    {
      "cell_type": "code",
      "metadata": {
        "id": "O2l4Htdb0zOC",
        "colab_type": "code",
        "colab": {
          "base_uri": "https://localhost:8080/",
          "height": 419
        },
        "outputId": "1b452b22-a265-489c-a4be-62e77dd48832"
      },
      "source": [
        "df_change_rate"
      ],
      "execution_count": null,
      "outputs": [
        {
          "output_type": "execute_result",
          "data": {
            "text/html": [
              "<div>\n",
              "<style scoped>\n",
              "    .dataframe tbody tr th:only-of-type {\n",
              "        vertical-align: middle;\n",
              "    }\n",
              "\n",
              "    .dataframe tbody tr th {\n",
              "        vertical-align: top;\n",
              "    }\n",
              "\n",
              "    .dataframe thead th {\n",
              "        text-align: right;\n",
              "    }\n",
              "</style>\n",
              "<table border=\"1\" class=\"dataframe\">\n",
              "  <thead>\n",
              "    <tr style=\"text-align: right;\">\n",
              "      <th></th>\n",
              "      <th>20200101_20200408</th>\n",
              "      <th>20200201_20200301</th>\n",
              "      <th>20200301_20200408</th>\n",
              "      <th>20200201_20200408</th>\n",
              "      <th>20200215_20200315</th>\n",
              "      <th>code</th>\n",
              "    </tr>\n",
              "  </thead>\n",
              "  <tbody>\n",
              "    <tr>\n",
              "      <th>0</th>\n",
              "      <td>-0.092593</td>\n",
              "      <td>-0.087080</td>\n",
              "      <td>-0.023684</td>\n",
              "      <td>-0.080708</td>\n",
              "      <td>-0.195148</td>\n",
              "      <td>1301</td>\n",
              "    </tr>\n",
              "    <tr>\n",
              "      <th>1</th>\n",
              "      <td>-0.252782</td>\n",
              "      <td>-0.142617</td>\n",
              "      <td>-0.111531</td>\n",
              "      <td>-0.211409</td>\n",
              "      <td>-0.332792</td>\n",
              "      <td>1332</td>\n",
              "    </tr>\n",
              "    <tr>\n",
              "      <th>2</th>\n",
              "      <td>-0.149814</td>\n",
              "      <td>-0.144260</td>\n",
              "      <td>-0.007809</td>\n",
              "      <td>-0.136329</td>\n",
              "      <td>-0.265266</td>\n",
              "      <td>1333</td>\n",
              "    </tr>\n",
              "    <tr>\n",
              "      <th>3</th>\n",
              "      <td>-0.186927</td>\n",
              "      <td>-0.153680</td>\n",
              "      <td>-0.074413</td>\n",
              "      <td>-0.232684</td>\n",
              "      <td>-0.259681</td>\n",
              "      <td>1352</td>\n",
              "    </tr>\n",
              "    <tr>\n",
              "      <th>4</th>\n",
              "      <td>0.035714</td>\n",
              "      <td>-0.099530</td>\n",
              "      <td>0.216443</td>\n",
              "      <td>0.136364</td>\n",
              "      <td>-0.331849</td>\n",
              "      <td>1376</td>\n",
              "    </tr>\n",
              "    <tr>\n",
              "      <th>...</th>\n",
              "      <td>...</td>\n",
              "      <td>...</td>\n",
              "      <td>...</td>\n",
              "      <td>...</td>\n",
              "      <td>...</td>\n",
              "      <td>...</td>\n",
              "    </tr>\n",
              "    <tr>\n",
              "      <th>3809</th>\n",
              "      <td>-0.069412</td>\n",
              "      <td>-0.134399</td>\n",
              "      <td>0.040789</td>\n",
              "      <td>-0.063351</td>\n",
              "      <td>-0.271862</td>\n",
              "      <td>9993</td>\n",
              "    </tr>\n",
              "    <tr>\n",
              "      <th>3810</th>\n",
              "      <td>-0.106561</td>\n",
              "      <td>-0.070302</td>\n",
              "      <td>-0.057594</td>\n",
              "      <td>-0.085624</td>\n",
              "      <td>-0.154644</td>\n",
              "      <td>9994</td>\n",
              "    </tr>\n",
              "    <tr>\n",
              "      <th>3811</th>\n",
              "      <td>-0.155361</td>\n",
              "      <td>-0.101124</td>\n",
              "      <td>-0.063107</td>\n",
              "      <td>-0.132584</td>\n",
              "      <td>-0.186364</td>\n",
              "      <td>9995</td>\n",
              "    </tr>\n",
              "    <tr>\n",
              "      <th>3812</th>\n",
              "      <td>-0.126870</td>\n",
              "      <td>-0.045906</td>\n",
              "      <td>-0.075997</td>\n",
              "      <td>-0.094913</td>\n",
              "      <td>-0.146951</td>\n",
              "      <td>9996</td>\n",
              "    </tr>\n",
              "    <tr>\n",
              "      <th>3813</th>\n",
              "      <td>-0.331437</td>\n",
              "      <td>-0.122977</td>\n",
              "      <td>-0.181185</td>\n",
              "      <td>-0.239482</td>\n",
              "      <td>-0.316720</td>\n",
              "      <td>9997</td>\n",
              "    </tr>\n",
              "  </tbody>\n",
              "</table>\n",
              "<p>3814 rows × 6 columns</p>\n",
              "</div>"
            ],
            "text/plain": [
              "      20200101_20200408  20200201_20200301  ...  20200215_20200315  code\n",
              "0             -0.092593          -0.087080  ...          -0.195148  1301\n",
              "1             -0.252782          -0.142617  ...          -0.332792  1332\n",
              "2             -0.149814          -0.144260  ...          -0.265266  1333\n",
              "3             -0.186927          -0.153680  ...          -0.259681  1352\n",
              "4              0.035714          -0.099530  ...          -0.331849  1376\n",
              "...                 ...                ...  ...                ...   ...\n",
              "3809          -0.069412          -0.134399  ...          -0.271862  9993\n",
              "3810          -0.106561          -0.070302  ...          -0.154644  9994\n",
              "3811          -0.155361          -0.101124  ...          -0.186364  9995\n",
              "3812          -0.126870          -0.045906  ...          -0.146951  9996\n",
              "3813          -0.331437          -0.122977  ...          -0.316720  9997\n",
              "\n",
              "[3814 rows x 6 columns]"
            ]
          },
          "metadata": {
            "tags": []
          },
          "execution_count": 36
        }
      ]
    },
    {
      "cell_type": "code",
      "metadata": {
        "id": "Mse_fFY61wqq",
        "colab_type": "code",
        "colab": {
          "base_uri": "https://localhost:8080/",
          "height": 238
        },
        "outputId": "ef1c304c-b934-4979-aab4-28f6da55a67f"
      },
      "source": [
        "df_change_rate.isnull().sum()"
      ],
      "execution_count": null,
      "outputs": [
        {
          "output_type": "execute_result",
          "data": {
            "text/plain": [
              "20200101_20200408      24\n",
              "20200201_20200301       8\n",
              "20200301_20200408      15\n",
              "20200201_20200408      21\n",
              "20200215_20200315       9\n",
              "code                    0\n",
              "銘柄コード                   0\n",
              "銘柄名                     0\n",
              "市場名                    21\n",
              "業種分類                    0\n",
              "単元株数                    0\n",
              "日経225採用銘柄            3589\n",
              "dtype: int64"
            ]
          },
          "metadata": {
            "tags": []
          },
          "execution_count": 34
        }
      ]
    },
    {
      "cell_type": "code",
      "metadata": {
        "id": "yrvi30Hp2Csy",
        "colab_type": "code",
        "colab": {}
      },
      "source": [
        "df_change_rate.dropna(how='any', inplace=True)"
      ],
      "execution_count": null,
      "outputs": []
    },
    {
      "cell_type": "code",
      "metadata": {
        "id": "Fr3jrFr800l7",
        "colab_type": "code",
        "colab": {}
      },
      "source": [
        "df_change_rate = pd.merge(df_change_rate, df_stocklist, how='left', left_on='code', right_on='銘柄コード')"
      ],
      "execution_count": null,
      "outputs": []
    },
    {
      "cell_type": "code",
      "metadata": {
        "id": "O7J3UXgb1h3B",
        "colab_type": "code",
        "colab": {
          "base_uri": "https://localhost:8080/",
          "height": 606
        },
        "outputId": "b5582d77-f50c-4819-d8ad-9e5e74d370f7"
      },
      "source": [
        "df_change_rate"
      ],
      "execution_count": null,
      "outputs": [
        {
          "output_type": "execute_result",
          "data": {
            "text/html": [
              "<div>\n",
              "<style scoped>\n",
              "    .dataframe tbody tr th:only-of-type {\n",
              "        vertical-align: middle;\n",
              "    }\n",
              "\n",
              "    .dataframe tbody tr th {\n",
              "        vertical-align: top;\n",
              "    }\n",
              "\n",
              "    .dataframe thead th {\n",
              "        text-align: right;\n",
              "    }\n",
              "</style>\n",
              "<table border=\"1\" class=\"dataframe\">\n",
              "  <thead>\n",
              "    <tr style=\"text-align: right;\">\n",
              "      <th></th>\n",
              "      <th>20200101_20200408</th>\n",
              "      <th>20200201_20200301</th>\n",
              "      <th>20200301_20200408</th>\n",
              "      <th>20200201_20200408</th>\n",
              "      <th>20200215_20200315</th>\n",
              "      <th>code</th>\n",
              "      <th>銘柄コード</th>\n",
              "      <th>銘柄名</th>\n",
              "      <th>市場名</th>\n",
              "      <th>業種分類</th>\n",
              "      <th>単元株数</th>\n",
              "      <th>日経225採用銘柄</th>\n",
              "    </tr>\n",
              "  </thead>\n",
              "  <tbody>\n",
              "    <tr>\n",
              "      <th>0</th>\n",
              "      <td>-0.092593</td>\n",
              "      <td>-0.087080</td>\n",
              "      <td>-0.023684</td>\n",
              "      <td>-0.080708</td>\n",
              "      <td>-0.195148</td>\n",
              "      <td>1301</td>\n",
              "      <td>1301</td>\n",
              "      <td>(株)極洋</td>\n",
              "      <td>東証1部</td>\n",
              "      <td>水産・農林業</td>\n",
              "      <td>100</td>\n",
              "      <td>NaN</td>\n",
              "    </tr>\n",
              "    <tr>\n",
              "      <th>1</th>\n",
              "      <td>-0.252782</td>\n",
              "      <td>-0.142617</td>\n",
              "      <td>-0.111531</td>\n",
              "      <td>-0.211409</td>\n",
              "      <td>-0.332792</td>\n",
              "      <td>1332</td>\n",
              "      <td>1332</td>\n",
              "      <td>日本水産(株)</td>\n",
              "      <td>東証1部</td>\n",
              "      <td>水産・農林業</td>\n",
              "      <td>100</td>\n",
              "      <td>1.0</td>\n",
              "    </tr>\n",
              "    <tr>\n",
              "      <th>2</th>\n",
              "      <td>-0.149814</td>\n",
              "      <td>-0.144260</td>\n",
              "      <td>-0.007809</td>\n",
              "      <td>-0.136329</td>\n",
              "      <td>-0.265266</td>\n",
              "      <td>1333</td>\n",
              "      <td>1333</td>\n",
              "      <td>マルハニチロ(株)</td>\n",
              "      <td>東証1部</td>\n",
              "      <td>水産・農林業</td>\n",
              "      <td>100</td>\n",
              "      <td>1.0</td>\n",
              "    </tr>\n",
              "    <tr>\n",
              "      <th>3</th>\n",
              "      <td>-0.186927</td>\n",
              "      <td>-0.153680</td>\n",
              "      <td>-0.074413</td>\n",
              "      <td>-0.232684</td>\n",
              "      <td>-0.259681</td>\n",
              "      <td>1352</td>\n",
              "      <td>1352</td>\n",
              "      <td>(株)ホウスイ</td>\n",
              "      <td>東証1部</td>\n",
              "      <td>卸売業</td>\n",
              "      <td>100</td>\n",
              "      <td>NaN</td>\n",
              "    </tr>\n",
              "    <tr>\n",
              "      <th>4</th>\n",
              "      <td>0.035714</td>\n",
              "      <td>-0.099530</td>\n",
              "      <td>0.216443</td>\n",
              "      <td>0.136364</td>\n",
              "      <td>-0.331849</td>\n",
              "      <td>1376</td>\n",
              "      <td>1376</td>\n",
              "      <td>カネコ種苗(株)</td>\n",
              "      <td>東証1部</td>\n",
              "      <td>水産・農林業</td>\n",
              "      <td>100</td>\n",
              "      <td>NaN</td>\n",
              "    </tr>\n",
              "    <tr>\n",
              "      <th>...</th>\n",
              "      <td>...</td>\n",
              "      <td>...</td>\n",
              "      <td>...</td>\n",
              "      <td>...</td>\n",
              "      <td>...</td>\n",
              "      <td>...</td>\n",
              "      <td>...</td>\n",
              "      <td>...</td>\n",
              "      <td>...</td>\n",
              "      <td>...</td>\n",
              "      <td>...</td>\n",
              "      <td>...</td>\n",
              "    </tr>\n",
              "    <tr>\n",
              "      <th>3776</th>\n",
              "      <td>-0.069412</td>\n",
              "      <td>-0.134399</td>\n",
              "      <td>0.040789</td>\n",
              "      <td>-0.063351</td>\n",
              "      <td>-0.271862</td>\n",
              "      <td>9993</td>\n",
              "      <td>9993</td>\n",
              "      <td>(株)ヤマザワ</td>\n",
              "      <td>東証1部</td>\n",
              "      <td>小売業</td>\n",
              "      <td>100</td>\n",
              "      <td>NaN</td>\n",
              "    </tr>\n",
              "    <tr>\n",
              "      <th>3777</th>\n",
              "      <td>-0.106561</td>\n",
              "      <td>-0.070302</td>\n",
              "      <td>-0.057594</td>\n",
              "      <td>-0.085624</td>\n",
              "      <td>-0.154644</td>\n",
              "      <td>9994</td>\n",
              "      <td>9994</td>\n",
              "      <td>(株)やまや</td>\n",
              "      <td>東証1部</td>\n",
              "      <td>小売業</td>\n",
              "      <td>100</td>\n",
              "      <td>NaN</td>\n",
              "    </tr>\n",
              "    <tr>\n",
              "      <th>3778</th>\n",
              "      <td>-0.155361</td>\n",
              "      <td>-0.101124</td>\n",
              "      <td>-0.063107</td>\n",
              "      <td>-0.132584</td>\n",
              "      <td>-0.186364</td>\n",
              "      <td>9995</td>\n",
              "      <td>9995</td>\n",
              "      <td>(株)グローセル</td>\n",
              "      <td>東証1部</td>\n",
              "      <td>卸売業</td>\n",
              "      <td>100</td>\n",
              "      <td>NaN</td>\n",
              "    </tr>\n",
              "    <tr>\n",
              "      <th>3779</th>\n",
              "      <td>-0.126870</td>\n",
              "      <td>-0.045906</td>\n",
              "      <td>-0.075997</td>\n",
              "      <td>-0.094913</td>\n",
              "      <td>-0.146951</td>\n",
              "      <td>9996</td>\n",
              "      <td>9996</td>\n",
              "      <td>(株)サトー商会</td>\n",
              "      <td>東証JQS</td>\n",
              "      <td>卸売業</td>\n",
              "      <td>100</td>\n",
              "      <td>NaN</td>\n",
              "    </tr>\n",
              "    <tr>\n",
              "      <th>3780</th>\n",
              "      <td>-0.331437</td>\n",
              "      <td>-0.122977</td>\n",
              "      <td>-0.181185</td>\n",
              "      <td>-0.239482</td>\n",
              "      <td>-0.316720</td>\n",
              "      <td>9997</td>\n",
              "      <td>9997</td>\n",
              "      <td>(株)ベルーナ</td>\n",
              "      <td>東証1部</td>\n",
              "      <td>小売業</td>\n",
              "      <td>100</td>\n",
              "      <td>NaN</td>\n",
              "    </tr>\n",
              "  </tbody>\n",
              "</table>\n",
              "<p>3781 rows × 12 columns</p>\n",
              "</div>"
            ],
            "text/plain": [
              "      20200101_20200408  20200201_20200301  ...  単元株数  日経225採用銘柄\n",
              "0             -0.092593          -0.087080  ...   100        NaN\n",
              "1             -0.252782          -0.142617  ...   100        1.0\n",
              "2             -0.149814          -0.144260  ...   100        1.0\n",
              "3             -0.186927          -0.153680  ...   100        NaN\n",
              "4              0.035714          -0.099530  ...   100        NaN\n",
              "...                 ...                ...  ...   ...        ...\n",
              "3776          -0.069412          -0.134399  ...   100        NaN\n",
              "3777          -0.106561          -0.070302  ...   100        NaN\n",
              "3778          -0.155361          -0.101124  ...   100        NaN\n",
              "3779          -0.126870          -0.045906  ...   100        NaN\n",
              "3780          -0.331437          -0.122977  ...   100        NaN\n",
              "\n",
              "[3781 rows x 12 columns]"
            ]
          },
          "metadata": {
            "tags": []
          },
          "execution_count": 39
        }
      ]
    },
    {
      "cell_type": "code",
      "metadata": {
        "id": "fGks8JRl1nMp",
        "colab_type": "code",
        "colab": {
          "base_uri": "https://localhost:8080/",
          "height": 708
        },
        "outputId": "ac084b66-e1d3-4dbb-8230-49cb33f96bd8"
      },
      "source": [
        "df_change_rate.sort_values(by='20200101_20200408')"
      ],
      "execution_count": null,
      "outputs": [
        {
          "output_type": "execute_result",
          "data": {
            "text/html": [
              "<div>\n",
              "<style scoped>\n",
              "    .dataframe tbody tr th:only-of-type {\n",
              "        vertical-align: middle;\n",
              "    }\n",
              "\n",
              "    .dataframe tbody tr th {\n",
              "        vertical-align: top;\n",
              "    }\n",
              "\n",
              "    .dataframe thead th {\n",
              "        text-align: right;\n",
              "    }\n",
              "</style>\n",
              "<table border=\"1\" class=\"dataframe\">\n",
              "  <thead>\n",
              "    <tr style=\"text-align: right;\">\n",
              "      <th></th>\n",
              "      <th>20200101_20200408</th>\n",
              "      <th>20200201_20200301</th>\n",
              "      <th>20200301_20200408</th>\n",
              "      <th>20200201_20200408</th>\n",
              "      <th>20200215_20200315</th>\n",
              "      <th>code</th>\n",
              "      <th>銘柄コード</th>\n",
              "      <th>銘柄名</th>\n",
              "      <th>市場名</th>\n",
              "      <th>業種分類</th>\n",
              "      <th>単元株数</th>\n",
              "      <th>日経225採用銘柄</th>\n",
              "    </tr>\n",
              "  </thead>\n",
              "  <tbody>\n",
              "    <tr>\n",
              "      <th>885</th>\n",
              "      <td>-0.821235</td>\n",
              "      <td>-0.179979</td>\n",
              "      <td>-0.795285</td>\n",
              "      <td>-0.824281</td>\n",
              "      <td>-0.339708</td>\n",
              "      <td>3563</td>\n",
              "      <td>3563</td>\n",
              "      <td>(株)スシローグローバルホールディングス</td>\n",
              "      <td>東証1部</td>\n",
              "      <td>小売業</td>\n",
              "      <td>100</td>\n",
              "      <td>NaN</td>\n",
              "    </tr>\n",
              "    <tr>\n",
              "      <th>3590</th>\n",
              "      <td>-0.816138</td>\n",
              "      <td>-0.348227</td>\n",
              "      <td>-0.670284</td>\n",
              "      <td>-0.773759</td>\n",
              "      <td>-0.511530</td>\n",
              "      <td>9625</td>\n",
              "      <td>9625</td>\n",
              "      <td>(株)セレスポ</td>\n",
              "      <td>東証JQS</td>\n",
              "      <td>サービス業</td>\n",
              "      <td>100</td>\n",
              "      <td>NaN</td>\n",
              "    </tr>\n",
              "    <tr>\n",
              "      <th>212</th>\n",
              "      <td>-0.781732</td>\n",
              "      <td>-0.627078</td>\n",
              "      <td>-0.362319</td>\n",
              "      <td>-0.766841</td>\n",
              "      <td>-0.758027</td>\n",
              "      <td>2157</td>\n",
              "      <td>2157</td>\n",
              "      <td>(株)コシダカホールディングス</td>\n",
              "      <td>東証1部</td>\n",
              "      <td>サービス業</td>\n",
              "      <td>100</td>\n",
              "      <td>NaN</td>\n",
              "    </tr>\n",
              "    <tr>\n",
              "      <th>3546</th>\n",
              "      <td>-0.776409</td>\n",
              "      <td>-0.064698</td>\n",
              "      <td>-0.757670</td>\n",
              "      <td>-0.760056</td>\n",
              "      <td>-0.256131</td>\n",
              "      <td>9470</td>\n",
              "      <td>9470</td>\n",
              "      <td>(株)学研ホールディングス</td>\n",
              "      <td>東証1部</td>\n",
              "      <td>情報・通信</td>\n",
              "      <td>100</td>\n",
              "      <td>NaN</td>\n",
              "    </tr>\n",
              "    <tr>\n",
              "      <th>676</th>\n",
              "      <td>-0.736292</td>\n",
              "      <td>-0.293118</td>\n",
              "      <td>-0.450490</td>\n",
              "      <td>-0.570943</td>\n",
              "      <td>-0.466964</td>\n",
              "      <td>3223</td>\n",
              "      <td>3223</td>\n",
              "      <td>(株)エスエルディー</td>\n",
              "      <td>東証JQS</td>\n",
              "      <td>小売業</td>\n",
              "      <td>100</td>\n",
              "      <td>NaN</td>\n",
              "    </tr>\n",
              "    <tr>\n",
              "      <th>...</th>\n",
              "      <td>...</td>\n",
              "      <td>...</td>\n",
              "      <td>...</td>\n",
              "      <td>...</td>\n",
              "      <td>...</td>\n",
              "      <td>...</td>\n",
              "      <td>...</td>\n",
              "      <td>...</td>\n",
              "      <td>...</td>\n",
              "      <td>...</td>\n",
              "      <td>...</td>\n",
              "      <td>...</td>\n",
              "    </tr>\n",
              "    <tr>\n",
              "      <th>1367</th>\n",
              "      <td>1.085142</td>\n",
              "      <td>0.450000</td>\n",
              "      <td>0.236634</td>\n",
              "      <td>0.921538</td>\n",
              "      <td>-0.056800</td>\n",
              "      <td>4488</td>\n",
              "      <td>4488</td>\n",
              "      <td>ＡＩ　ｉｎｓｉｄｅ(株)</td>\n",
              "      <td>NaN</td>\n",
              "      <td>情報・通信</td>\n",
              "      <td>100</td>\n",
              "      <td>NaN</td>\n",
              "    </tr>\n",
              "    <tr>\n",
              "      <th>1330</th>\n",
              "      <td>1.166667</td>\n",
              "      <td>0.087369</td>\n",
              "      <td>0.441062</td>\n",
              "      <td>0.753086</td>\n",
              "      <td>0.049715</td>\n",
              "      <td>4434</td>\n",
              "      <td>4434</td>\n",
              "      <td>(株)サーバーワークス</td>\n",
              "      <td>マザーズ</td>\n",
              "      <td>情報・通信</td>\n",
              "      <td>100</td>\n",
              "      <td>NaN</td>\n",
              "    </tr>\n",
              "    <tr>\n",
              "      <th>2902</th>\n",
              "      <td>1.282091</td>\n",
              "      <td>0.877193</td>\n",
              "      <td>-0.008350</td>\n",
              "      <td>0.860276</td>\n",
              "      <td>-0.018036</td>\n",
              "      <td>7891</td>\n",
              "      <td>7891</td>\n",
              "      <td>日本ユピカ(株)</td>\n",
              "      <td>東証JQS</td>\n",
              "      <td>化学</td>\n",
              "      <td>100</td>\n",
              "      <td>NaN</td>\n",
              "    </tr>\n",
              "    <tr>\n",
              "      <th>1404</th>\n",
              "      <td>1.790909</td>\n",
              "      <td>-0.403071</td>\n",
              "      <td>0.025042</td>\n",
              "      <td>-0.410749</td>\n",
              "      <td>-0.663462</td>\n",
              "      <td>4558</td>\n",
              "      <td>4558</td>\n",
              "      <td>(株)中京医薬品</td>\n",
              "      <td>東証JQS</td>\n",
              "      <td>医薬品</td>\n",
              "      <td>100</td>\n",
              "      <td>NaN</td>\n",
              "    </tr>\n",
              "    <tr>\n",
              "      <th>900</th>\n",
              "      <td>3.318681</td>\n",
              "      <td>-0.396769</td>\n",
              "      <td>0.115210</td>\n",
              "      <td>-0.365105</td>\n",
              "      <td>-0.630388</td>\n",
              "      <td>3604</td>\n",
              "      <td>3604</td>\n",
              "      <td>川本産業(株)</td>\n",
              "      <td>東証2部</td>\n",
              "      <td>繊維製品</td>\n",
              "      <td>100</td>\n",
              "      <td>NaN</td>\n",
              "    </tr>\n",
              "  </tbody>\n",
              "</table>\n",
              "<p>3781 rows × 12 columns</p>\n",
              "</div>"
            ],
            "text/plain": [
              "      20200101_20200408  20200201_20200301  ...  単元株数  日経225採用銘柄\n",
              "885           -0.821235          -0.179979  ...   100        NaN\n",
              "3590          -0.816138          -0.348227  ...   100        NaN\n",
              "212           -0.781732          -0.627078  ...   100        NaN\n",
              "3546          -0.776409          -0.064698  ...   100        NaN\n",
              "676           -0.736292          -0.293118  ...   100        NaN\n",
              "...                 ...                ...  ...   ...        ...\n",
              "1367           1.085142           0.450000  ...   100        NaN\n",
              "1330           1.166667           0.087369  ...   100        NaN\n",
              "2902           1.282091           0.877193  ...   100        NaN\n",
              "1404           1.790909          -0.403071  ...   100        NaN\n",
              "900            3.318681          -0.396769  ...   100        NaN\n",
              "\n",
              "[3781 rows x 12 columns]"
            ]
          },
          "metadata": {
            "tags": []
          },
          "execution_count": 40
        }
      ]
    },
    {
      "cell_type": "code",
      "metadata": {
        "id": "nfjKEguK3gwG",
        "colab_type": "code",
        "colab": {
          "base_uri": "https://localhost:8080/",
          "height": 612
        },
        "outputId": "1fa3570e-894c-43c0-e49a-ae3fa63d363e"
      },
      "source": [
        "df_change_rate['業種分類'].value_counts()"
      ],
      "execution_count": null,
      "outputs": [
        {
          "output_type": "execute_result",
          "data": {
            "text/plain": [
              "情報・通信       470\n",
              "サービス業       466\n",
              "小売業         355\n",
              "卸売業         322\n",
              "電気機器        244\n",
              "機械          229\n",
              "化学          211\n",
              "建設業         162\n",
              "不動産業        136\n",
              "食料品         126\n",
              "その他製品       108\n",
              "輸送用機器        95\n",
              "金属製品         92\n",
              "銀行業          88\n",
              "医薬品          68\n",
              "陸運業          65\n",
              "REIT銘柄一覧     63\n",
              "ガラス・土石製品     58\n",
              "繊維製品         55\n",
              "精密機器         52\n",
              "鉄鋼           45\n",
              "証券業          40\n",
              "倉庫・運輸関連業     35\n",
              "その他金融業       34\n",
              "非鉄金属         33\n",
              "パルプ・紙        26\n",
              "電気・ガス業       24\n",
              "ゴム製品         19\n",
              "保険業          14\n",
              "海運業          13\n",
              "水産・農林業       11\n",
              "石油・石炭製品      11\n",
              "鉱業            6\n",
              "空運業           5\n",
              "Name: 業種分類, dtype: int64"
            ]
          },
          "metadata": {
            "tags": []
          },
          "execution_count": 45
        }
      ]
    },
    {
      "cell_type": "code",
      "metadata": {
        "id": "CxVmmEzM16uZ",
        "colab_type": "code",
        "colab": {
          "base_uri": "https://localhost:8080/",
          "height": 1000
        },
        "outputId": "e91b6d6f-2fb9-4dfb-c6e2-032ae6ea6b08"
      },
      "source": [
        "df_change_rate.groupby(['業種分類']).mean().sort_values(by='20200201_20200408')"
      ],
      "execution_count": null,
      "outputs": [
        {
          "output_type": "execute_result",
          "data": {
            "text/html": [
              "<div>\n",
              "<style scoped>\n",
              "    .dataframe tbody tr th:only-of-type {\n",
              "        vertical-align: middle;\n",
              "    }\n",
              "\n",
              "    .dataframe tbody tr th {\n",
              "        vertical-align: top;\n",
              "    }\n",
              "\n",
              "    .dataframe thead th {\n",
              "        text-align: right;\n",
              "    }\n",
              "</style>\n",
              "<table border=\"1\" class=\"dataframe\">\n",
              "  <thead>\n",
              "    <tr style=\"text-align: right;\">\n",
              "      <th></th>\n",
              "      <th>20200101_20200408</th>\n",
              "      <th>20200201_20200301</th>\n",
              "      <th>20200301_20200408</th>\n",
              "      <th>20200201_20200408</th>\n",
              "      <th>20200215_20200315</th>\n",
              "      <th>code</th>\n",
              "      <th>銘柄コード</th>\n",
              "      <th>日経225採用銘柄</th>\n",
              "    </tr>\n",
              "    <tr>\n",
              "      <th>業種分類</th>\n",
              "      <th></th>\n",
              "      <th></th>\n",
              "      <th></th>\n",
              "      <th></th>\n",
              "      <th></th>\n",
              "      <th></th>\n",
              "      <th></th>\n",
              "      <th></th>\n",
              "    </tr>\n",
              "  </thead>\n",
              "  <tbody>\n",
              "    <tr>\n",
              "      <th>不動産業</th>\n",
              "      <td>-0.332955</td>\n",
              "      <td>-0.175007</td>\n",
              "      <td>-0.200185</td>\n",
              "      <td>-0.311142</td>\n",
              "      <td>-0.348201</td>\n",
              "      <td>5895.492647</td>\n",
              "      <td>5895.492647</td>\n",
              "      <td>1.0</td>\n",
              "    </tr>\n",
              "    <tr>\n",
              "      <th>REIT銘柄一覧</th>\n",
              "      <td>-0.296272</td>\n",
              "      <td>-0.091020</td>\n",
              "      <td>-0.240260</td>\n",
              "      <td>-0.308364</td>\n",
              "      <td>-0.317021</td>\n",
              "      <td>5488.269841</td>\n",
              "      <td>5488.269841</td>\n",
              "      <td>NaN</td>\n",
              "    </tr>\n",
              "    <tr>\n",
              "      <th>サービス業</th>\n",
              "      <td>-0.317573</td>\n",
              "      <td>-0.188181</td>\n",
              "      <td>-0.175515</td>\n",
              "      <td>-0.296540</td>\n",
              "      <td>-0.353201</td>\n",
              "      <td>5559.169528</td>\n",
              "      <td>5559.169528</td>\n",
              "      <td>1.0</td>\n",
              "    </tr>\n",
              "    <tr>\n",
              "      <th>空運業</th>\n",
              "      <td>-0.281095</td>\n",
              "      <td>-0.195494</td>\n",
              "      <td>-0.163357</td>\n",
              "      <td>-0.287364</td>\n",
              "      <td>-0.308261</td>\n",
              "      <td>9214.800000</td>\n",
              "      <td>9214.800000</td>\n",
              "      <td>1.0</td>\n",
              "    </tr>\n",
              "    <tr>\n",
              "      <th>輸送用機器</th>\n",
              "      <td>-0.304450</td>\n",
              "      <td>-0.119866</td>\n",
              "      <td>-0.185735</td>\n",
              "      <td>-0.272358</td>\n",
              "      <td>-0.288831</td>\n",
              "      <td>7051.873684</td>\n",
              "      <td>7051.873684</td>\n",
              "      <td>1.0</td>\n",
              "    </tr>\n",
              "    <tr>\n",
              "      <th>非鉄金属</th>\n",
              "      <td>-0.301338</td>\n",
              "      <td>-0.134479</td>\n",
              "      <td>-0.166437</td>\n",
              "      <td>-0.259849</td>\n",
              "      <td>-0.326215</td>\n",
              "      <td>5636.060606</td>\n",
              "      <td>5636.060606</td>\n",
              "      <td>1.0</td>\n",
              "    </tr>\n",
              "    <tr>\n",
              "      <th>その他金融業</th>\n",
              "      <td>-0.264699</td>\n",
              "      <td>-0.129731</td>\n",
              "      <td>-0.181629</td>\n",
              "      <td>-0.259239</td>\n",
              "      <td>-0.318822</td>\n",
              "      <td>7914.088235</td>\n",
              "      <td>7914.088235</td>\n",
              "      <td>1.0</td>\n",
              "    </tr>\n",
              "    <tr>\n",
              "      <th>鉄鋼</th>\n",
              "      <td>-0.273400</td>\n",
              "      <td>-0.144507</td>\n",
              "      <td>-0.139369</td>\n",
              "      <td>-0.245676</td>\n",
              "      <td>-0.318557</td>\n",
              "      <td>5586.666667</td>\n",
              "      <td>5586.666667</td>\n",
              "      <td>1.0</td>\n",
              "    </tr>\n",
              "    <tr>\n",
              "      <th>ゴム製品</th>\n",
              "      <td>-0.270691</td>\n",
              "      <td>-0.121297</td>\n",
              "      <td>-0.158506</td>\n",
              "      <td>-0.241508</td>\n",
              "      <td>-0.285866</td>\n",
              "      <td>5153.263158</td>\n",
              "      <td>5153.263158</td>\n",
              "      <td>1.0</td>\n",
              "    </tr>\n",
              "    <tr>\n",
              "      <th>電気機器</th>\n",
              "      <td>-0.268333</td>\n",
              "      <td>-0.155357</td>\n",
              "      <td>-0.133126</td>\n",
              "      <td>-0.238899</td>\n",
              "      <td>-0.327199</td>\n",
              "      <td>6769.553279</td>\n",
              "      <td>6769.553279</td>\n",
              "      <td>1.0</td>\n",
              "    </tr>\n",
              "    <tr>\n",
              "      <th>機械</th>\n",
              "      <td>-0.258993</td>\n",
              "      <td>-0.137969</td>\n",
              "      <td>-0.134102</td>\n",
              "      <td>-0.230644</td>\n",
              "      <td>-0.311167</td>\n",
              "      <td>6317.711790</td>\n",
              "      <td>6317.711790</td>\n",
              "      <td>1.0</td>\n",
              "    </tr>\n",
              "    <tr>\n",
              "      <th>その他製品</th>\n",
              "      <td>-0.229567</td>\n",
              "      <td>-0.154292</td>\n",
              "      <td>-0.118462</td>\n",
              "      <td>-0.230503</td>\n",
              "      <td>-0.301899</td>\n",
              "      <td>7823.527778</td>\n",
              "      <td>7823.527778</td>\n",
              "      <td>1.0</td>\n",
              "    </tr>\n",
              "    <tr>\n",
              "      <th>ガラス・土石製品</th>\n",
              "      <td>-0.246962</td>\n",
              "      <td>-0.135728</td>\n",
              "      <td>-0.135292</td>\n",
              "      <td>-0.230176</td>\n",
              "      <td>-0.300265</td>\n",
              "      <td>5291.172414</td>\n",
              "      <td>5291.172414</td>\n",
              "      <td>1.0</td>\n",
              "    </tr>\n",
              "    <tr>\n",
              "      <th>証券業</th>\n",
              "      <td>-0.221604</td>\n",
              "      <td>-0.127748</td>\n",
              "      <td>-0.143391</td>\n",
              "      <td>-0.229026</td>\n",
              "      <td>-0.309719</td>\n",
              "      <td>8276.175000</td>\n",
              "      <td>8276.175000</td>\n",
              "      <td>1.0</td>\n",
              "    </tr>\n",
              "    <tr>\n",
              "      <th>精密機器</th>\n",
              "      <td>-0.236780</td>\n",
              "      <td>-0.151438</td>\n",
              "      <td>-0.117010</td>\n",
              "      <td>-0.217843</td>\n",
              "      <td>-0.313656</td>\n",
              "      <td>7617.365385</td>\n",
              "      <td>7617.365385</td>\n",
              "      <td>1.0</td>\n",
              "    </tr>\n",
              "    <tr>\n",
              "      <th>金属製品</th>\n",
              "      <td>-0.235850</td>\n",
              "      <td>-0.129098</td>\n",
              "      <td>-0.124034</td>\n",
              "      <td>-0.217351</td>\n",
              "      <td>-0.281167</td>\n",
              "      <td>5403.358696</td>\n",
              "      <td>5403.358696</td>\n",
              "      <td>1.0</td>\n",
              "    </tr>\n",
              "    <tr>\n",
              "      <th>情報・通信</th>\n",
              "      <td>-0.233479</td>\n",
              "      <td>-0.149822</td>\n",
              "      <td>-0.124508</td>\n",
              "      <td>-0.214553</td>\n",
              "      <td>-0.333183</td>\n",
              "      <td>5003.782979</td>\n",
              "      <td>5003.782979</td>\n",
              "      <td>1.0</td>\n",
              "    </tr>\n",
              "    <tr>\n",
              "      <th>小売業</th>\n",
              "      <td>-0.234265</td>\n",
              "      <td>-0.151408</td>\n",
              "      <td>-0.113294</td>\n",
              "      <td>-0.213014</td>\n",
              "      <td>-0.298010</td>\n",
              "      <td>5876.633803</td>\n",
              "      <td>5876.633803</td>\n",
              "      <td>1.0</td>\n",
              "    </tr>\n",
              "    <tr>\n",
              "      <th>海運業</th>\n",
              "      <td>-0.244346</td>\n",
              "      <td>-0.109298</td>\n",
              "      <td>-0.128364</td>\n",
              "      <td>-0.204824</td>\n",
              "      <td>-0.297013</td>\n",
              "      <td>9147.692308</td>\n",
              "      <td>9147.692308</td>\n",
              "      <td>1.0</td>\n",
              "    </tr>\n",
              "    <tr>\n",
              "      <th>建設業</th>\n",
              "      <td>-0.216496</td>\n",
              "      <td>-0.134611</td>\n",
              "      <td>-0.106011</td>\n",
              "      <td>-0.203896</td>\n",
              "      <td>-0.274351</td>\n",
              "      <td>1910.049383</td>\n",
              "      <td>1910.049383</td>\n",
              "      <td>1.0</td>\n",
              "    </tr>\n",
              "    <tr>\n",
              "      <th>医薬品</th>\n",
              "      <td>-0.144771</td>\n",
              "      <td>-0.176386</td>\n",
              "      <td>-0.059241</td>\n",
              "      <td>-0.194664</td>\n",
              "      <td>-0.318921</td>\n",
              "      <td>4524.691176</td>\n",
              "      <td>4524.691176</td>\n",
              "      <td>1.0</td>\n",
              "    </tr>\n",
              "    <tr>\n",
              "      <th>繊維製品</th>\n",
              "      <td>-0.113086</td>\n",
              "      <td>-0.125980</td>\n",
              "      <td>-0.088199</td>\n",
              "      <td>-0.193517</td>\n",
              "      <td>-0.283445</td>\n",
              "      <td>4339.672727</td>\n",
              "      <td>4339.672727</td>\n",
              "      <td>1.0</td>\n",
              "    </tr>\n",
              "    <tr>\n",
              "      <th>石油・石炭製品</th>\n",
              "      <td>-0.241721</td>\n",
              "      <td>-0.111193</td>\n",
              "      <td>-0.102591</td>\n",
              "      <td>-0.187476</td>\n",
              "      <td>-0.283410</td>\n",
              "      <td>4860.636364</td>\n",
              "      <td>4860.636364</td>\n",
              "      <td>1.0</td>\n",
              "    </tr>\n",
              "    <tr>\n",
              "      <th>卸売業</th>\n",
              "      <td>-0.202426</td>\n",
              "      <td>-0.128692</td>\n",
              "      <td>-0.095668</td>\n",
              "      <td>-0.186675</td>\n",
              "      <td>-0.273380</td>\n",
              "      <td>6748.363354</td>\n",
              "      <td>6748.363354</td>\n",
              "      <td>1.0</td>\n",
              "    </tr>\n",
              "    <tr>\n",
              "      <th>保険業</th>\n",
              "      <td>-0.190797</td>\n",
              "      <td>-0.096678</td>\n",
              "      <td>-0.094182</td>\n",
              "      <td>-0.182119</td>\n",
              "      <td>-0.283533</td>\n",
              "      <td>8099.214286</td>\n",
              "      <td>8099.214286</td>\n",
              "      <td>1.0</td>\n",
              "    </tr>\n",
              "    <tr>\n",
              "      <th>化学</th>\n",
              "      <td>-0.183227</td>\n",
              "      <td>-0.128282</td>\n",
              "      <td>-0.085300</td>\n",
              "      <td>-0.179885</td>\n",
              "      <td>-0.288794</td>\n",
              "      <td>4902.317536</td>\n",
              "      <td>4902.317536</td>\n",
              "      <td>1.0</td>\n",
              "    </tr>\n",
              "    <tr>\n",
              "      <th>鉱業</th>\n",
              "      <td>-0.231690</td>\n",
              "      <td>-0.110294</td>\n",
              "      <td>-0.095649</td>\n",
              "      <td>-0.171228</td>\n",
              "      <td>-0.299153</td>\n",
              "      <td>1579.500000</td>\n",
              "      <td>1579.500000</td>\n",
              "      <td>1.0</td>\n",
              "    </tr>\n",
              "    <tr>\n",
              "      <th>銀行業</th>\n",
              "      <td>-0.198870</td>\n",
              "      <td>-0.125970</td>\n",
              "      <td>-0.040973</td>\n",
              "      <td>-0.150418</td>\n",
              "      <td>-0.300204</td>\n",
              "      <td>8252.397727</td>\n",
              "      <td>8252.397727</td>\n",
              "      <td>1.0</td>\n",
              "    </tr>\n",
              "    <tr>\n",
              "      <th>水産・農林業</th>\n",
              "      <td>-0.140200</td>\n",
              "      <td>-0.143011</td>\n",
              "      <td>-0.031529</td>\n",
              "      <td>-0.135807</td>\n",
              "      <td>-0.278000</td>\n",
              "      <td>1364.363636</td>\n",
              "      <td>1364.363636</td>\n",
              "      <td>1.0</td>\n",
              "    </tr>\n",
              "    <tr>\n",
              "      <th>パルプ・紙</th>\n",
              "      <td>-0.151777</td>\n",
              "      <td>-0.115213</td>\n",
              "      <td>-0.049708</td>\n",
              "      <td>-0.135482</td>\n",
              "      <td>-0.245278</td>\n",
              "      <td>3909.807692</td>\n",
              "      <td>3909.807692</td>\n",
              "      <td>1.0</td>\n",
              "    </tr>\n",
              "    <tr>\n",
              "      <th>倉庫・運輸関連業</th>\n",
              "      <td>-0.167789</td>\n",
              "      <td>-0.091690</td>\n",
              "      <td>-0.067365</td>\n",
              "      <td>-0.134007</td>\n",
              "      <td>-0.252702</td>\n",
              "      <td>9322.742857</td>\n",
              "      <td>9322.742857</td>\n",
              "      <td>1.0</td>\n",
              "    </tr>\n",
              "    <tr>\n",
              "      <th>陸運業</th>\n",
              "      <td>-0.129979</td>\n",
              "      <td>-0.116508</td>\n",
              "      <td>-0.009878</td>\n",
              "      <td>-0.109134</td>\n",
              "      <td>-0.227092</td>\n",
              "      <td>8947.061538</td>\n",
              "      <td>8947.061538</td>\n",
              "      <td>1.0</td>\n",
              "    </tr>\n",
              "    <tr>\n",
              "      <th>食料品</th>\n",
              "      <td>-0.079955</td>\n",
              "      <td>-0.095031</td>\n",
              "      <td>-0.014111</td>\n",
              "      <td>-0.085217</td>\n",
              "      <td>-0.203337</td>\n",
              "      <td>2585.150794</td>\n",
              "      <td>2585.150794</td>\n",
              "      <td>1.0</td>\n",
              "    </tr>\n",
              "    <tr>\n",
              "      <th>電気・ガス業</th>\n",
              "      <td>-0.081321</td>\n",
              "      <td>-0.103590</td>\n",
              "      <td>0.041217</td>\n",
              "      <td>-0.061964</td>\n",
              "      <td>-0.187070</td>\n",
              "      <td>9520.416667</td>\n",
              "      <td>9520.416667</td>\n",
              "      <td>1.0</td>\n",
              "    </tr>\n",
              "  </tbody>\n",
              "</table>\n",
              "</div>"
            ],
            "text/plain": [
              "          20200101_20200408  20200201_20200301  ...        銘柄コード  日経225採用銘柄\n",
              "業種分類                                            ...                        \n",
              "不動産業              -0.332955          -0.175007  ...  5895.492647        1.0\n",
              "REIT銘柄一覧          -0.296272          -0.091020  ...  5488.269841        NaN\n",
              "サービス業             -0.317573          -0.188181  ...  5559.169528        1.0\n",
              "空運業               -0.281095          -0.195494  ...  9214.800000        1.0\n",
              "輸送用機器             -0.304450          -0.119866  ...  7051.873684        1.0\n",
              "非鉄金属              -0.301338          -0.134479  ...  5636.060606        1.0\n",
              "その他金融業            -0.264699          -0.129731  ...  7914.088235        1.0\n",
              "鉄鋼                -0.273400          -0.144507  ...  5586.666667        1.0\n",
              "ゴム製品              -0.270691          -0.121297  ...  5153.263158        1.0\n",
              "電気機器              -0.268333          -0.155357  ...  6769.553279        1.0\n",
              "機械                -0.258993          -0.137969  ...  6317.711790        1.0\n",
              "その他製品             -0.229567          -0.154292  ...  7823.527778        1.0\n",
              "ガラス・土石製品          -0.246962          -0.135728  ...  5291.172414        1.0\n",
              "証券業               -0.221604          -0.127748  ...  8276.175000        1.0\n",
              "精密機器              -0.236780          -0.151438  ...  7617.365385        1.0\n",
              "金属製品              -0.235850          -0.129098  ...  5403.358696        1.0\n",
              "情報・通信             -0.233479          -0.149822  ...  5003.782979        1.0\n",
              "小売業               -0.234265          -0.151408  ...  5876.633803        1.0\n",
              "海運業               -0.244346          -0.109298  ...  9147.692308        1.0\n",
              "建設業               -0.216496          -0.134611  ...  1910.049383        1.0\n",
              "医薬品               -0.144771          -0.176386  ...  4524.691176        1.0\n",
              "繊維製品              -0.113086          -0.125980  ...  4339.672727        1.0\n",
              "石油・石炭製品           -0.241721          -0.111193  ...  4860.636364        1.0\n",
              "卸売業               -0.202426          -0.128692  ...  6748.363354        1.0\n",
              "保険業               -0.190797          -0.096678  ...  8099.214286        1.0\n",
              "化学                -0.183227          -0.128282  ...  4902.317536        1.0\n",
              "鉱業                -0.231690          -0.110294  ...  1579.500000        1.0\n",
              "銀行業               -0.198870          -0.125970  ...  8252.397727        1.0\n",
              "水産・農林業            -0.140200          -0.143011  ...  1364.363636        1.0\n",
              "パルプ・紙             -0.151777          -0.115213  ...  3909.807692        1.0\n",
              "倉庫・運輸関連業          -0.167789          -0.091690  ...  9322.742857        1.0\n",
              "陸運業               -0.129979          -0.116508  ...  8947.061538        1.0\n",
              "食料品               -0.079955          -0.095031  ...  2585.150794        1.0\n",
              "電気・ガス業            -0.081321          -0.103590  ...  9520.416667        1.0\n",
              "\n",
              "[34 rows x 8 columns]"
            ]
          },
          "metadata": {
            "tags": []
          },
          "execution_count": 43
        }
      ]
    },
    {
      "cell_type": "code",
      "metadata": {
        "id": "EKuJNbVX2owh",
        "colab_type": "code",
        "colab": {
          "base_uri": "https://localhost:8080/",
          "height": 1000
        },
        "outputId": "85d26eba-71a1-4837-c435-de4499a47b9c"
      },
      "source": [
        "df_change_rate.groupby(['業種分類']).mean().sort_values(by='20200301_20200408')"
      ],
      "execution_count": null,
      "outputs": [
        {
          "output_type": "execute_result",
          "data": {
            "text/html": [
              "<div>\n",
              "<style scoped>\n",
              "    .dataframe tbody tr th:only-of-type {\n",
              "        vertical-align: middle;\n",
              "    }\n",
              "\n",
              "    .dataframe tbody tr th {\n",
              "        vertical-align: top;\n",
              "    }\n",
              "\n",
              "    .dataframe thead th {\n",
              "        text-align: right;\n",
              "    }\n",
              "</style>\n",
              "<table border=\"1\" class=\"dataframe\">\n",
              "  <thead>\n",
              "    <tr style=\"text-align: right;\">\n",
              "      <th></th>\n",
              "      <th>20200101_20200408</th>\n",
              "      <th>20200201_20200301</th>\n",
              "      <th>20200301_20200408</th>\n",
              "      <th>20200201_20200408</th>\n",
              "      <th>20200215_20200315</th>\n",
              "      <th>code</th>\n",
              "      <th>銘柄コード</th>\n",
              "      <th>日経225採用銘柄</th>\n",
              "    </tr>\n",
              "    <tr>\n",
              "      <th>業種分類</th>\n",
              "      <th></th>\n",
              "      <th></th>\n",
              "      <th></th>\n",
              "      <th></th>\n",
              "      <th></th>\n",
              "      <th></th>\n",
              "      <th></th>\n",
              "      <th></th>\n",
              "    </tr>\n",
              "  </thead>\n",
              "  <tbody>\n",
              "    <tr>\n",
              "      <th>REIT銘柄一覧</th>\n",
              "      <td>-0.296272</td>\n",
              "      <td>-0.091020</td>\n",
              "      <td>-0.240260</td>\n",
              "      <td>-0.308364</td>\n",
              "      <td>-0.317021</td>\n",
              "      <td>5488.269841</td>\n",
              "      <td>5488.269841</td>\n",
              "      <td>NaN</td>\n",
              "    </tr>\n",
              "    <tr>\n",
              "      <th>不動産業</th>\n",
              "      <td>-0.332955</td>\n",
              "      <td>-0.175007</td>\n",
              "      <td>-0.200185</td>\n",
              "      <td>-0.311142</td>\n",
              "      <td>-0.348201</td>\n",
              "      <td>5895.492647</td>\n",
              "      <td>5895.492647</td>\n",
              "      <td>1.0</td>\n",
              "    </tr>\n",
              "    <tr>\n",
              "      <th>輸送用機器</th>\n",
              "      <td>-0.304450</td>\n",
              "      <td>-0.119866</td>\n",
              "      <td>-0.185735</td>\n",
              "      <td>-0.272358</td>\n",
              "      <td>-0.288831</td>\n",
              "      <td>7051.873684</td>\n",
              "      <td>7051.873684</td>\n",
              "      <td>1.0</td>\n",
              "    </tr>\n",
              "    <tr>\n",
              "      <th>その他金融業</th>\n",
              "      <td>-0.264699</td>\n",
              "      <td>-0.129731</td>\n",
              "      <td>-0.181629</td>\n",
              "      <td>-0.259239</td>\n",
              "      <td>-0.318822</td>\n",
              "      <td>7914.088235</td>\n",
              "      <td>7914.088235</td>\n",
              "      <td>1.0</td>\n",
              "    </tr>\n",
              "    <tr>\n",
              "      <th>サービス業</th>\n",
              "      <td>-0.317573</td>\n",
              "      <td>-0.188181</td>\n",
              "      <td>-0.175515</td>\n",
              "      <td>-0.296540</td>\n",
              "      <td>-0.353201</td>\n",
              "      <td>5559.169528</td>\n",
              "      <td>5559.169528</td>\n",
              "      <td>1.0</td>\n",
              "    </tr>\n",
              "    <tr>\n",
              "      <th>非鉄金属</th>\n",
              "      <td>-0.301338</td>\n",
              "      <td>-0.134479</td>\n",
              "      <td>-0.166437</td>\n",
              "      <td>-0.259849</td>\n",
              "      <td>-0.326215</td>\n",
              "      <td>5636.060606</td>\n",
              "      <td>5636.060606</td>\n",
              "      <td>1.0</td>\n",
              "    </tr>\n",
              "    <tr>\n",
              "      <th>空運業</th>\n",
              "      <td>-0.281095</td>\n",
              "      <td>-0.195494</td>\n",
              "      <td>-0.163357</td>\n",
              "      <td>-0.287364</td>\n",
              "      <td>-0.308261</td>\n",
              "      <td>9214.800000</td>\n",
              "      <td>9214.800000</td>\n",
              "      <td>1.0</td>\n",
              "    </tr>\n",
              "    <tr>\n",
              "      <th>ゴム製品</th>\n",
              "      <td>-0.270691</td>\n",
              "      <td>-0.121297</td>\n",
              "      <td>-0.158506</td>\n",
              "      <td>-0.241508</td>\n",
              "      <td>-0.285866</td>\n",
              "      <td>5153.263158</td>\n",
              "      <td>5153.263158</td>\n",
              "      <td>1.0</td>\n",
              "    </tr>\n",
              "    <tr>\n",
              "      <th>証券業</th>\n",
              "      <td>-0.221604</td>\n",
              "      <td>-0.127748</td>\n",
              "      <td>-0.143391</td>\n",
              "      <td>-0.229026</td>\n",
              "      <td>-0.309719</td>\n",
              "      <td>8276.175000</td>\n",
              "      <td>8276.175000</td>\n",
              "      <td>1.0</td>\n",
              "    </tr>\n",
              "    <tr>\n",
              "      <th>鉄鋼</th>\n",
              "      <td>-0.273400</td>\n",
              "      <td>-0.144507</td>\n",
              "      <td>-0.139369</td>\n",
              "      <td>-0.245676</td>\n",
              "      <td>-0.318557</td>\n",
              "      <td>5586.666667</td>\n",
              "      <td>5586.666667</td>\n",
              "      <td>1.0</td>\n",
              "    </tr>\n",
              "    <tr>\n",
              "      <th>ガラス・土石製品</th>\n",
              "      <td>-0.246962</td>\n",
              "      <td>-0.135728</td>\n",
              "      <td>-0.135292</td>\n",
              "      <td>-0.230176</td>\n",
              "      <td>-0.300265</td>\n",
              "      <td>5291.172414</td>\n",
              "      <td>5291.172414</td>\n",
              "      <td>1.0</td>\n",
              "    </tr>\n",
              "    <tr>\n",
              "      <th>機械</th>\n",
              "      <td>-0.258993</td>\n",
              "      <td>-0.137969</td>\n",
              "      <td>-0.134102</td>\n",
              "      <td>-0.230644</td>\n",
              "      <td>-0.311167</td>\n",
              "      <td>6317.711790</td>\n",
              "      <td>6317.711790</td>\n",
              "      <td>1.0</td>\n",
              "    </tr>\n",
              "    <tr>\n",
              "      <th>電気機器</th>\n",
              "      <td>-0.268333</td>\n",
              "      <td>-0.155357</td>\n",
              "      <td>-0.133126</td>\n",
              "      <td>-0.238899</td>\n",
              "      <td>-0.327199</td>\n",
              "      <td>6769.553279</td>\n",
              "      <td>6769.553279</td>\n",
              "      <td>1.0</td>\n",
              "    </tr>\n",
              "    <tr>\n",
              "      <th>海運業</th>\n",
              "      <td>-0.244346</td>\n",
              "      <td>-0.109298</td>\n",
              "      <td>-0.128364</td>\n",
              "      <td>-0.204824</td>\n",
              "      <td>-0.297013</td>\n",
              "      <td>9147.692308</td>\n",
              "      <td>9147.692308</td>\n",
              "      <td>1.0</td>\n",
              "    </tr>\n",
              "    <tr>\n",
              "      <th>情報・通信</th>\n",
              "      <td>-0.233479</td>\n",
              "      <td>-0.149822</td>\n",
              "      <td>-0.124508</td>\n",
              "      <td>-0.214553</td>\n",
              "      <td>-0.333183</td>\n",
              "      <td>5003.782979</td>\n",
              "      <td>5003.782979</td>\n",
              "      <td>1.0</td>\n",
              "    </tr>\n",
              "    <tr>\n",
              "      <th>金属製品</th>\n",
              "      <td>-0.235850</td>\n",
              "      <td>-0.129098</td>\n",
              "      <td>-0.124034</td>\n",
              "      <td>-0.217351</td>\n",
              "      <td>-0.281167</td>\n",
              "      <td>5403.358696</td>\n",
              "      <td>5403.358696</td>\n",
              "      <td>1.0</td>\n",
              "    </tr>\n",
              "    <tr>\n",
              "      <th>その他製品</th>\n",
              "      <td>-0.229567</td>\n",
              "      <td>-0.154292</td>\n",
              "      <td>-0.118462</td>\n",
              "      <td>-0.230503</td>\n",
              "      <td>-0.301899</td>\n",
              "      <td>7823.527778</td>\n",
              "      <td>7823.527778</td>\n",
              "      <td>1.0</td>\n",
              "    </tr>\n",
              "    <tr>\n",
              "      <th>精密機器</th>\n",
              "      <td>-0.236780</td>\n",
              "      <td>-0.151438</td>\n",
              "      <td>-0.117010</td>\n",
              "      <td>-0.217843</td>\n",
              "      <td>-0.313656</td>\n",
              "      <td>7617.365385</td>\n",
              "      <td>7617.365385</td>\n",
              "      <td>1.0</td>\n",
              "    </tr>\n",
              "    <tr>\n",
              "      <th>小売業</th>\n",
              "      <td>-0.234265</td>\n",
              "      <td>-0.151408</td>\n",
              "      <td>-0.113294</td>\n",
              "      <td>-0.213014</td>\n",
              "      <td>-0.298010</td>\n",
              "      <td>5876.633803</td>\n",
              "      <td>5876.633803</td>\n",
              "      <td>1.0</td>\n",
              "    </tr>\n",
              "    <tr>\n",
              "      <th>建設業</th>\n",
              "      <td>-0.216496</td>\n",
              "      <td>-0.134611</td>\n",
              "      <td>-0.106011</td>\n",
              "      <td>-0.203896</td>\n",
              "      <td>-0.274351</td>\n",
              "      <td>1910.049383</td>\n",
              "      <td>1910.049383</td>\n",
              "      <td>1.0</td>\n",
              "    </tr>\n",
              "    <tr>\n",
              "      <th>石油・石炭製品</th>\n",
              "      <td>-0.241721</td>\n",
              "      <td>-0.111193</td>\n",
              "      <td>-0.102591</td>\n",
              "      <td>-0.187476</td>\n",
              "      <td>-0.283410</td>\n",
              "      <td>4860.636364</td>\n",
              "      <td>4860.636364</td>\n",
              "      <td>1.0</td>\n",
              "    </tr>\n",
              "    <tr>\n",
              "      <th>卸売業</th>\n",
              "      <td>-0.202426</td>\n",
              "      <td>-0.128692</td>\n",
              "      <td>-0.095668</td>\n",
              "      <td>-0.186675</td>\n",
              "      <td>-0.273380</td>\n",
              "      <td>6748.363354</td>\n",
              "      <td>6748.363354</td>\n",
              "      <td>1.0</td>\n",
              "    </tr>\n",
              "    <tr>\n",
              "      <th>鉱業</th>\n",
              "      <td>-0.231690</td>\n",
              "      <td>-0.110294</td>\n",
              "      <td>-0.095649</td>\n",
              "      <td>-0.171228</td>\n",
              "      <td>-0.299153</td>\n",
              "      <td>1579.500000</td>\n",
              "      <td>1579.500000</td>\n",
              "      <td>1.0</td>\n",
              "    </tr>\n",
              "    <tr>\n",
              "      <th>保険業</th>\n",
              "      <td>-0.190797</td>\n",
              "      <td>-0.096678</td>\n",
              "      <td>-0.094182</td>\n",
              "      <td>-0.182119</td>\n",
              "      <td>-0.283533</td>\n",
              "      <td>8099.214286</td>\n",
              "      <td>8099.214286</td>\n",
              "      <td>1.0</td>\n",
              "    </tr>\n",
              "    <tr>\n",
              "      <th>繊維製品</th>\n",
              "      <td>-0.113086</td>\n",
              "      <td>-0.125980</td>\n",
              "      <td>-0.088199</td>\n",
              "      <td>-0.193517</td>\n",
              "      <td>-0.283445</td>\n",
              "      <td>4339.672727</td>\n",
              "      <td>4339.672727</td>\n",
              "      <td>1.0</td>\n",
              "    </tr>\n",
              "    <tr>\n",
              "      <th>化学</th>\n",
              "      <td>-0.183227</td>\n",
              "      <td>-0.128282</td>\n",
              "      <td>-0.085300</td>\n",
              "      <td>-0.179885</td>\n",
              "      <td>-0.288794</td>\n",
              "      <td>4902.317536</td>\n",
              "      <td>4902.317536</td>\n",
              "      <td>1.0</td>\n",
              "    </tr>\n",
              "    <tr>\n",
              "      <th>倉庫・運輸関連業</th>\n",
              "      <td>-0.167789</td>\n",
              "      <td>-0.091690</td>\n",
              "      <td>-0.067365</td>\n",
              "      <td>-0.134007</td>\n",
              "      <td>-0.252702</td>\n",
              "      <td>9322.742857</td>\n",
              "      <td>9322.742857</td>\n",
              "      <td>1.0</td>\n",
              "    </tr>\n",
              "    <tr>\n",
              "      <th>医薬品</th>\n",
              "      <td>-0.144771</td>\n",
              "      <td>-0.176386</td>\n",
              "      <td>-0.059241</td>\n",
              "      <td>-0.194664</td>\n",
              "      <td>-0.318921</td>\n",
              "      <td>4524.691176</td>\n",
              "      <td>4524.691176</td>\n",
              "      <td>1.0</td>\n",
              "    </tr>\n",
              "    <tr>\n",
              "      <th>パルプ・紙</th>\n",
              "      <td>-0.151777</td>\n",
              "      <td>-0.115213</td>\n",
              "      <td>-0.049708</td>\n",
              "      <td>-0.135482</td>\n",
              "      <td>-0.245278</td>\n",
              "      <td>3909.807692</td>\n",
              "      <td>3909.807692</td>\n",
              "      <td>1.0</td>\n",
              "    </tr>\n",
              "    <tr>\n",
              "      <th>銀行業</th>\n",
              "      <td>-0.198870</td>\n",
              "      <td>-0.125970</td>\n",
              "      <td>-0.040973</td>\n",
              "      <td>-0.150418</td>\n",
              "      <td>-0.300204</td>\n",
              "      <td>8252.397727</td>\n",
              "      <td>8252.397727</td>\n",
              "      <td>1.0</td>\n",
              "    </tr>\n",
              "    <tr>\n",
              "      <th>水産・農林業</th>\n",
              "      <td>-0.140200</td>\n",
              "      <td>-0.143011</td>\n",
              "      <td>-0.031529</td>\n",
              "      <td>-0.135807</td>\n",
              "      <td>-0.278000</td>\n",
              "      <td>1364.363636</td>\n",
              "      <td>1364.363636</td>\n",
              "      <td>1.0</td>\n",
              "    </tr>\n",
              "    <tr>\n",
              "      <th>食料品</th>\n",
              "      <td>-0.079955</td>\n",
              "      <td>-0.095031</td>\n",
              "      <td>-0.014111</td>\n",
              "      <td>-0.085217</td>\n",
              "      <td>-0.203337</td>\n",
              "      <td>2585.150794</td>\n",
              "      <td>2585.150794</td>\n",
              "      <td>1.0</td>\n",
              "    </tr>\n",
              "    <tr>\n",
              "      <th>陸運業</th>\n",
              "      <td>-0.129979</td>\n",
              "      <td>-0.116508</td>\n",
              "      <td>-0.009878</td>\n",
              "      <td>-0.109134</td>\n",
              "      <td>-0.227092</td>\n",
              "      <td>8947.061538</td>\n",
              "      <td>8947.061538</td>\n",
              "      <td>1.0</td>\n",
              "    </tr>\n",
              "    <tr>\n",
              "      <th>電気・ガス業</th>\n",
              "      <td>-0.081321</td>\n",
              "      <td>-0.103590</td>\n",
              "      <td>0.041217</td>\n",
              "      <td>-0.061964</td>\n",
              "      <td>-0.187070</td>\n",
              "      <td>9520.416667</td>\n",
              "      <td>9520.416667</td>\n",
              "      <td>1.0</td>\n",
              "    </tr>\n",
              "  </tbody>\n",
              "</table>\n",
              "</div>"
            ],
            "text/plain": [
              "          20200101_20200408  20200201_20200301  ...        銘柄コード  日経225採用銘柄\n",
              "業種分類                                            ...                        \n",
              "REIT銘柄一覧          -0.296272          -0.091020  ...  5488.269841        NaN\n",
              "不動産業              -0.332955          -0.175007  ...  5895.492647        1.0\n",
              "輸送用機器             -0.304450          -0.119866  ...  7051.873684        1.0\n",
              "その他金融業            -0.264699          -0.129731  ...  7914.088235        1.0\n",
              "サービス業             -0.317573          -0.188181  ...  5559.169528        1.0\n",
              "非鉄金属              -0.301338          -0.134479  ...  5636.060606        1.0\n",
              "空運業               -0.281095          -0.195494  ...  9214.800000        1.0\n",
              "ゴム製品              -0.270691          -0.121297  ...  5153.263158        1.0\n",
              "証券業               -0.221604          -0.127748  ...  8276.175000        1.0\n",
              "鉄鋼                -0.273400          -0.144507  ...  5586.666667        1.0\n",
              "ガラス・土石製品          -0.246962          -0.135728  ...  5291.172414        1.0\n",
              "機械                -0.258993          -0.137969  ...  6317.711790        1.0\n",
              "電気機器              -0.268333          -0.155357  ...  6769.553279        1.0\n",
              "海運業               -0.244346          -0.109298  ...  9147.692308        1.0\n",
              "情報・通信             -0.233479          -0.149822  ...  5003.782979        1.0\n",
              "金属製品              -0.235850          -0.129098  ...  5403.358696        1.0\n",
              "その他製品             -0.229567          -0.154292  ...  7823.527778        1.0\n",
              "精密機器              -0.236780          -0.151438  ...  7617.365385        1.0\n",
              "小売業               -0.234265          -0.151408  ...  5876.633803        1.0\n",
              "建設業               -0.216496          -0.134611  ...  1910.049383        1.0\n",
              "石油・石炭製品           -0.241721          -0.111193  ...  4860.636364        1.0\n",
              "卸売業               -0.202426          -0.128692  ...  6748.363354        1.0\n",
              "鉱業                -0.231690          -0.110294  ...  1579.500000        1.0\n",
              "保険業               -0.190797          -0.096678  ...  8099.214286        1.0\n",
              "繊維製品              -0.113086          -0.125980  ...  4339.672727        1.0\n",
              "化学                -0.183227          -0.128282  ...  4902.317536        1.0\n",
              "倉庫・運輸関連業          -0.167789          -0.091690  ...  9322.742857        1.0\n",
              "医薬品               -0.144771          -0.176386  ...  4524.691176        1.0\n",
              "パルプ・紙             -0.151777          -0.115213  ...  3909.807692        1.0\n",
              "銀行業               -0.198870          -0.125970  ...  8252.397727        1.0\n",
              "水産・農林業            -0.140200          -0.143011  ...  1364.363636        1.0\n",
              "食料品               -0.079955          -0.095031  ...  2585.150794        1.0\n",
              "陸運業               -0.129979          -0.116508  ...  8947.061538        1.0\n",
              "電気・ガス業            -0.081321          -0.103590  ...  9520.416667        1.0\n",
              "\n",
              "[34 rows x 8 columns]"
            ]
          },
          "metadata": {
            "tags": []
          },
          "execution_count": 44
        }
      ]
    },
    {
      "cell_type": "code",
      "metadata": {
        "id": "zDvPL-ub3Xhh",
        "colab_type": "code",
        "colab": {
          "base_uri": "https://localhost:8080/",
          "height": 1000
        },
        "outputId": "5d45e061-3dc8-4dbe-c9d0-38dadad60591"
      },
      "source": [
        "for industry in df_change_rate['業種分類'].unique():\n",
        "    df_change_rate[df_change_rate['業種分類'] == industry]['20200201_20200408'].hist(bins=40)\n",
        "    plt.title(industry)\n",
        "    plt.xlim(df_change_rate['20200201_20200408'].min(), df_change_rate['20200301_20200408'].max())\n",
        "    plt.show()"
      ],
      "execution_count": null,
      "outputs": [
        {
          "output_type": "display_data",
          "data": {
            "image/png": "[encoded data removed]",
            "text/plain": [
              "<Figure size 432x288 with 1 Axes>"
            ]
          },
          "metadata": {
            "tags": []
          }
        },
        {
          "output_type": "display_data",
          "data": {
            "image/png": "[encoded data removed]",
            "text/plain": [
              "<Figure size 432x288 with 1 Axes>"
            ]
          },
          "metadata": {
            "tags": []
          }
        },
        {
          "output_type": "display_data",
          "data": {
            "image/png": "[encoded data removed]",
            "text/plain": [
              "<Figure size 432x288 with 1 Axes>"
            ]
          },
          "metadata": {
            "tags": []
          }
        },
        {
          "output_type": "display_data",
          "data": {
            "image/png": "[encoded data removed]",
            "text/plain": [
              "<Figure size 432x288 with 1 Axes>"
            ]
          },
          "metadata": {
            "tags": []
          }
        },
        {
          "output_type": "display_data",
          "data": {
            "image/png": "[encoded data removed]",
            "text/plain": [
              "<Figure size 432x288 with 1 Axes>"
            ]
          },
          "metadata": {
            "tags": []
          }
        },
        {
          "output_type": "display_data",
          "data": {
            "image/png": "[encoded data removed]",
            "text/plain": [
              "<Figure size 432x288 with 1 Axes>"
            ]
          },
          "metadata": {
            "tags": []
          }
        },
        {
          "output_type": "display_data",
          "data": {
            "image/png": "[encoded data removed]",
            "text/plain": [
              "<Figure size 432x288 with 1 Axes>"
            ]
          },
          "metadata": {
            "tags": []
          }
        },
        {
          "output_type": "display_data",
          "data": {
            "image/png": "[encoded data removed]",
            "text/plain": [
              "<Figure size 432x288 with 1 Axes>"
            ]
          },
          "metadata": {
            "tags": []
          }
        },
        {
          "output_type": "display_data",
          "data": {
            "image/png": "[encoded data removed]",
            "text/plain": [
              "<Figure size 432x288 with 1 Axes>"
            ]
          },
          "metadata": {
            "tags": []
          }
        },
        {
          "output_type": "display_data",
          "data": {
            "image/png": "[encoded data removed]",
            "text/plain": [
              "<Figure size 432x288 with 1 Axes>"
            ]
          },
          "metadata": {
            "tags": []
          }
        },
        {
          "output_type": "display_data",
          "data": {
            "image/png": "[encoded data removed]",
            "text/plain": [
              "<Figure size 432x288 with 1 Axes>"
            ]
          },
          "metadata": {
            "tags": []
          }
        },
        {
          "output_type": "display_data",
          "data": {
            "image/png": "[encoded data removed]",
            "text/plain": [
              "<Figure size 432x288 with 1 Axes>"
            ]
          },
          "metadata": {
            "tags": []
          }
        },
        {
          "output_type": "display_data",
          "data": {
            "image/png": "[encoded data removed]",
            "text/plain": [
              "<Figure size 432x288 with 1 Axes>"
            ]
          },
          "metadata": {
            "tags": []
          }
        },
        {
          "output_type": "display_data",
          "data": {
            "image/png": "[encoded data removed]",
            "text/plain": [
              "<Figure size 432x288 with 1 Axes>"
            ]
          },
          "metadata": {
            "tags": []
          }
        },
        {
          "output_type": "display_data",
          "data": {
            "image/png": "[encoded data removed]",
            "text/plain": [
              "<Figure size 432x288 with 1 Axes>"
            ]
          },
          "metadata": {
            "tags": []
          }
        },
        {
          "output_type": "display_data",
          "data": {
            "image/png": "[encoded data removed]",
            "text/plain": [
              "<Figure size 432x288 with 1 Axes>"
            ]
          },
          "metadata": {
            "tags": []
          }
        },
        {
          "output_type": "display_data",
          "data": {
            "image/png": "[encoded data removed]",
            "text/plain": [
              "<Figure size 432x288 with 1 Axes>"
            ]
          },
          "metadata": {
            "tags": []
          }
        },
        {
          "output_type": "display_data",
          "data": {
            "image/png": "[encoded data removed]",
            "text/plain": [
              "<Figure size 432x288 with 1 Axes>"
            ]
          },
          "metadata": {
            "tags": []
          }
        },
        {
          "output_type": "display_data",
          "data": {
            "image/png": "[encoded data removed]",
            "text/plain": [
              "<Figure size 432x288 with 1 Axes>"
            ]
          },
          "metadata": {
            "tags": []
          }
        },
        {
          "output_type": "display_data",
          "data": {
            "image/png": "[encoded data removed]",
            "text/plain": [
              "<Figure size 432x288 with 1 Axes>"
            ]
          },
          "metadata": {
            "tags": []
          }
        },
        {
          "output_type": "display_data",
          "data": {
            "image/png": "[encoded data removed]",
            "text/plain": [
              "<Figure size 432x288 with 1 Axes>"
            ]
          },
          "metadata": {
            "tags": []
          }
        },
        {
          "output_type": "display_data",
          "data": {
            "image/png": "[encoded data removed]",
            "text/plain": [
              "<Figure size 432x288 with 1 Axes>"
            ]
          },
          "metadata": {
            "tags": []
          }
        },
        {
          "output_type": "display_data",
          "data": {
            "image/png": "[encoded data removed]",
            "text/plain": [
              "<Figure size 432x288 with 1 Axes>"
            ]
          },
          "metadata": {
            "tags": []
          }
        },
        {
          "output_type": "display_data",
          "data": {
            "image/png": "[encoded data removed]",
            "text/plain": [
              "<Figure size 432x288 with 1 Axes>"
            ]
          },
          "metadata": {
            "tags": []
          }
        },
        {
          "output_type": "display_data",
          "data": {
            "image/png": "[encoded data removed]",
            "text/plain": [
              "<Figure size 432x288 with 1 Axes>"
            ]
          },
          "metadata": {
            "tags": []
          }
        },
        {
          "output_type": "display_data",
          "data": {
            "image/png": "[encoded data removed]",
            "text/plain": [
              "<Figure size 432x288 with 1 Axes>"
            ]
          },
          "metadata": {
            "tags": []
          }
        },
        {
          "output_type": "display_data",
          "data": {
            "image/png": "[encoded data removed]",
            "text/plain": [
              "<Figure size 432x288 with 1 Axes>"
            ]
          },
          "metadata": {
            "tags": []
          }
        },
        {
          "output_type": "display_data",
          "data": {
            "image/png": "[encoded data removed]",
            "text/plain": [
              "<Figure size 432x288 with 1 Axes>"
            ]
          },
          "metadata": {
            "tags": []
          }
        },
        {
          "output_type": "display_data",
          "data": {
            "image/png": "[encoded data removed]",
            "text/plain": [
              "<Figure size 432x288 with 1 Axes>"
            ]
          },
          "metadata": {
            "tags": []
          }
        },
        {
          "output_type": "display_data",
          "data": {
            "image/png": "[encoded data removed]",
            "text/plain": [
              "<Figure size 432x288 with 1 Axes>"
            ]
          },
          "metadata": {
            "tags": []
          }
        },
        {
          "output_type": "display_data",
          "data": {
            "image/png": "[encoded data removed]",
            "text/plain": [
              "<Figure size 432x288 with 1 Axes>"
            ]
          },
          "metadata": {
            "tags": []
          }
        },
        {
          "output_type": "display_data",
          "data": {
            "image/png": "[encoded data removed]",
            "text/plain": [
              "<Figure size 432x288 with 1 Axes>"
            ]
          },
          "metadata": {
            "tags": []
          }
        },
        {
          "output_type": "display_data",
          "data": {
            "image/png": "[encoded data removed]",
            "text/plain": [
              "<Figure size 432x288 with 1 Axes>"
            ]
          },
          "metadata": {
            "tags": []
          }
        },
        {
          "output_type": "display_data",
          "data": {
            "image/png": "[encoded data removed]",
            "text/plain": [
              "<Figure size 432x288 with 1 Axes>"
            ]
          },
          "metadata": {
            "tags": []
          }
        }
      ]
    },
    {
      "cell_type": "code",
      "metadata": {
        "id": "nGkPvlqx99RS",
        "colab_type": "code",
        "colab": {}
      },
      "source": [
        "pd.set_option('display.max_rows', 50)"
      ],
      "execution_count": null,
      "outputs": []
    },
    {
      "cell_type": "code",
      "metadata": {
        "id": "_eUCdRjp4xd4",
        "colab_type": "code",
        "colab": {
          "base_uri": "https://localhost:8080/",
          "height": 725
        },
        "outputId": "03f146bd-5a73-4e6e-bbdc-c9526d74f87b"
      },
      "source": [
        "df_change_rate.sort_values(by='20200301_20200408')"
      ],
      "execution_count": null,
      "outputs": [
        {
          "output_type": "execute_result",
          "data": {
            "text/html": [
              "<div>\n",
              "<style scoped>\n",
              "    .dataframe tbody tr th:only-of-type {\n",
              "        vertical-align: middle;\n",
              "    }\n",
              "\n",
              "    .dataframe tbody tr th {\n",
              "        vertical-align: top;\n",
              "    }\n",
              "\n",
              "    .dataframe thead th {\n",
              "        text-align: right;\n",
              "    }\n",
              "</style>\n",
              "<table border=\"1\" class=\"dataframe\">\n",
              "  <thead>\n",
              "    <tr style=\"text-align: right;\">\n",
              "      <th></th>\n",
              "      <th>20200101_20200408</th>\n",
              "      <th>20200201_20200301</th>\n",
              "      <th>20200301_20200408</th>\n",
              "      <th>20200201_20200408</th>\n",
              "      <th>20200215_20200315</th>\n",
              "      <th>code</th>\n",
              "      <th>銘柄コード</th>\n",
              "      <th>銘柄名</th>\n",
              "      <th>市場名</th>\n",
              "      <th>業種分類</th>\n",
              "      <th>単元株数</th>\n",
              "      <th>日経225採用銘柄</th>\n",
              "    </tr>\n",
              "  </thead>\n",
              "  <tbody>\n",
              "    <tr>\n",
              "      <th>885</th>\n",
              "      <td>-0.821235</td>\n",
              "      <td>-0.179979</td>\n",
              "      <td>-0.795285</td>\n",
              "      <td>-0.824281</td>\n",
              "      <td>-0.339708</td>\n",
              "      <td>3563</td>\n",
              "      <td>3563</td>\n",
              "      <td>(株)スシローグローバルホールディングス</td>\n",
              "      <td>東証1部</td>\n",
              "      <td>小売業</td>\n",
              "      <td>100</td>\n",
              "      <td>NaN</td>\n",
              "    </tr>\n",
              "    <tr>\n",
              "      <th>531</th>\n",
              "      <td>-0.653595</td>\n",
              "      <td>0.196092</td>\n",
              "      <td>-0.783673</td>\n",
              "      <td>-0.714286</td>\n",
              "      <td>-0.195941</td>\n",
              "      <td>2970</td>\n",
              "      <td>2970</td>\n",
              "      <td>(株)グッドライフカンパニー</td>\n",
              "      <td>東証JQS</td>\n",
              "      <td>不動産業</td>\n",
              "      <td>100</td>\n",
              "      <td>NaN</td>\n",
              "    </tr>\n",
              "    <tr>\n",
              "      <th>3546</th>\n",
              "      <td>-0.776409</td>\n",
              "      <td>-0.064698</td>\n",
              "      <td>-0.757670</td>\n",
              "      <td>-0.760056</td>\n",
              "      <td>-0.256131</td>\n",
              "      <td>9470</td>\n",
              "      <td>9470</td>\n",
              "      <td>(株)学研ホールディングス</td>\n",
              "      <td>東証1部</td>\n",
              "      <td>情報・通信</td>\n",
              "      <td>100</td>\n",
              "      <td>NaN</td>\n",
              "    </tr>\n",
              "    <tr>\n",
              "      <th>910</th>\n",
              "      <td>-0.706376</td>\n",
              "      <td>-0.034743</td>\n",
              "      <td>-0.703611</td>\n",
              "      <td>-0.714804</td>\n",
              "      <td>-0.279661</td>\n",
              "      <td>3626</td>\n",
              "      <td>3626</td>\n",
              "      <td>ＴＩＳ(株)</td>\n",
              "      <td>東証1部</td>\n",
              "      <td>情報・通信</td>\n",
              "      <td>100</td>\n",
              "      <td>NaN</td>\n",
              "    </tr>\n",
              "    <tr>\n",
              "      <th>2481</th>\n",
              "      <td>-0.686364</td>\n",
              "      <td>-0.282024</td>\n",
              "      <td>-0.672098</td>\n",
              "      <td>-0.742743</td>\n",
              "      <td>-0.416620</td>\n",
              "      <td>7033</td>\n",
              "      <td>7033</td>\n",
              "      <td>(株)マネジメントソリューションズ</td>\n",
              "      <td>東証1部</td>\n",
              "      <td>サービス業</td>\n",
              "      <td>100</td>\n",
              "      <td>NaN</td>\n",
              "    </tr>\n",
              "    <tr>\n",
              "      <th>...</th>\n",
              "      <td>...</td>\n",
              "      <td>...</td>\n",
              "      <td>...</td>\n",
              "      <td>...</td>\n",
              "      <td>...</td>\n",
              "      <td>...</td>\n",
              "      <td>...</td>\n",
              "      <td>...</td>\n",
              "      <td>...</td>\n",
              "      <td>...</td>\n",
              "      <td>...</td>\n",
              "      <td>...</td>\n",
              "    </tr>\n",
              "    <tr>\n",
              "      <th>1330</th>\n",
              "      <td>1.166667</td>\n",
              "      <td>0.087369</td>\n",
              "      <td>0.441062</td>\n",
              "      <td>0.753086</td>\n",
              "      <td>0.049715</td>\n",
              "      <td>4434</td>\n",
              "      <td>4434</td>\n",
              "      <td>(株)サーバーワークス</td>\n",
              "      <td>マザーズ</td>\n",
              "      <td>情報・通信</td>\n",
              "      <td>100</td>\n",
              "      <td>NaN</td>\n",
              "    </tr>\n",
              "    <tr>\n",
              "      <th>3432</th>\n",
              "      <td>0.111762</td>\n",
              "      <td>-0.206724</td>\n",
              "      <td>0.444263</td>\n",
              "      <td>0.206724</td>\n",
              "      <td>-0.213270</td>\n",
              "      <td>9090</td>\n",
              "      <td>9090</td>\n",
              "      <td>(株)丸和運輸機関</td>\n",
              "      <td>東証1部</td>\n",
              "      <td>陸運業</td>\n",
              "      <td>100</td>\n",
              "      <td>NaN</td>\n",
              "    </tr>\n",
              "    <tr>\n",
              "      <th>954</th>\n",
              "      <td>0.581259</td>\n",
              "      <td>0.004304</td>\n",
              "      <td>0.565217</td>\n",
              "      <td>0.549498</td>\n",
              "      <td>0.129310</td>\n",
              "      <td>3681</td>\n",
              "      <td>3681</td>\n",
              "      <td>(株)ブイキューブ</td>\n",
              "      <td>東証1部</td>\n",
              "      <td>情報・通信</td>\n",
              "      <td>100</td>\n",
              "      <td>NaN</td>\n",
              "    </tr>\n",
              "    <tr>\n",
              "      <th>1406</th>\n",
              "      <td>0.124194</td>\n",
              "      <td>-0.362890</td>\n",
              "      <td>0.659524</td>\n",
              "      <td>0.144499</td>\n",
              "      <td>0.048043</td>\n",
              "      <td>4563</td>\n",
              "      <td>4563</td>\n",
              "      <td>アンジェス(株)</td>\n",
              "      <td>マザーズ</td>\n",
              "      <td>医薬品</td>\n",
              "      <td>100</td>\n",
              "      <td>NaN</td>\n",
              "    </tr>\n",
              "    <tr>\n",
              "      <th>333</th>\n",
              "      <td>0.160738</td>\n",
              "      <td>-0.289733</td>\n",
              "      <td>0.734252</td>\n",
              "      <td>0.239100</td>\n",
              "      <td>0.035439</td>\n",
              "      <td>2417</td>\n",
              "      <td>2417</td>\n",
              "      <td>(株)ツヴァイ</td>\n",
              "      <td>東証2部</td>\n",
              "      <td>サービス業</td>\n",
              "      <td>100</td>\n",
              "      <td>NaN</td>\n",
              "    </tr>\n",
              "  </tbody>\n",
              "</table>\n",
              "<p>3781 rows × 12 columns</p>\n",
              "</div>"
            ],
            "text/plain": [
              "      20200101_20200408  20200201_20200301  20200301_20200408  \\\n",
              "885           -0.821235          -0.179979          -0.795285   \n",
              "531           -0.653595           0.196092          -0.783673   \n",
              "3546          -0.776409          -0.064698          -0.757670   \n",
              "910           -0.706376          -0.034743          -0.703611   \n",
              "2481          -0.686364          -0.282024          -0.672098   \n",
              "...                 ...                ...                ...   \n",
              "1330           1.166667           0.087369           0.441062   \n",
              "3432           0.111762          -0.206724           0.444263   \n",
              "954            0.581259           0.004304           0.565217   \n",
              "1406           0.124194          -0.362890           0.659524   \n",
              "333            0.160738          -0.289733           0.734252   \n",
              "\n",
              "      20200201_20200408  20200215_20200315  code  銘柄コード                   銘柄名  \\\n",
              "885           -0.824281          -0.339708  3563   3563  (株)スシローグローバルホールディングス   \n",
              "531           -0.714286          -0.195941  2970   2970        (株)グッドライフカンパニー   \n",
              "3546          -0.760056          -0.256131  9470   9470         (株)学研ホールディングス   \n",
              "910           -0.714804          -0.279661  3626   3626                ＴＩＳ(株)   \n",
              "2481          -0.742743          -0.416620  7033   7033     (株)マネジメントソリューションズ   \n",
              "...                 ...                ...   ...    ...                   ...   \n",
              "1330           0.753086           0.049715  4434   4434           (株)サーバーワークス   \n",
              "3432           0.206724          -0.213270  9090   9090             (株)丸和運輸機関   \n",
              "954            0.549498           0.129310  3681   3681             (株)ブイキューブ   \n",
              "1406           0.144499           0.048043  4563   4563              アンジェス(株)   \n",
              "333            0.239100           0.035439  2417   2417               (株)ツヴァイ   \n",
              "\n",
              "        市場名   業種分類 単元株数  日経225採用銘柄  \n",
              "885    東証1部    小売業  100        NaN  \n",
              "531   東証JQS   不動産業  100        NaN  \n",
              "3546   東証1部  情報・通信  100        NaN  \n",
              "910    東証1部  情報・通信  100        NaN  \n",
              "2481   東証1部  サービス業  100        NaN  \n",
              "...     ...    ...  ...        ...  \n",
              "1330   マザーズ  情報・通信  100        NaN  \n",
              "3432   東証1部    陸運業  100        NaN  \n",
              "954    東証1部  情報・通信  100        NaN  \n",
              "1406   マザーズ    医薬品  100        NaN  \n",
              "333    東証2部  サービス業  100        NaN  \n",
              "\n",
              "[3781 rows x 12 columns]"
            ]
          },
          "metadata": {
            "tags": []
          },
          "execution_count": 61
        }
      ]
    },
    {
      "cell_type": "code",
      "metadata": {
        "id": "Esfdf05X5m8K",
        "colab_type": "code",
        "colab": {
          "base_uri": "https://localhost:8080/",
          "height": 640
        },
        "outputId": "8caf15c2-bca8-4775-b84c-3c6f30e314c7"
      },
      "source": [
        "df_change_rate.sort_values(by='20200201_20200408')"
      ],
      "execution_count": null,
      "outputs": [
        {
          "output_type": "execute_result",
          "data": {
            "text/html": [
              "<div>\n",
              "<style scoped>\n",
              "    .dataframe tbody tr th:only-of-type {\n",
              "        vertical-align: middle;\n",
              "    }\n",
              "\n",
              "    .dataframe tbody tr th {\n",
              "        vertical-align: top;\n",
              "    }\n",
              "\n",
              "    .dataframe thead th {\n",
              "        text-align: right;\n",
              "    }\n",
              "</style>\n",
              "<table border=\"1\" class=\"dataframe\">\n",
              "  <thead>\n",
              "    <tr style=\"text-align: right;\">\n",
              "      <th></th>\n",
              "      <th>20200101_20200408</th>\n",
              "      <th>20200201_20200301</th>\n",
              "      <th>20200301_20200408</th>\n",
              "      <th>20200201_20200408</th>\n",
              "      <th>20200215_20200315</th>\n",
              "      <th>code</th>\n",
              "      <th>銘柄コード</th>\n",
              "      <th>銘柄名</th>\n",
              "      <th>市場名</th>\n",
              "      <th>業種分類</th>\n",
              "      <th>単元株数</th>\n",
              "      <th>日経225採用銘柄</th>\n",
              "    </tr>\n",
              "  </thead>\n",
              "  <tbody>\n",
              "    <tr>\n",
              "      <th>885</th>\n",
              "      <td>-0.821235</td>\n",
              "      <td>-0.179979</td>\n",
              "      <td>-0.795285</td>\n",
              "      <td>-0.824281</td>\n",
              "      <td>-0.339708</td>\n",
              "      <td>3563</td>\n",
              "      <td>3563</td>\n",
              "      <td>(株)スシローグローバルホールディングス</td>\n",
              "      <td>東証1部</td>\n",
              "      <td>小売業</td>\n",
              "      <td>100</td>\n",
              "      <td>NaN</td>\n",
              "    </tr>\n",
              "    <tr>\n",
              "      <th>3590</th>\n",
              "      <td>-0.816138</td>\n",
              "      <td>-0.348227</td>\n",
              "      <td>-0.670284</td>\n",
              "      <td>-0.773759</td>\n",
              "      <td>-0.511530</td>\n",
              "      <td>9625</td>\n",
              "      <td>9625</td>\n",
              "      <td>(株)セレスポ</td>\n",
              "      <td>東証JQS</td>\n",
              "      <td>サービス業</td>\n",
              "      <td>100</td>\n",
              "      <td>NaN</td>\n",
              "    </tr>\n",
              "    <tr>\n",
              "      <th>212</th>\n",
              "      <td>-0.781732</td>\n",
              "      <td>-0.627078</td>\n",
              "      <td>-0.362319</td>\n",
              "      <td>-0.766841</td>\n",
              "      <td>-0.758027</td>\n",
              "      <td>2157</td>\n",
              "      <td>2157</td>\n",
              "      <td>(株)コシダカホールディングス</td>\n",
              "      <td>東証1部</td>\n",
              "      <td>サービス業</td>\n",
              "      <td>100</td>\n",
              "      <td>NaN</td>\n",
              "    </tr>\n",
              "    <tr>\n",
              "      <th>3546</th>\n",
              "      <td>-0.776409</td>\n",
              "      <td>-0.064698</td>\n",
              "      <td>-0.757670</td>\n",
              "      <td>-0.760056</td>\n",
              "      <td>-0.256131</td>\n",
              "      <td>9470</td>\n",
              "      <td>9470</td>\n",
              "      <td>(株)学研ホールディングス</td>\n",
              "      <td>東証1部</td>\n",
              "      <td>情報・通信</td>\n",
              "      <td>100</td>\n",
              "      <td>NaN</td>\n",
              "    </tr>\n",
              "    <tr>\n",
              "      <th>2750</th>\n",
              "      <td>-0.734694</td>\n",
              "      <td>-0.466667</td>\n",
              "      <td>-0.573770</td>\n",
              "      <td>-0.752381</td>\n",
              "      <td>-0.744444</td>\n",
              "      <td>7612</td>\n",
              "      <td>7612</td>\n",
              "      <td>(株)Ｎｕｔｓ</td>\n",
              "      <td>東証JQS</td>\n",
              "      <td>卸売業</td>\n",
              "      <td>100</td>\n",
              "      <td>NaN</td>\n",
              "    </tr>\n",
              "    <tr>\n",
              "      <th>...</th>\n",
              "      <td>...</td>\n",
              "      <td>...</td>\n",
              "      <td>...</td>\n",
              "      <td>...</td>\n",
              "      <td>...</td>\n",
              "      <td>...</td>\n",
              "      <td>...</td>\n",
              "      <td>...</td>\n",
              "      <td>...</td>\n",
              "      <td>...</td>\n",
              "      <td>...</td>\n",
              "      <td>...</td>\n",
              "    </tr>\n",
              "    <tr>\n",
              "      <th>1877</th>\n",
              "      <td>0.762322</td>\n",
              "      <td>0.091510</td>\n",
              "      <td>0.411404</td>\n",
              "      <td>0.773980</td>\n",
              "      <td>-0.210076</td>\n",
              "      <td>6034</td>\n",
              "      <td>6034</td>\n",
              "      <td>ＭＲＴ(株)</td>\n",
              "      <td>マザーズ</td>\n",
              "      <td>サービス業</td>\n",
              "      <td>100</td>\n",
              "      <td>NaN</td>\n",
              "    </tr>\n",
              "    <tr>\n",
              "      <th>1359</th>\n",
              "      <td>0.800766</td>\n",
              "      <td>0.282132</td>\n",
              "      <td>0.293341</td>\n",
              "      <td>0.841693</td>\n",
              "      <td>0.029775</td>\n",
              "      <td>4480</td>\n",
              "      <td>4480</td>\n",
              "      <td>(株)メドレー</td>\n",
              "      <td>NaN</td>\n",
              "      <td>情報・通信</td>\n",
              "      <td>100</td>\n",
              "      <td>NaN</td>\n",
              "    </tr>\n",
              "    <tr>\n",
              "      <th>2902</th>\n",
              "      <td>1.282091</td>\n",
              "      <td>0.877193</td>\n",
              "      <td>-0.008350</td>\n",
              "      <td>0.860276</td>\n",
              "      <td>-0.018036</td>\n",
              "      <td>7891</td>\n",
              "      <td>7891</td>\n",
              "      <td>日本ユピカ(株)</td>\n",
              "      <td>東証JQS</td>\n",
              "      <td>化学</td>\n",
              "      <td>100</td>\n",
              "      <td>NaN</td>\n",
              "    </tr>\n",
              "    <tr>\n",
              "      <th>3487</th>\n",
              "      <td>0.511986</td>\n",
              "      <td>0.678801</td>\n",
              "      <td>0.047450</td>\n",
              "      <td>0.890792</td>\n",
              "      <td>0.077586</td>\n",
              "      <td>9325</td>\n",
              "      <td>9325</td>\n",
              "      <td>ファイズホールディングス(株)</td>\n",
              "      <td>東証1部</td>\n",
              "      <td>倉庫・運輸関連業</td>\n",
              "      <td>100</td>\n",
              "      <td>NaN</td>\n",
              "    </tr>\n",
              "    <tr>\n",
              "      <th>1367</th>\n",
              "      <td>1.085142</td>\n",
              "      <td>0.450000</td>\n",
              "      <td>0.236634</td>\n",
              "      <td>0.921538</td>\n",
              "      <td>-0.056800</td>\n",
              "      <td>4488</td>\n",
              "      <td>4488</td>\n",
              "      <td>ＡＩ　ｉｎｓｉｄｅ(株)</td>\n",
              "      <td>NaN</td>\n",
              "      <td>情報・通信</td>\n",
              "      <td>100</td>\n",
              "      <td>NaN</td>\n",
              "    </tr>\n",
              "  </tbody>\n",
              "</table>\n",
              "<p>3781 rows × 12 columns</p>\n",
              "</div>"
            ],
            "text/plain": [
              "      20200101_20200408  20200201_20200301  20200301_20200408  \\\n",
              "885           -0.821235          -0.179979          -0.795285   \n",
              "3590          -0.816138          -0.348227          -0.670284   \n",
              "212           -0.781732          -0.627078          -0.362319   \n",
              "3546          -0.776409          -0.064698          -0.757670   \n",
              "2750          -0.734694          -0.466667          -0.573770   \n",
              "...                 ...                ...                ...   \n",
              "1877           0.762322           0.091510           0.411404   \n",
              "1359           0.800766           0.282132           0.293341   \n",
              "2902           1.282091           0.877193          -0.008350   \n",
              "3487           0.511986           0.678801           0.047450   \n",
              "1367           1.085142           0.450000           0.236634   \n",
              "\n",
              "      20200201_20200408  20200215_20200315  code  銘柄コード                   銘柄名  \\\n",
              "885           -0.824281          -0.339708  3563   3563  (株)スシローグローバルホールディングス   \n",
              "3590          -0.773759          -0.511530  9625   9625               (株)セレスポ   \n",
              "212           -0.766841          -0.758027  2157   2157       (株)コシダカホールディングス   \n",
              "3546          -0.760056          -0.256131  9470   9470         (株)学研ホールディングス   \n",
              "2750          -0.752381          -0.744444  7612   7612               (株)Ｎｕｔｓ   \n",
              "...                 ...                ...   ...    ...                   ...   \n",
              "1877           0.773980          -0.210076  6034   6034                ＭＲＴ(株)   \n",
              "1359           0.841693           0.029775  4480   4480               (株)メドレー   \n",
              "2902           0.860276          -0.018036  7891   7891              日本ユピカ(株)   \n",
              "3487           0.890792           0.077586  9325   9325       ファイズホールディングス(株)   \n",
              "1367           0.921538          -0.056800  4488   4488          ＡＩ　ｉｎｓｉｄｅ(株)   \n",
              "\n",
              "        市場名      業種分類 単元株数  日経225採用銘柄  \n",
              "885    東証1部       小売業  100        NaN  \n",
              "3590  東証JQS     サービス業  100        NaN  \n",
              "212    東証1部     サービス業  100        NaN  \n",
              "3546   東証1部     情報・通信  100        NaN  \n",
              "2750  東証JQS       卸売業  100        NaN  \n",
              "...     ...       ...  ...        ...  \n",
              "1877   マザーズ     サービス業  100        NaN  \n",
              "1359    NaN     情報・通信  100        NaN  \n",
              "2902  東証JQS        化学  100        NaN  \n",
              "3487   東証1部  倉庫・運輸関連業  100        NaN  \n",
              "1367    NaN     情報・通信  100        NaN  \n",
              "\n",
              "[3781 rows x 12 columns]"
            ]
          },
          "metadata": {
            "tags": []
          },
          "execution_count": 62
        }
      ]
    },
    {
      "cell_type": "code",
      "metadata": {
        "id": "IOtLpcST550Z",
        "colab_type": "code",
        "colab": {}
      },
      "source": [
        ""
      ],
      "execution_count": null,
      "outputs": []
    }
  ]
}