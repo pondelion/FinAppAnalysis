{
  "nbformat": 4,
  "nbformat_minor": 0,
  "metadata": {
    "colab": {
      "name": "crypto_board_3dcnn_eco.ipynb",
      "provenance": [],
      "collapsed_sections": []
    },
    "kernelspec": {
      "name": "python3",
      "display_name": "Python 3"
    },
    "language_info": {
      "name": "python"
    },
    "accelerator": "GPU"
  },
  "cells": [
    {
      "cell_type": "markdown",
      "metadata": {
        "id": "iE34ciTOlAxT"
      },
      "source": [
        "ref : https://github.com/YutaroOgawa/pytorch_advanced/blob/master/9_video_classification_eco/9-4_3_ECO_DataLoader.ipynb"
      ]
    },
    {
      "cell_type": "code",
      "metadata": {
        "id": "GDWBod3Sybs6"
      },
      "source": [
        "import torch\n",
        "import torch.nn as nn\n",
        "from PIL import Image\n",
        "import numpy as np\n",
        "import torchvision"
      ],
      "execution_count": 1,
      "outputs": []
    },
    {
      "cell_type": "code",
      "metadata": {
        "id": "qPqVRPfV5K-F"
      },
      "source": [
        "class BasicConv(nn.Module):\n",
        "    '''ECOの2D Netモジュールの最初のモジュール'''\n",
        "\n",
        "    def __init__(self):\n",
        "        super(BasicConv, self).__init__()\n",
        "\n",
        "        self.conv1_7x7_s2 = nn.Conv2d(3, 64, kernel_size=(\n",
        "            7, 7), stride=(2, 2), padding=(3, 3))\n",
        "        self.conv1_7x7_s2_bn = nn.BatchNorm2d(\n",
        "            64, eps=1e-05, momentum=0.1, affine=True, track_running_stats=True)\n",
        "        self.conv1_relu_7x7 = nn.ReLU(inplace=True)\n",
        "        self.pool1_3x3_s2 = nn.MaxPool2d(\n",
        "            kernel_size=3, stride=2, padding=0, dilation=1, ceil_mode=True)\n",
        "        self.conv2_3x3_reduce = nn.Conv2d(\n",
        "            64, 64, kernel_size=(1, 1), stride=(1, 1))\n",
        "        self.conv2_3x3_reduce_bn = nn.BatchNorm2d(\n",
        "            64, eps=1e-05, momentum=0.1, affine=True, track_running_stats=True)\n",
        "        self.conv2_relu_3x3_reduce = nn.ReLU(inplace=True)\n",
        "        self.conv2_3x3 = nn.Conv2d(64, 192, kernel_size=(\n",
        "            3, 3), stride=(1, 1), padding=(1, 1))\n",
        "        self.conv2_3x3_bn = nn.BatchNorm2d(\n",
        "            192, eps=1e-05, momentum=0.1, affine=True, track_running_stats=True)\n",
        "        self.conv2_relu_3x3 = nn.ReLU(inplace=True)\n",
        "        self.pool2_3x3_s2 = nn.MaxPool2d(\n",
        "            kernel_size=3, stride=2, padding=0, dilation=1, ceil_mode=True)\n",
        "\n",
        "    def forward(self, x):\n",
        "        out = self.conv1_7x7_s2(x)\n",
        "        out = self.conv1_7x7_s2_bn(out)\n",
        "        out = self.conv1_relu_7x7(out)\n",
        "        out = self.pool1_3x3_s2(out)\n",
        "        out = self.conv2_3x3_reduce(out)\n",
        "        out = self.conv2_3x3_reduce_bn(out)\n",
        "        out = self.conv2_relu_3x3_reduce(out)\n",
        "        out = self.conv2_3x3(out)\n",
        "        out = self.conv2_3x3_bn(out)\n",
        "        out = self.conv2_relu_3x3(out)\n",
        "        out = self.pool2_3x3_s2(out)\n",
        "        return out"
      ],
      "execution_count": 2,
      "outputs": []
    },
    {
      "cell_type": "code",
      "metadata": {
        "id": "lyCwtKQI_oW-"
      },
      "source": [
        "\n",
        "class InceptionA(nn.Module):\n",
        "    '''InceptionA'''\n",
        "\n",
        "    def __init__(self):\n",
        "        super(InceptionA, self).__init__()\n",
        "\n",
        "        self.inception_3a_1x1 = nn.Conv2d(\n",
        "            192, 64, kernel_size=(1, 1), stride=(1, 1))\n",
        "        self.inception_3a_1x1_bn = nn.BatchNorm2d(\n",
        "            64, eps=1e-05, momentum=0.1, affine=True, track_running_stats=True)\n",
        "        self.inception_3a_relu_1x1 = nn.ReLU(inplace=True)\n",
        "\n",
        "        self.inception_3a_3x3_reduce = nn.Conv2d(\n",
        "            192, 64, kernel_size=(1, 1), stride=(1, 1))\n",
        "        self.inception_3a_3x3_reduce_bn = nn.BatchNorm2d(\n",
        "            64, eps=1e-05, momentum=0.1, affine=True, track_running_stats=True)\n",
        "        self.inception_3a_relu_3x3_reduce = nn.ReLU(inplace=True)\n",
        "        self.inception_3a_3x3 = nn.Conv2d(\n",
        "            64, 64, kernel_size=(3, 3), stride=(1, 1), padding=(1, 1))\n",
        "        self.inception_3a_3x3_bn = nn.BatchNorm2d(\n",
        "            64, eps=1e-05, momentum=0.1, affine=True, track_running_stats=True)\n",
        "        self.inception_3a_relu_3x3 = nn.ReLU(inplace=True)\n",
        "\n",
        "        self.inception_3a_double_3x3_reduce = nn.Conv2d(\n",
        "            192, 64, kernel_size=(1, 1), stride=(1, 1))\n",
        "        self.inception_3a_double_3x3_reduce_bn = nn.BatchNorm2d(\n",
        "            64, eps=1e-05, momentum=0.1, affine=True, track_running_stats=True)\n",
        "        self.inception_3a_relu_double_3x3_reduce = nn.ReLU(inplace=True)\n",
        "        self.inception_3a_double_3x3_1 = nn.Conv2d(\n",
        "            64, 96, kernel_size=(3, 3), stride=(1, 1), padding=(1, 1))\n",
        "        self.inception_3a_double_3x3_1_bn = nn.BatchNorm2d(\n",
        "            96, eps=1e-05, momentum=0.1, affine=True, track_running_stats=True)\n",
        "        self.inception_3a_relu_double_3x3_1 = nn.ReLU(inplace=True)\n",
        "        self.inception_3a_double_3x3_2 = nn.Conv2d(\n",
        "            96, 96, kernel_size=(3, 3), stride=(1, 1), padding=(1, 1))\n",
        "        self.inception_3a_double_3x3_2_bn = nn.BatchNorm2d(\n",
        "            96, eps=1e-05, momentum=0.1, affine=True, track_running_stats=True)\n",
        "        self.inception_3a_relu_double_3x3_2 = nn.ReLU(inplace=True)\n",
        "\n",
        "        self.inception_3a_pool = nn.AvgPool2d(\n",
        "            kernel_size=3, stride=1, padding=1)\n",
        "        self.inception_3a_pool_proj = nn.Conv2d(\n",
        "            192, 32, kernel_size=(1, 1), stride=(1, 1))\n",
        "        self.inception_3a_pool_proj_bn = nn.BatchNorm2d(\n",
        "            32, eps=1e-05, momentum=0.1, affine=True, track_running_stats=True)\n",
        "        self.inception_3a_relu_pool_proj = nn.ReLU(inplace=True)\n",
        "\n",
        "    def forward(self, x):\n",
        "\n",
        "        out1 = self.inception_3a_1x1(x)\n",
        "        out1 = self.inception_3a_1x1_bn(out1)\n",
        "        out1 = self.inception_3a_relu_1x1(out1)\n",
        "\n",
        "        out2 = self.inception_3a_3x3_reduce(x)\n",
        "        out2 = self.inception_3a_3x3_reduce_bn(out2)\n",
        "        out2 = self.inception_3a_relu_3x3_reduce(out2)\n",
        "        out2 = self.inception_3a_3x3(out2)\n",
        "        out2 = self.inception_3a_3x3_bn(out2)\n",
        "        out2 = self.inception_3a_relu_3x3(out2)\n",
        "\n",
        "        out3 = self.inception_3a_double_3x3_reduce(x)\n",
        "        out3 = self.inception_3a_double_3x3_reduce_bn(out3)\n",
        "        out3 = self.inception_3a_relu_double_3x3_reduce(out3)\n",
        "        out3 = self.inception_3a_double_3x3_1(out3)\n",
        "        out3 = self.inception_3a_double_3x3_1_bn(out3)\n",
        "        out3 = self.inception_3a_relu_double_3x3_1(out3)\n",
        "        out3 = self.inception_3a_double_3x3_2(out3)\n",
        "        out3 = self.inception_3a_double_3x3_2_bn(out3)\n",
        "        out3 = self.inception_3a_relu_double_3x3_2(out3)\n",
        "\n",
        "        out4 = self.inception_3a_pool(x)\n",
        "        out4 = self.inception_3a_pool_proj(out4)\n",
        "        out4 = self.inception_3a_pool_proj_bn(out4)\n",
        "        out4 = self.inception_3a_relu_pool_proj(out4)\n",
        "\n",
        "        outputs = [out1, out2, out3, out4]\n",
        "\n",
        "        return torch.cat(outputs, 1)"
      ],
      "execution_count": 3,
      "outputs": []
    },
    {
      "cell_type": "code",
      "metadata": {
        "id": "ypZlEBWbVNVn"
      },
      "source": [
        "class InceptionB(nn.Module):\n",
        "    '''InceptionB'''\n",
        "\n",
        "    def __init__(self):\n",
        "        super(InceptionB, self).__init__()\n",
        "        \n",
        "        self.inception_3b_1x1 = nn.Conv2d(\n",
        "            256, 64, kernel_size=(1, 1), stride=(1, 1))\n",
        "        self.inception_3b_1x1_bn = nn.BatchNorm2d(\n",
        "            64, eps=1e-05, momentum=0.1, affine=True, track_running_stats=True)\n",
        "        self.inception_3b_relu_1x1 = nn.ReLU(inplace=True)\n",
        "\n",
        "        self.inception_3b_3x3_reduce = nn.Conv2d(\n",
        "            256, 64, kernel_size=(1, 1), stride=(1, 1))\n",
        "        self.inception_3b_3x3_reduce_bn = nn.BatchNorm2d(\n",
        "            64, eps=1e-05, momentum=0.1, affine=True, track_running_stats=True)\n",
        "        self.inception_3b_relu_3x3_reduce = nn.ReLU(inplace=True)\n",
        "        self.inception_3b_3x3 = nn.Conv2d(\n",
        "            64, 96, kernel_size=(3, 3), stride=(1, 1), padding=(1, 1))\n",
        "        self.inception_3b_3x3_bn = nn.BatchNorm2d(\n",
        "            96, eps=1e-05, momentum=0.1, affine=True, track_running_stats=True)\n",
        "        self.inception_3b_relu_3x3 = nn.ReLU(inplace=True)\n",
        "\n",
        "        self.inception_3b_double_3x3_reduce = nn.Conv2d(\n",
        "            256, 64, kernel_size=(1, 1), stride=(1, 1))\n",
        "        self.inception_3b_double_3x3_reduce_bn = nn.BatchNorm2d(\n",
        "            64, eps=1e-05, momentum=0.1, affine=True, track_running_stats=True)\n",
        "        self.inception_3b_relu_double_3x3_reduce = nn.ReLU(inplace=True)\n",
        "        self.inception_3b_double_3x3_1 = nn.Conv2d(\n",
        "            64, 96, kernel_size=(3, 3), stride=(1, 1), padding=(1, 1))\n",
        "        self.inception_3b_double_3x3_1_bn = nn.BatchNorm2d(\n",
        "            96, eps=1e-05, momentum=0.1, affine=True, track_running_stats=True)\n",
        "        self.inception_3b_relu_double_3x3_1 = nn.ReLU(inplace=True)\n",
        "        self.inception_3b_double_3x3_2 = nn.Conv2d(\n",
        "            96, 96, kernel_size=(3, 3), stride=(1, 1), padding=(1, 1))\n",
        "        self.inception_3b_double_3x3_2_bn = nn.BatchNorm2d(\n",
        "            96, eps=1e-05, momentum=0.1, affine=True, track_running_stats=True)\n",
        "        self.inception_3b_relu_double_3x3_2 = nn.ReLU(inplace=True)\n",
        "\n",
        "        self.inception_3b_pool = nn.AvgPool2d(\n",
        "            kernel_size=3, stride=1, padding=1)\n",
        "        self.inception_3b_pool_proj = nn.Conv2d(\n",
        "            256, 64, kernel_size=(1, 1), stride=(1, 1))\n",
        "        self.inception_3b_pool_proj_bn = nn.BatchNorm2d(\n",
        "            64, eps=1e-05, momentum=0.1, affine=True, track_running_stats=True)\n",
        "        self.inception_3b_relu_pool_proj = nn.ReLU(inplace=True)\n",
        "\n",
        "    def forward(self, x):\n",
        "        \n",
        "        out1 = self.inception_3b_1x1(x)\n",
        "        out1 = self.inception_3b_1x1_bn(out1)\n",
        "        out1 = self.inception_3b_relu_1x1(out1)\n",
        "\n",
        "        out2 = self.inception_3b_3x3_reduce(x)\n",
        "        out2 = self.inception_3b_3x3_reduce_bn(out2)\n",
        "        out2 = self.inception_3b_relu_3x3_reduce(out2)\n",
        "        out2 = self.inception_3b_3x3(out2)\n",
        "        out2 = self.inception_3b_3x3_bn(out2)\n",
        "        out2 = self.inception_3b_relu_3x3(out2)\n",
        "\n",
        "        out3 = self.inception_3b_double_3x3_reduce(x)\n",
        "        out3 = self.inception_3b_double_3x3_reduce_bn(out3)\n",
        "        out3 = self.inception_3b_relu_double_3x3_reduce(out3)\n",
        "        out3 = self.inception_3b_double_3x3_1(out3)\n",
        "        out3 = self.inception_3b_double_3x3_1_bn(out3)\n",
        "        out3 = self.inception_3b_relu_double_3x3_1(out3)\n",
        "        out3 = self.inception_3b_double_3x3_2(out3)\n",
        "        out3 = self.inception_3b_double_3x3_2_bn(out3)\n",
        "        out3 = self.inception_3b_relu_double_3x3_2(out3)\n",
        "\n",
        "        out4 = self.inception_3b_pool(x)\n",
        "        out4 = self.inception_3b_pool_proj(out4)\n",
        "        out4 = self.inception_3b_pool_proj_bn(out4)\n",
        "        out4 = self.inception_3b_relu_pool_proj(out4)\n",
        "\n",
        "        outputs = [out1, out2, out3, out4]\n",
        "\n",
        "        return torch.cat(outputs, 1)"
      ],
      "execution_count": 4,
      "outputs": []
    },
    {
      "cell_type": "code",
      "metadata": {
        "id": "dkxExJusVQXF"
      },
      "source": [
        "class InceptionC(nn.Module):\n",
        "    '''InceptionC'''\n",
        "\n",
        "    def __init__(self):\n",
        "        super(InceptionC, self).__init__()\n",
        "\n",
        "        self.inception_3c_double_3x3_reduce = nn.Conv2d(\n",
        "            320, 64, kernel_size=(1, 1), stride=(1, 1))\n",
        "        self.inception_3c_double_3x3_reduce_bn = nn.BatchNorm2d(\n",
        "            64, eps=1e-05, momentum=0.1, affine=True, track_running_stats=True)\n",
        "        self.inception_3c_relu_double_3x3_reduce = nn.ReLU(inplace=True)\n",
        "        self.inception_3c_double_3x3_1 = nn.Conv2d(\n",
        "            64, 96, kernel_size=(3, 3), stride=(1, 1), padding=(1, 1))\n",
        "        self.inception_3c_double_3x3_1_bn = nn.BatchNorm2d(\n",
        "            96, eps=1e-05, momentum=0.1, affine=True, track_running_stats=True)\n",
        "        self.inception_3c_relu_double_3x3_1 = nn.ReLU(inplace=True)\n",
        "\n",
        "    def forward(self, x):\n",
        "        out = self.inception_3c_double_3x3_reduce(x)\n",
        "        out = self.inception_3c_double_3x3_reduce_bn(out)\n",
        "        out = self.inception_3c_relu_double_3x3_reduce(out)\n",
        "        out = self.inception_3c_double_3x3_1(out)\n",
        "        out = self.inception_3c_double_3x3_1_bn(out)\n",
        "        out = self.inception_3c_relu_double_3x3_1(out)\n",
        "\n",
        "        return out"
      ],
      "execution_count": 5,
      "outputs": []
    },
    {
      "cell_type": "code",
      "metadata": {
        "id": "wZxp5VbaVhVd"
      },
      "source": [
        "\n",
        "class ECO_2D(nn.Module):\n",
        "    def __init__(self):\n",
        "        super(ECO_2D, self).__init__()\n",
        "\n",
        "        # BasicConvモジュール\n",
        "        self.basic_conv = BasicConv()\n",
        "\n",
        "        # Inceptionモジュール\n",
        "        self.inception_a = InceptionA()\n",
        "        self.inception_b = InceptionB()\n",
        "        self.inception_c = InceptionC()\n",
        "\n",
        "    def forward(self, x):\n",
        "        '''\n",
        "        入力xのサイズtorch.Size([batch_num, 3, 224, 224]))\n",
        "        '''\n",
        "        out = self.basic_conv(x)\n",
        "        out = self.inception_a(out)\n",
        "        out = self.inception_b(out)\n",
        "        out = self.inception_c(out)\n",
        "\n",
        "        return out"
      ],
      "execution_count": 6,
      "outputs": []
    },
    {
      "cell_type": "code",
      "metadata": {
        "id": "R1sugoAZVj8W"
      },
      "source": [
        ""
      ],
      "execution_count": 6,
      "outputs": []
    },
    {
      "cell_type": "code",
      "metadata": {
        "id": "-fnu_ZgRV-_i"
      },
      "source": [
        "\n",
        "class Resnet_3D_3(nn.Module):\n",
        "    '''Resnet_3D_3'''\n",
        "\n",
        "    def __init__(self):\n",
        "        super(Resnet_3D_3, self).__init__()\n",
        "        \n",
        "        self.res3a_2 = nn.Conv3d(96, 128, kernel_size=(\n",
        "            3, 3, 3), stride=(1, 1, 1), padding=(1, 1, 1))\n",
        "        \n",
        "        self.res3a_bn = nn.BatchNorm3d(\n",
        "            128, eps=1e-05, momentum=0.1, affine=True, track_running_stats=True)\n",
        "        self.res3a_relu = nn.ReLU(inplace=True)\n",
        "\n",
        "        self.res3b_1 = nn.Conv3d(128, 128, kernel_size=(\n",
        "            3, 3, 3), stride=(1, 1, 1), padding=(1, 1, 1))\n",
        "        self.res3b_1_bn = nn.BatchNorm3d(\n",
        "            128, eps=1e-05, momentum=0.1, affine=True, track_running_stats=True)\n",
        "        self.res3b_1_relu = nn.ReLU(inplace=True)\n",
        "        self.res3b_2 = nn.Conv3d(128, 128, kernel_size=(\n",
        "            3, 3, 3), stride=(1, 1, 1), padding=(1, 1, 1))\n",
        "        \n",
        "        self.res3b_bn = nn.BatchNorm3d(\n",
        "            128, eps=1e-05, momentum=0.1, affine=True, track_running_stats=True)\n",
        "        self.res3b_relu = nn.ReLU(inplace=True)\n",
        "\n",
        "    def forward(self, x):\n",
        "\n",
        "        residual = self.res3a_2(x)\n",
        "        out = self.res3a_bn(residual)\n",
        "        out = self.res3a_relu(out)\n",
        "\n",
        "        out = self.res3b_1(out)\n",
        "        out = self.res3b_1_bn(out)\n",
        "        out = self.res3b_relu(out)\n",
        "        out = self.res3b_2(out)\n",
        "\n",
        "        out += residual\n",
        "\n",
        "        out = self.res3b_bn(out)\n",
        "        out = self.res3b_relu(out)\n",
        "\n",
        "        return out"
      ],
      "execution_count": 7,
      "outputs": []
    },
    {
      "cell_type": "code",
      "metadata": {
        "id": "8bZOdl3_V_Uu"
      },
      "source": [
        "class Resnet_3D_4(nn.Module):\n",
        "    '''Resnet_3D_4'''\n",
        "\n",
        "    def __init__(self):\n",
        "        super(Resnet_3D_4, self).__init__()\n",
        "\n",
        "        self.res4a_1 = nn.Conv3d(128, 256, kernel_size=(\n",
        "            3, 3, 3), stride=(2, 2, 2), padding=(1, 1, 1))\n",
        "        self.res4a_1_bn = nn.BatchNorm3d(\n",
        "            256, eps=1e-05, momentum=0.1, affine=True, track_running_stats=True)\n",
        "        self.res4a_1_relu = nn.ReLU(inplace=True)\n",
        "        self.res4a_2 = nn.Conv3d(256, 256, kernel_size=(\n",
        "            3, 3, 3), stride=(1, 1, 1), padding=(1, 1, 1))\n",
        "        \n",
        "        self.res4a_down = nn.Conv3d(128, 256, kernel_size=(\n",
        "            3, 3, 3), stride=(2, 2, 2), padding=(1, 1, 1))\n",
        "        \n",
        "        self.res4a_bn = nn.BatchNorm3d(\n",
        "            256, eps=1e-05, momentum=0.1, affine=True, track_running_stats=True)\n",
        "        self.res4a_relu = nn.ReLU(inplace=True)\n",
        "        \n",
        "        self.res4b_1 = nn.Conv3d(256, 256, kernel_size=(\n",
        "            3, 3, 3), stride=(1, 1, 1), padding=(1, 1, 1))\n",
        "        self.res4b_1_bn = nn.BatchNorm3d(\n",
        "            256, eps=1e-05, momentum=0.1, affine=True, track_running_stats=True)\n",
        "        self.res4b_1_relu = nn.ReLU(inplace=True)\n",
        "        self.res4b_2 = nn.Conv3d(256, 256, kernel_size=(\n",
        "            3, 3, 3), stride=(1, 1, 1), padding=(1, 1, 1))\n",
        "        \n",
        "        self.res4b_bn = nn.BatchNorm3d(\n",
        "            256, eps=1e-05, momentum=0.1, affine=True, track_running_stats=True)\n",
        "        self.res4b_relu = nn.ReLU(inplace=True)\n",
        "\n",
        "    def forward(self, x):\n",
        "        residual = self.res4a_down(x)\n",
        "\n",
        "        out = self.res4a_1(x)\n",
        "        out = self.res4a_1_bn(out)\n",
        "        out = self.res4a_1_relu(out)\n",
        "\n",
        "        out = self.res4a_2(out)\n",
        "\n",
        "        out += residual\n",
        "\n",
        "        residual2 = out\n",
        "\n",
        "        out = self.res4a_bn(out)\n",
        "        out = self.res4a_relu(out)\n",
        "\n",
        "        out = self.res4b_1(out)\n",
        "\n",
        "        out = self.res4b_1_bn(out)\n",
        "        out = self.res4b_1_relu(out)\n",
        "\n",
        "        out = self.res4b_2(out)\n",
        "\n",
        "        out += residual2\n",
        "\n",
        "        out = self.res4b_bn(out)\n",
        "        out = self.res4b_relu(out)\n",
        "\n",
        "        return out"
      ],
      "execution_count": 8,
      "outputs": []
    },
    {
      "cell_type": "code",
      "metadata": {
        "id": "q3YkOmeTWGN-"
      },
      "source": [
        "class Resnet_3D_5(nn.Module):\n",
        "    '''Resnet_3D_5'''\n",
        "\n",
        "    def __init__(self):\n",
        "        super(Resnet_3D_5, self).__init__()\n",
        "        \n",
        "        self.res5a_1 = nn.Conv3d(256, 512, kernel_size=(\n",
        "            3, 3, 3), stride=(2, 2, 2), padding=(1, 1, 1))\n",
        "        self.res5a_1_bn = nn.BatchNorm3d(\n",
        "            512, eps=1e-05, momentum=0.1, affine=True, track_running_stats=True)\n",
        "        self.res5a_1_relu = nn.ReLU(inplace=True)\n",
        "        self.res5a_2 = nn.Conv3d(512, 512, kernel_size=(\n",
        "            3, 3, 3), stride=(1, 1, 1), padding=(1, 1, 1))\n",
        "        \n",
        "        self.res5a_down = nn.Conv3d(256, 512, kernel_size=(\n",
        "            3, 3, 3), stride=(2, 2, 2), padding=(1, 1, 1))\n",
        "        \n",
        "        self.res5a_bn = nn.BatchNorm3d(\n",
        "            512, eps=1e-05, momentum=0.1, affine=True, track_running_stats=True)\n",
        "        self.res5a_relu = nn.ReLU(inplace=True)\n",
        "        \n",
        "        self.res5b_1 = nn.Conv3d(512, 512, kernel_size=(\n",
        "            3, 3, 3), stride=(1, 1, 1), padding=(1, 1, 1))\n",
        "        self.res5b_1_bn = nn.BatchNorm3d(\n",
        "            512, eps=1e-05, momentum=0.1, affine=True, track_running_stats=True)\n",
        "        self.res5b_1_relu = nn.ReLU(inplace=True)\n",
        "        self.res5b_2 = nn.Conv3d(512, 512, kernel_size=(\n",
        "            3, 3, 3), stride=(1, 1, 1), padding=(1, 1, 1))\n",
        "        \n",
        "        self.res5b_bn = nn.BatchNorm3d(\n",
        "            512, eps=1e-05, momentum=0.1, affine=True, track_running_stats=True)\n",
        "        self.res5b_relu = nn.ReLU(inplace=True)\n",
        "\n",
        "    def forward(self, x):\n",
        "        residual = self.res5a_down(x)\n",
        "\n",
        "        out = self.res5a_1(x)\n",
        "        out = self.res5a_1_bn(out)\n",
        "        out = self.res5a_1_relu(out)\n",
        "\n",
        "        out = self.res5a_2(out)\n",
        "\n",
        "        out += residual  # res5a\n",
        "\n",
        "        residual2 = out\n",
        "\n",
        "        out = self.res5a_bn(out)\n",
        "        out = self.res5a_relu(out)\n",
        "\n",
        "        out = self.res5b_1(out)\n",
        "\n",
        "        out = self.res5b_1_bn(out)\n",
        "        out = self.res5b_1_relu(out)\n",
        "\n",
        "        out = self.res5b_2(out)\n",
        "\n",
        "        out += residual2  # res5b\n",
        "\n",
        "        out = self.res5b_bn(out)\n",
        "        out = self.res5b_relu(out)\n",
        "\n",
        "        return out"
      ],
      "execution_count": 9,
      "outputs": []
    },
    {
      "cell_type": "code",
      "metadata": {
        "id": "gM2zvythWIon"
      },
      "source": [
        "class ECO_3D(nn.Module):\n",
        "    def __init__(self, frames):\n",
        "        super(ECO_3D, self).__init__()\n",
        "\n",
        "        # 3D_Resnetジュール\n",
        "        self.res_3d_3 = Resnet_3D_3()\n",
        "        self.res_3d_4 = Resnet_3D_4()\n",
        "        self.res_3d_5 = Resnet_3D_5()\n",
        "\n",
        "        # Global Average Pooling\n",
        "        pool_kernel_size = self._get_pool_kernel_size(frames)\n",
        "        self.global_pool = nn.AvgPool3d(\n",
        "            # kernel_size=(4, 7, 7), stride=1, padding=0)\n",
        "            kernel_size=pool_kernel_size, stride=1, padding=0)\n",
        "\n",
        "    def forward(self, x):\n",
        "        '''\n",
        "        入力xのサイズtorch.Size([batch_num,frames, 96, 28, 28]))\n",
        "        '''\n",
        "        out = torch.transpose(x, 1, 2)  # テンソルの順番入れ替え\n",
        "        out = self.res_3d_3(out)\n",
        "        out = self.res_3d_4(out)\n",
        "        out = self.res_3d_5(out)\n",
        "        out = self.global_pool(out)\n",
        "        \n",
        "        # テンソルサイズを変更\n",
        "        # torch.Size([batch_num, 512, 1, 1, 1])からtorch.Size([batch_num, 512])へ\n",
        "        out =out.view(out.size()[0], out.size()[1])\n",
        "        \n",
        "        return out\n",
        "\n",
        "    def _get_pool_kernel_size(self, frames):\n",
        "        dummy_input = torch.randn(2, frames, 96, 28, 28)\n",
        "        out = torch.transpose(dummy_input, 1, 2)\n",
        "        out = self.res_3d_3(out)\n",
        "        out = self.res_3d_4(out)\n",
        "        out = self.res_3d_5(out)\n",
        "        return out.shape[-3:]"
      ],
      "execution_count": 10,
      "outputs": []
    },
    {
      "cell_type": "code",
      "metadata": {
        "id": "zZ7icJl2GyNo"
      },
      "source": [
        "class ECO_Lite(nn.Module):\n",
        "    def __init__(self, frames):\n",
        "        super(ECO_Lite, self).__init__()\n",
        "\n",
        "        # 2D Netモジュール\n",
        "        self.eco_2d = ECO_2D()\n",
        "\n",
        "        # 3D Netモジュール\n",
        "        self.eco_3d = ECO_3D(frames)\n",
        "\n",
        "        # クラス分類の全結合層\n",
        "        self.fc_final = nn.Linear(in_features=512, out_features=1, bias=True)\n",
        "\n",
        "    def forward(self, x):\n",
        "        '''\n",
        "        入力xはtorch.Size([batch_num, num_segments=16, 3, 224, 224]))\n",
        "        '''\n",
        "\n",
        "        # 入力xの各次元のサイズを取得する\n",
        "        bs, ns, c, h, w = x.shape\n",
        "\n",
        "        # xを(bs*ns, c, h, w)にサイズ変換する\n",
        "        out = x.reshape(-1, c, h, w)\n",
        "        # （注釈）\n",
        "        # PyTorchのConv2Dは入力のサイズが(batch_num, c, h, w)しか受け付けないため\n",
        "        # (batch_num, num_segments, c, h, w)は処理できない\n",
        "        # 今は2次元画像を独立に処理するので、num_segmentsはbatch_numの次元に押し込んでも良いため\n",
        "        # (batch_num×num_segments, c, h, w)にサイズを変換する\n",
        "\n",
        "        # 2D Netモジュール 出力torch.Size([batch_num×16, 96, 28, 28])\n",
        "        out = self.eco_2d(out)\n",
        "\n",
        "        # 2次元画像をテンソルを3次元用に変換する\n",
        "        # num_segmentsをbatch_numの次元に押し込んだものを元に戻す\n",
        "        out = out.reshape(-1, ns, 96, 28, 28)\n",
        "\n",
        "        # 3D Netモジュール 出力torch.Size([batch_num, 512])\n",
        "        out = self.eco_3d(out)\n",
        "\n",
        "        # クラス分類の全結合層　出力torch.Size([batch_num, class_num=400])\n",
        "        out = self.fc_final(out)\n",
        "\n",
        "        return out"
      ],
      "execution_count": 11,
      "outputs": []
    },
    {
      "cell_type": "code",
      "metadata": {
        "id": "QvNyCOB-WLy_"
      },
      "source": [
        ""
      ],
      "execution_count": 11,
      "outputs": []
    },
    {
      "cell_type": "code",
      "metadata": {
        "id": "mVdTeOH-d45F"
      },
      "source": [
        "class VideoTransform():\n",
        "\n",
        "    def __init__(self, resize, crop_size, mean, std):\n",
        "        self.data_transform = {\n",
        "            'train': torchvision.transforms.Compose([\n",
        "                # DataAugumentation()  # 今回は省略\n",
        "                GroupResize(int(resize)),  # 画像をまとめてリサイズ　\n",
        "                GroupCenterCrop(crop_size),  # 画像をまとめてセンタークロップ\n",
        "                GroupToTensor(),  # データをPyTorchのテンソルに\n",
        "                GroupImgNormalize(mean, std),  # データを標準化\n",
        "                Stack()  # 複数画像をframes次元で結合させる\n",
        "            ]),\n",
        "            'val': torchvision.transforms.Compose([\n",
        "                GroupResize(int(resize)),  # 画像をまとめてリサイズ　\n",
        "                GroupCenterCrop(crop_size),  # 画像をまとめてセンタークロップ\n",
        "                GroupToTensor(),  # データをPyTorchのテンソルに\n",
        "                GroupImgNormalize(mean, std),  # データを標準化\n",
        "                Stack()  # 複数画像をframes次元で結合させる\n",
        "            ])\n",
        "        }\n",
        "\n",
        "    def __call__(self, img_group, phase):\n",
        "        \"\"\"\n",
        "        Parameters\n",
        "        ----------\n",
        "        phase : 'train' or 'val'\n",
        "            前処理のモードを指定。\n",
        "        \"\"\"\n",
        "        return self.data_transform[phase](img_group)"
      ],
      "execution_count": 12,
      "outputs": []
    },
    {
      "cell_type": "code",
      "metadata": {
        "id": "3ZMlD_bed5LE"
      },
      "source": [
        "class GroupResize():\n",
        "    ''' 画像をまとめてリスケールするクラス。\n",
        "    画像の短い方の辺の長さがresizeに変換される。\n",
        "    アスペクト比は保たれる。\n",
        "    '''\n",
        "\n",
        "    def __init__(self, resize, interpolation=Image.BILINEAR):\n",
        "        '''リスケールする処理を用意'''\n",
        "        self.rescaler = torchvision.transforms.Resize(resize, interpolation)\n",
        "\n",
        "    def __call__(self, img_group):\n",
        "        '''リスケールをimg_group(リスト)内の各imgに実施'''\n",
        "        return [self.rescaler(img) for img in img_group]\n",
        "\n",
        "\n",
        "class GroupCenterCrop():\n",
        "    ''' 画像をまとめてセンタークロップするクラス。\n",
        "        （crop_size, crop_size）の画像を切り出す。\n",
        "    '''\n",
        "\n",
        "    def __init__(self, crop_size):\n",
        "        '''センタークロップする処理を用意'''\n",
        "        self.ccrop = torchvision.transforms.CenterCrop(crop_size)\n",
        "\n",
        "    def __call__(self, img_group):\n",
        "        '''センタークロップをimg_group(リスト)内の各imgに実施'''\n",
        "        return [self.ccrop(img) for img in img_group]\n",
        "\n",
        "\n",
        "class GroupToTensor():\n",
        "    ''' 画像をまとめてテンソル化するクラス。\n",
        "    '''\n",
        "\n",
        "    def __init__(self):\n",
        "        '''テンソル化する処理を用意'''\n",
        "        self.to_tensor = torchvision.transforms.ToTensor()\n",
        "\n",
        "    def __call__(self, img_group):\n",
        "        '''テンソル化をimg_group(リスト)内の各imgに実施\n",
        "        0から1ではなく、0から255で扱うため、255をかけ算する。\n",
        "        0から255で扱うのは、学習済みデータの形式に合わせるため\n",
        "        '''\n",
        "\n",
        "        return [self.to_tensor(img)*255 for img in img_group]\n",
        "\n",
        "\n",
        "class GroupImgNormalize():\n",
        "    ''' 画像をまとめて標準化するクラス。\n",
        "    '''\n",
        "\n",
        "    def __init__(self, mean, std):\n",
        "        '''標準化する処理を用意'''\n",
        "        self.normlize = torchvision.transforms.Normalize(mean, std)\n",
        "\n",
        "    def __call__(self, img_group):\n",
        "        '''標準化をimg_group(リスト)内の各imgに実施'''\n",
        "        return [self.normlize(img) for img in img_group]\n",
        "\n",
        "\n",
        "class Stack():\n",
        "    ''' 画像を一つのテンソルにまとめるクラス。\n",
        "    '''\n",
        "\n",
        "    def __call__(self, img_group):\n",
        "        '''img_groupはtorch.Size([3, 224, 224])を要素とするリスト\n",
        "        '''\n",
        "        ret = torch.cat([(x.flip(dims=[0])).unsqueeze(dim=0)\n",
        "                         for x in img_group], dim=0)  # frames次元で結合\n",
        "        # x.flip(dims=[0])は色チャネルをRGBからBGRへと順番を変えています（元の学習データがBGRであったため）\n",
        "        # unsqueeze(dim=0)はあらたにframes用の次元を作成しています\n",
        "\n",
        "        return ret"
      ],
      "execution_count": 13,
      "outputs": []
    },
    {
      "cell_type": "code",
      "metadata": {
        "id": "L504mOCEd_AT"
      },
      "source": [
        "\n",
        "class VideoDataset(torch.utils.data.Dataset):\n",
        "    \"\"\"\n",
        "    動画のDataset\n",
        "    \"\"\"\n",
        "\n",
        "    def __init__(self, video_list, labels, phase, transform):\n",
        "        self.video_list = video_list  # 動画画像のフォルダへのパスリスト\n",
        "        self.labels = labels\n",
        "        self.phase = phase  # train or val\n",
        "        self.transform = transform  # 前処理\n",
        "\n",
        "    def __len__(self):\n",
        "        '''動画の数を返す'''\n",
        "        return len(self.video_list)\n",
        "\n",
        "    def __getitem__(self, index):\n",
        "        '''\n",
        "        前処理をした画像たちのデータとラベル、ラベルIDを取得\n",
        "        '''\n",
        "        imgs_transformed, label = self.pull_item(index)\n",
        "        return imgs_transformed, label\n",
        "\n",
        "    def pull_item(self, index):\n",
        "        '''前処理をした画像たちのデータとラベル、ラベルIDを取得'''\n",
        "\n",
        "        # 1. 画像たちをリストに読み込む\n",
        "        img_files = self.video_list[index]  # 画像が格納されたフォルダ\n",
        "        img_group = self._load_imgs(img_files)  # リストに読み込む\n",
        "\n",
        "        # 3. 前処理を実施\n",
        "        imgs_transformed = self.transform(img_group, phase=self.phase)\n",
        "\n",
        "        return imgs_transformed, self.labels[index]\n",
        "\n",
        "    def _load_imgs(self, img_files):\n",
        "        '''画像をまとめて読み込み、リスト化する関数'''\n",
        "        img_group = []  # 画像を格納するリスト\n",
        "\n",
        "        for img_file in img_files:\n",
        "            img = Image.open(img_file).convert('RGB')\n",
        "            img_group.append(img)\n",
        "        return img_group\n"
      ],
      "execution_count": 14,
      "outputs": []
    },
    {
      "cell_type": "code",
      "metadata": {
        "id": "lZHMpkf1pqHm"
      },
      "source": [
        ""
      ],
      "execution_count": 14,
      "outputs": []
    },
    {
      "cell_type": "code",
      "metadata": {
        "colab": {
          "base_uri": "https://localhost:8080/"
        },
        "id": "mUK1JKH3pp_w",
        "outputId": "61187cbe-0a6d-4a2c-ed0b-b8621e137f90"
      },
      "source": [
        "!pip install fsspec s3fs japanize_matplotlib boto3 > /dev/null"
      ],
      "execution_count": 19,
      "outputs": [
        {
          "output_type": "stream",
          "text": [
            "\u001b[31mERROR: requests 2.23.0 has requirement urllib3!=1.25.0,!=1.25.1,<1.26,>=1.21.1, but you'll have urllib3 1.26.4 which is incompatible.\u001b[0m\n",
            "\u001b[31mERROR: datascience 0.10.6 has requirement folium==0.2.1, but you'll have folium 0.8.3 which is incompatible.\u001b[0m\n",
            "\u001b[31mERROR: aiobotocore 1.2.2 has requirement botocore<1.19.53,>=1.19.52, but you'll have botocore 1.20.34 which is incompatible.\u001b[0m\n"
          ],
          "name": "stdout"
        }
      ]
    },
    {
      "cell_type": "code",
      "metadata": {
        "id": "j17ov_-Y4tG2"
      },
      "source": [
        "import os\n",
        "import pandas as pd\n",
        "import matplotlib.pyplot as plt\n",
        "import japanize_matplotlib\n",
        "from datetime import datetime, timedelta\n",
        "import numpy as np\n",
        "from fastprogress import progress_bar as pb\n",
        "import seaborn as sns\n",
        "import boto3\n",
        "from typing import List\n",
        "sns.set(font=\"IPAexGothic\")"
      ],
      "execution_count": 20,
      "outputs": []
    },
    {
      "cell_type": "code",
      "metadata": {
        "id": "57br_P_D4txE"
      },
      "source": [
        "import warnings\n",
        "warnings.simplefilter('ignore')"
      ],
      "execution_count": 21,
      "outputs": []
    },
    {
      "cell_type": "code",
      "metadata": {
        "id": "qZPzkEl946-b"
      },
      "source": [
        "_aws_session = boto3.session.Session(\n",
        "    region_name='ap-northeast-1',\n",
        "    aws_access_key_id=os.environ[\"AWS_ACCESS_KEY_ID\"],\n",
        "    aws_secret_access_key=os.environ[\"AWS_SECRET_ACCESS_KEY\"],\n",
        ")\n",
        "\n",
        "S3_resource = _aws_session.resource('s3')\n",
        "\n",
        "S3_BUCKET_NAME = 'finapp-crypto-currency'\n",
        "\n",
        "class S3:\n",
        "\n",
        "    @staticmethod\n",
        "    def save_file(\n",
        "        local_filepath: str,\n",
        "        s3_filepath: str,\n",
        "        bucket_name: str = S3_BUCKET_NAME,\n",
        "    ) -> None:\n",
        "        \"\"\"[summary]\n",
        "        Args:\n",
        "            local_filepath (str): [description]\n",
        "            s3_filepath (str): [description]\n",
        "            bucket_name (str, optional): [description]. Defaults to AWSConfig.S3_BUCKET_NAME.\n",
        "        \"\"\"\n",
        "        bucket = S3_resource.Bucket(bucket_name)\n",
        "\n",
        "        bucket.upload_file(\n",
        "            local_filepath,\n",
        "            s3_filepath\n",
        "        )\n",
        "\n",
        "    @staticmethod\n",
        "    def get_filelist(\n",
        "        basedir: str,\n",
        "        bucket_name: str = S3_BUCKET_NAME,\n",
        "        marker: str = '',\n",
        "    ) -> List[str]:\n",
        "        \"\"\"[summary]\n",
        "        Args:\n",
        "            basedir (str): [description]\n",
        "            bucket_name (str, optional): [description]. Defaults to AWSConfig.S3_BUCKET_NAME.\n",
        "            marker (str, optional): [description]. Defaults to ''.\n",
        "        Returns:\n",
        "            List[str]: [description]\n",
        "        \"\"\"\n",
        "        bucket = S3_resource.Bucket(bucket_name)\n",
        "        objs = bucket.meta.client.list_objects(\n",
        "            Bucket=bucket.name,\n",
        "            Prefix=basedir if basedir[-1] == '/' else basedir + '/',\n",
        "            Marker=marker,\n",
        "        )\n",
        "\n",
        "        s3_prefix = f's3://{bucket_name}/'\n",
        "        s3_filelist = []\n",
        "\n",
        "        while 'Contents' in objs:\n",
        "            files = [o.get('Key') for o in objs.get('Contents')]\n",
        "\n",
        "            s3_paths = [os.path.join(\n",
        "                s3_prefix,\n",
        "                file,\n",
        "            ) for file in files]\n",
        "\n",
        "            s3_filelist += s3_paths\n",
        "\n",
        "            if 'IsTruncated' in objs:\n",
        "                marker = files[-1]\n",
        "                objs = bucket.meta.client.list_objects(\n",
        "                    Bucket=bucket.name,\n",
        "                    Prefix=basedir if basedir[-1] == '/' else basedir + '/',\n",
        "                    Marker=marker,\n",
        "                )\n",
        "            else:\n",
        "                break\n",
        "\n",
        "        return s3_filelist\n",
        "\n",
        "    @staticmethod\n",
        "    def download_file(\n",
        "        s3_filepath: str,\n",
        "        local_filepath: str,\n",
        "        bucket_name: str = S3_BUCKET_NAME,\n",
        "    ) -> str:\n",
        "        \"\"\"[summary]\n",
        "        Args:\n",
        "            s3_filepath (str): [description]\n",
        "            local_filepath (str): [description]\n",
        "            bucket_name (str, optional): [description]. Defaults to AWSConfig.S3_BUCKET_NAME.\n",
        "        Returns:\n",
        "            str: [description]\n",
        "        \"\"\"\n",
        "        bucket = S3_resource.Bucket(bucket_name)\n",
        "\n",
        "        s3_prefix = f's3://{bucket_name}/'\n",
        "        filepath = s3_filepath.replace(s3_prefix, '')\n",
        "        object = bucket.Object(filepath)\n",
        "        object.download_file(local_filepath)\n",
        "\n",
        "        return local_filepath"
      ],
      "execution_count": 23,
      "outputs": []
    },
    {
      "cell_type": "code",
      "metadata": {
        "id": "Edl4Cz9m5KYE"
      },
      "source": [
        "def download_s3_img(\n",
        "    s3_filepath_list,\n",
        "    local_dir,\n",
        "    product_code\n",
        "):\n",
        "    for s3_filepath in pb(s3_filepath_list):\n",
        "        filename = s3_filepath.split('/')[-1]\n",
        "        local_path = os.path.join(\n",
        "            local_dir,\n",
        "            product_code,\n",
        "            filename\n",
        "        )\n",
        "        if not os.path.exists(os.path.dirname(local_path)):\n",
        "            os.makedirs(os.path.dirname(local_path))\n",
        "        S3.download_file(\n",
        "            s3_filepath,\n",
        "            local_path\n",
        "        )"
      ],
      "execution_count": 24,
      "outputs": []
    },
    {
      "cell_type": "code",
      "metadata": {
        "id": "g2MsUKWZ5luQ"
      },
      "source": [
        "meta_files = [\n",
        "    's3://finapp-crypto-currency/board_image/meta/BTC_JPY/20210319.csv',\n",
        "    's3://finapp-crypto-currency/board_image/meta/BTC_JPY/20210320.csv',\n",
        "    's3://finapp-crypto-currency/board_image/meta/BTC_JPY/20210321.csv'\n",
        "]"
      ],
      "execution_count": 25,
      "outputs": []
    },
    {
      "cell_type": "code",
      "metadata": {
        "id": "LxE2nIg452TB"
      },
      "source": [
        "meta_dfs = {\n",
        "    filepath: pd.read_csv(filepath) for filepath in meta_files\n",
        "}"
      ],
      "execution_count": 26,
      "outputs": []
    },
    {
      "cell_type": "code",
      "metadata": {
        "id": "EZEptI1Y6Ryu"
      },
      "source": [
        "for fp, df in meta_dfs.items():\n",
        "    df['datetime'] = pd.to_datetime(df['datetime'])\n",
        "    df.sort_values(by='datetime', inplace=True)"
      ],
      "execution_count": 27,
      "outputs": []
    },
    {
      "cell_type": "code",
      "metadata": {
        "colab": {
          "base_uri": "https://localhost:8080/",
          "height": 419
        },
        "id": "zy_0VQ3V6B2J",
        "outputId": "1e412512-538f-4935-9e9d-68c63d6cff86"
      },
      "source": [
        "meta_dfs['s3://finapp-crypto-currency/board_image/meta/BTC_JPY/20210319.csv']"
      ],
      "execution_count": 28,
      "outputs": [
        {
          "output_type": "execute_result",
          "data": {
            "text/html": [
              "<div>\n",
              "<style scoped>\n",
              "    .dataframe tbody tr th:only-of-type {\n",
              "        vertical-align: middle;\n",
              "    }\n",
              "\n",
              "    .dataframe tbody tr th {\n",
              "        vertical-align: top;\n",
              "    }\n",
              "\n",
              "    .dataframe thead th {\n",
              "        text-align: right;\n",
              "    }\n",
              "</style>\n",
              "<table border=\"1\" class=\"dataframe\">\n",
              "  <thead>\n",
              "    <tr style=\"text-align: right;\">\n",
              "      <th></th>\n",
              "      <th>datetime</th>\n",
              "      <th>mid_price</th>\n",
              "      <th>s3_image_filepath</th>\n",
              "    </tr>\n",
              "  </thead>\n",
              "  <tbody>\n",
              "    <tr>\n",
              "      <th>0</th>\n",
              "      <td>2021-03-19 16:41:41.289418</td>\n",
              "      <td>6321744.0</td>\n",
              "      <td>s3://finapp-crypto-currency/board_image/BTC_JP...</td>\n",
              "    </tr>\n",
              "    <tr>\n",
              "      <th>1</th>\n",
              "      <td>2021-03-19 16:41:46.161454</td>\n",
              "      <td>6320339.0</td>\n",
              "      <td>s3://finapp-crypto-currency/board_image/BTC_JP...</td>\n",
              "    </tr>\n",
              "    <tr>\n",
              "      <th>2</th>\n",
              "      <td>2021-03-19 16:41:48.519369</td>\n",
              "      <td>6320734.0</td>\n",
              "      <td>s3://finapp-crypto-currency/board_image/BTC_JP...</td>\n",
              "    </tr>\n",
              "    <tr>\n",
              "      <th>3</th>\n",
              "      <td>2021-03-19 16:41:51.145452</td>\n",
              "      <td>6320651.0</td>\n",
              "      <td>s3://finapp-crypto-currency/board_image/BTC_JP...</td>\n",
              "    </tr>\n",
              "    <tr>\n",
              "      <th>4</th>\n",
              "      <td>2021-03-19 16:41:56.232862</td>\n",
              "      <td>6320651.0</td>\n",
              "      <td>s3://finapp-crypto-currency/board_image/BTC_JP...</td>\n",
              "    </tr>\n",
              "    <tr>\n",
              "      <th>...</th>\n",
              "      <td>...</td>\n",
              "      <td>...</td>\n",
              "      <td>...</td>\n",
              "    </tr>\n",
              "    <tr>\n",
              "      <th>3265</th>\n",
              "      <td>2021-03-19 21:10:11.569192</td>\n",
              "      <td>6432392.0</td>\n",
              "      <td>s3://finapp-crypto-currency/board_image/BTC_JP...</td>\n",
              "    </tr>\n",
              "    <tr>\n",
              "      <th>3266</th>\n",
              "      <td>2021-03-19 21:10:23.220409</td>\n",
              "      <td>6430625.0</td>\n",
              "      <td>s3://finapp-crypto-currency/board_image/BTC_JP...</td>\n",
              "    </tr>\n",
              "    <tr>\n",
              "      <th>3267</th>\n",
              "      <td>2021-03-19 21:10:28.575747</td>\n",
              "      <td>6424680.0</td>\n",
              "      <td>s3://finapp-crypto-currency/board_image/BTC_JP...</td>\n",
              "    </tr>\n",
              "    <tr>\n",
              "      <th>3268</th>\n",
              "      <td>2021-03-19 21:10:41.904332</td>\n",
              "      <td>6425458.0</td>\n",
              "      <td>s3://finapp-crypto-currency/board_image/BTC_JP...</td>\n",
              "    </tr>\n",
              "    <tr>\n",
              "      <th>3269</th>\n",
              "      <td>2021-03-19 21:10:56.677583</td>\n",
              "      <td>6426956.0</td>\n",
              "      <td>s3://finapp-crypto-currency/board_image/BTC_JP...</td>\n",
              "    </tr>\n",
              "  </tbody>\n",
              "</table>\n",
              "<p>3270 rows × 3 columns</p>\n",
              "</div>"
            ],
            "text/plain": [
              "                       datetime  ...                                  s3_image_filepath\n",
              "0    2021-03-19 16:41:41.289418  ...  s3://finapp-crypto-currency/board_image/BTC_JP...\n",
              "1    2021-03-19 16:41:46.161454  ...  s3://finapp-crypto-currency/board_image/BTC_JP...\n",
              "2    2021-03-19 16:41:48.519369  ...  s3://finapp-crypto-currency/board_image/BTC_JP...\n",
              "3    2021-03-19 16:41:51.145452  ...  s3://finapp-crypto-currency/board_image/BTC_JP...\n",
              "4    2021-03-19 16:41:56.232862  ...  s3://finapp-crypto-currency/board_image/BTC_JP...\n",
              "...                         ...  ...                                                ...\n",
              "3265 2021-03-19 21:10:11.569192  ...  s3://finapp-crypto-currency/board_image/BTC_JP...\n",
              "3266 2021-03-19 21:10:23.220409  ...  s3://finapp-crypto-currency/board_image/BTC_JP...\n",
              "3267 2021-03-19 21:10:28.575747  ...  s3://finapp-crypto-currency/board_image/BTC_JP...\n",
              "3268 2021-03-19 21:10:41.904332  ...  s3://finapp-crypto-currency/board_image/BTC_JP...\n",
              "3269 2021-03-19 21:10:56.677583  ...  s3://finapp-crypto-currency/board_image/BTC_JP...\n",
              "\n",
              "[3270 rows x 3 columns]"
            ]
          },
          "metadata": {
            "tags": []
          },
          "execution_count": 28
        }
      ]
    },
    {
      "cell_type": "code",
      "metadata": {
        "colab": {
          "base_uri": "https://localhost:8080/",
          "height": 37
        },
        "id": "DuXqzE_VBsiq",
        "outputId": "9f16c3d4-0111-4e3d-a5a9-be83a6978ee7"
      },
      "source": [
        "# download_s3_img(\n",
        "#     meta_dfs['s3://finapp-crypto-currency/board_image/meta/BTC_JPY/20210319.csv']['s3_image_filepath'],\n",
        "#     local_dir='/content/drive/MyDrive/data/crypto_board',\n",
        "#     product_code='BTC_JPY'\n",
        "# )"
      ],
      "execution_count": 49,
      "outputs": [
        {
          "output_type": "display_data",
          "data": {
            "text/html": [
              "\n",
              "    <div>\n",
              "        <style>\n",
              "            /* Turns off some styling */\n",
              "            progress {\n",
              "                /* gets rid of default border in Firefox and Opera. */\n",
              "                border: none;\n",
              "                /* Needs to be in here for Safari polyfill so background images work as expected. */\n",
              "                background-size: auto;\n",
              "            }\n",
              "            .progress-bar-interrupted, .progress-bar-interrupted::-webkit-progress-bar {\n",
              "                background: #F44336;\n",
              "            }\n",
              "        </style>\n",
              "      <progress value='3270' class='' max='3270' style='width:300px; height:20px; vertical-align: middle;'></progress>\n",
              "      100.00% [3270/3270 19:25<00:00]\n",
              "    </div>\n",
              "    "
            ],
            "text/plain": [
              "<IPython.core.display.HTML object>"
            ]
          },
          "metadata": {
            "tags": []
          }
        }
      ]
    },
    {
      "cell_type": "code",
      "metadata": {
        "colab": {
          "base_uri": "https://localhost:8080/",
          "height": 37
        },
        "id": "y8wTykAMGY6v",
        "outputId": "d87c3388-36ee-4e11-8df4-0c68bb567db2"
      },
      "source": [
        "# download_s3_img(\n",
        "#     meta_dfs['s3://finapp-crypto-currency/board_image/meta/BTC_JPY/20210320.csv']['s3_image_filepath'],\n",
        "#     local_dir='/content/drive/MyDrive/data/crypto_board',\n",
        "#     product_code='BTC_JPY'\n",
        "# )"
      ],
      "execution_count": 50,
      "outputs": [
        {
          "output_type": "display_data",
          "data": {
            "text/html": [
              "\n",
              "    <div>\n",
              "        <style>\n",
              "            /* Turns off some styling */\n",
              "            progress {\n",
              "                /* gets rid of default border in Firefox and Opera. */\n",
              "                border: none;\n",
              "                /* Needs to be in here for Safari polyfill so background images work as expected. */\n",
              "                background-size: auto;\n",
              "            }\n",
              "            .progress-bar-interrupted, .progress-bar-interrupted::-webkit-progress-bar {\n",
              "                background: #F44336;\n",
              "            }\n",
              "        </style>\n",
              "      <progress value='12061' class='' max='12061' style='width:300px; height:20px; vertical-align: middle;'></progress>\n",
              "      100.00% [12061/12061 1:12:01<00:00]\n",
              "    </div>\n",
              "    "
            ],
            "text/plain": [
              "<IPython.core.display.HTML object>"
            ]
          },
          "metadata": {
            "tags": []
          }
        }
      ]
    },
    {
      "cell_type": "code",
      "metadata": {
        "colab": {
          "base_uri": "https://localhost:8080/",
          "height": 37
        },
        "id": "tSPLDBO5fyam",
        "outputId": "b57d502e-a150-4548-b56f-f0b2b25b28ed"
      },
      "source": [
        "# download_s3_img(\n",
        "#     meta_dfs['s3://finapp-crypto-currency/board_image/meta/BTC_JPY/20210321.csv']['s3_image_filepath'],\n",
        "#     local_dir='/content/drive/MyDrive/data/crypto_board',\n",
        "#     product_code='BTC_JPY'\n",
        "# )"
      ],
      "execution_count": 51,
      "outputs": [
        {
          "output_type": "display_data",
          "data": {
            "text/html": [
              "\n",
              "    <div>\n",
              "        <style>\n",
              "            /* Turns off some styling */\n",
              "            progress {\n",
              "                /* gets rid of default border in Firefox and Opera. */\n",
              "                border: none;\n",
              "                /* Needs to be in here for Safari polyfill so background images work as expected. */\n",
              "                background-size: auto;\n",
              "            }\n",
              "            .progress-bar-interrupted, .progress-bar-interrupted::-webkit-progress-bar {\n",
              "                background: #F44336;\n",
              "            }\n",
              "        </style>\n",
              "      <progress value='17520' class='' max='17520' style='width:300px; height:20px; vertical-align: middle;'></progress>\n",
              "      100.00% [17520/17520 1:44:34<00:00]\n",
              "    </div>\n",
              "    "
            ],
            "text/plain": [
              "<IPython.core.display.HTML object>"
            ]
          },
          "metadata": {
            "tags": []
          }
        }
      ]
    },
    {
      "cell_type": "code",
      "metadata": {
        "id": "Bjn9zqZ73c40"
      },
      "source": [
        "meta_dfs['s3://finapp-crypto-currency/board_image/meta/BTC_JPY/20210319.csv']['local_image_filepath'] = meta_dfs['s3://finapp-crypto-currency/board_image/meta/BTC_JPY/20210319.csv']['s3_image_filepath'].map(\n",
        "    lambda x: f'/content/drive/MyDrive/data/crypto_board/BTC_JPY/{x.split(\"/\")[-1]}'\n",
        ")\n",
        "meta_dfs['s3://finapp-crypto-currency/board_image/meta/BTC_JPY/20210320.csv']['local_image_filepath'] = meta_dfs['s3://finapp-crypto-currency/board_image/meta/BTC_JPY/20210320.csv']['s3_image_filepath'].map(\n",
        "    lambda x: f'/content/drive/MyDrive/data/crypto_board/BTC_JPY/{x.split(\"/\")[-1]}'\n",
        ")\n",
        "meta_dfs['s3://finapp-crypto-currency/board_image/meta/BTC_JPY/20210321.csv']['local_image_filepath'] = meta_dfs['s3://finapp-crypto-currency/board_image/meta/BTC_JPY/20210321.csv']['s3_image_filepath'].map(\n",
        "    lambda x: f'/content/drive/MyDrive/data/crypto_board/BTC_JPY/{x.split(\"/\")[-1]}'\n",
        ")"
      ],
      "execution_count": 29,
      "outputs": []
    },
    {
      "cell_type": "code",
      "metadata": {
        "colab": {
          "base_uri": "https://localhost:8080/",
          "height": 286
        },
        "id": "uVBfbXe5-Tol",
        "outputId": "b6662971-31fb-416e-e8ca-ca043905a797"
      },
      "source": [
        "meta_dfs['s3://finapp-crypto-currency/board_image/meta/BTC_JPY/20210319.csv']['datetime'].diff().map(lambda x: x.seconds).hist(bins=40)"
      ],
      "execution_count": 30,
      "outputs": [
        {
          "output_type": "execute_result",
          "data": {
            "text/plain": [
              "<matplotlib.axes._subplots.AxesSubplot at 0x7efc7a53fbd0>"
            ]
          },
          "metadata": {
            "tags": []
          },
          "execution_count": 30
        },
        {
          "output_type": "display_data",
          "data": {
            "image/png": "[encoded data removed]",
            "text/plain": [
              "<Figure size 432x288 with 1 Axes>"
            ]
          },
          "metadata": {
            "tags": []
          }
        }
      ]
    },
    {
      "cell_type": "code",
      "metadata": {
        "colab": {
          "base_uri": "https://localhost:8080/",
          "height": 287
        },
        "id": "ixx8Zv_s-0r4",
        "outputId": "6eab2acb-22cc-4225-f6a8-c3cb28a27e43"
      },
      "source": [
        "plt.xlim(-1, 15)\n",
        "meta_dfs['s3://finapp-crypto-currency/board_image/meta/BTC_JPY/20210320.csv']['datetime'].diff().map(lambda x: x.seconds).hist(bins=400)"
      ],
      "execution_count": 32,
      "outputs": [
        {
          "output_type": "execute_result",
          "data": {
            "text/plain": [
              "<matplotlib.axes._subplots.AxesSubplot at 0x7f26d5403190>"
            ]
          },
          "metadata": {
            "tags": []
          },
          "execution_count": 32
        },
        {
          "output_type": "display_data",
          "data": {
            "image/png": "[encoded data removed]",
            "text/plain": [
              "<Figure size 432x288 with 1 Axes>"
            ]
          },
          "metadata": {
            "tags": []
          }
        }
      ]
    },
    {
      "cell_type": "code",
      "metadata": {
        "colab": {
          "base_uri": "https://localhost:8080/",
          "height": 286
        },
        "id": "ZjS3u0gp_EQa",
        "outputId": "d8df775c-75fa-4d60-f3a5-cb76cde4889c"
      },
      "source": [
        "plt.xlim(-1, 15)\n",
        "meta_dfs['s3://finapp-crypto-currency/board_image/meta/BTC_JPY/20210321.csv']['datetime'].diff().map(lambda x: x.seconds).hist(bins=40)"
      ],
      "execution_count": 36,
      "outputs": [
        {
          "output_type": "execute_result",
          "data": {
            "text/plain": [
              "<matplotlib.axes._subplots.AxesSubplot at 0x7f26d48cacd0>"
            ]
          },
          "metadata": {
            "tags": []
          },
          "execution_count": 36
        },
        {
          "output_type": "display_data",
          "data": {
            "image/png": "[encoded data removed]",
            "text/plain": [
              "<Figure size 432x288 with 1 Axes>"
            ]
          },
          "metadata": {
            "tags": []
          }
        }
      ]
    },
    {
      "cell_type": "code",
      "metadata": {
        "id": "fO2XiM6dCQOj"
      },
      "source": [
        ""
      ],
      "execution_count": null,
      "outputs": []
    },
    {
      "cell_type": "code",
      "metadata": {
        "id": "n4471uFZ6pE5"
      },
      "source": [
        "def create_video_list(df_meta, images_per_video: int = 60):\n",
        "    video_files = []\n",
        "    mean_change_rates = []\n",
        "\n",
        "    for dt_target in pb(df_meta['datetime']):\n",
        "        dt_start = dt_target - timedelta(minutes=20)\n",
        "        df_video_selected = df_meta[\n",
        "            (df_meta['datetime'] >= dt_start) & (df_meta['datetime'] <= dt_target)\n",
        "        ]\n",
        "        if len(df_video_selected) < images_per_video:\n",
        "            continue\n",
        "        df_video_selected = df_video_selected[-images_per_video:]\n",
        "        dt_pred = dt_target + timedelta(minutes=3)\n",
        "        df_pred_selected = df_meta[\n",
        "            (df_meta['datetime'] > dt_target) & (df_meta['datetime'] <= dt_pred)\n",
        "        ]\n",
        "        if len(df_pred_selected) < 2 or (df_pred_selected.iloc[-1]['datetime'] - df_pred_selected.iloc[0]['datetime']).seconds < 150:\n",
        "            continue\n",
        "        base_midprice = df_video_selected.iloc[-1]['mid_price']\n",
        "        ave_change_rates = [(v-base_midprice)/base_midprice for v in df_pred_selected['mid_price']]\n",
        "        ave_change_rate = sum(ave_change_rates) / len(ave_change_rates)\n",
        "        video_files.append(df_video_selected['local_image_filepath'].tolist())\n",
        "        mean_change_rates.append(ave_change_rate)\n",
        "\n",
        "    return video_files, mean_change_rates"
      ],
      "execution_count": 31,
      "outputs": []
    },
    {
      "cell_type": "code",
      "metadata": {
        "colab": {
          "base_uri": "https://localhost:8080/",
          "height": 57
        },
        "id": "a3tIj2uZALwK",
        "outputId": "dcaa4a56-f150-4264-e53c-073a24f20a23"
      },
      "source": [
        "train_video_files, mean_returns = create_video_list(meta_dfs['s3://finapp-crypto-currency/board_image/meta/BTC_JPY/20210319.csv'])\n",
        "train_video_files_2, mean_returns_2 = create_video_list(meta_dfs['s3://finapp-crypto-currency/board_image/meta/BTC_JPY/20210320.csv'])\n",
        "train_video_files += train_video_files_2\n",
        "mean_returns += mean_returns_2"
      ],
      "execution_count": 32,
      "outputs": [
        {
          "output_type": "display_data",
          "data": {
            "text/html": [
              "\n",
              "    <div>\n",
              "        <style>\n",
              "            /* Turns off some styling */\n",
              "            progress {\n",
              "                /* gets rid of default border in Firefox and Opera. */\n",
              "                border: none;\n",
              "                /* Needs to be in here for Safari polyfill so background images work as expected. */\n",
              "                background-size: auto;\n",
              "            }\n",
              "            .progress-bar-interrupted, .progress-bar-interrupted::-webkit-progress-bar {\n",
              "                background: #F44336;\n",
              "            }\n",
              "        </style>\n",
              "      <progress value='3270' class='' max='3270' style='width:300px; height:20px; vertical-align: middle;'></progress>\n",
              "      100.00% [3270/3270 00:07<00:00]\n",
              "    </div>\n",
              "    "
            ],
            "text/plain": [
              "<IPython.core.display.HTML object>"
            ]
          },
          "metadata": {
            "tags": []
          }
        },
        {
          "output_type": "display_data",
          "data": {
            "text/html": [
              "\n",
              "    <div>\n",
              "        <style>\n",
              "            /* Turns off some styling */\n",
              "            progress {\n",
              "                /* gets rid of default border in Firefox and Opera. */\n",
              "                border: none;\n",
              "                /* Needs to be in here for Safari polyfill so background images work as expected. */\n",
              "                background-size: auto;\n",
              "            }\n",
              "            .progress-bar-interrupted, .progress-bar-interrupted::-webkit-progress-bar {\n",
              "                background: #F44336;\n",
              "            }\n",
              "        </style>\n",
              "      <progress value='12061' class='' max='12061' style='width:300px; height:20px; vertical-align: middle;'></progress>\n",
              "      100.00% [12061/12061 00:25<00:00]\n",
              "    </div>\n",
              "    "
            ],
            "text/plain": [
              "<IPython.core.display.HTML object>"
            ]
          },
          "metadata": {
            "tags": []
          }
        }
      ]
    },
    {
      "cell_type": "code",
      "metadata": {
        "colab": {
          "base_uri": "https://localhost:8080/"
        },
        "id": "z_wC5juODzgb",
        "outputId": "b06e6b58-73bc-4896-bc11-b074c4e82203"
      },
      "source": [
        "len(train_video_files)"
      ],
      "execution_count": 33,
      "outputs": [
        {
          "output_type": "execute_result",
          "data": {
            "text/plain": [
              "15097"
            ]
          },
          "metadata": {
            "tags": []
          },
          "execution_count": 33
        }
      ]
    },
    {
      "cell_type": "code",
      "metadata": {
        "colab": {
          "base_uri": "https://localhost:8080/"
        },
        "id": "yMgxwsRVAjLt",
        "outputId": "b51bbacb-3b83-4faa-9e36-4b0a984e5cbf"
      },
      "source": [
        "all([len(vf)==60 for vf in train_video_files])"
      ],
      "execution_count": 34,
      "outputs": [
        {
          "output_type": "execute_result",
          "data": {
            "text/plain": [
              "True"
            ]
          },
          "metadata": {
            "tags": []
          },
          "execution_count": 34
        }
      ]
    },
    {
      "cell_type": "code",
      "metadata": {
        "colab": {
          "base_uri": "https://localhost:8080/",
          "height": 269
        },
        "id": "lWbvjOvjD7bg",
        "outputId": "d8693e69-c6f2-4055-8331-63e60c5202c9"
      },
      "source": [
        "_ = plt.hist(mean_returns, bins=50)"
      ],
      "execution_count": 35,
      "outputs": [
        {
          "output_type": "display_data",
          "data": {
            "image/png": "[encoded data removed]",
            "text/plain": [
              "<Figure size 432x288 with 1 Axes>"
            ]
          },
          "metadata": {
            "tags": []
          }
        }
      ]
    },
    {
      "cell_type": "code",
      "metadata": {
        "id": "cx1IfJHYEgqx"
      },
      "source": [
        "mean_returns = 100 * np.array(mean_returns) "
      ],
      "execution_count": 36,
      "outputs": []
    },
    {
      "cell_type": "code",
      "metadata": {
        "colab": {
          "base_uri": "https://localhost:8080/",
          "height": 269
        },
        "id": "AZ0O7Lu3EqP3",
        "outputId": "20412996-5f92-4d6e-e70b-dd20c6efb291"
      },
      "source": [
        "_ = plt.hist(mean_returns, bins=50)"
      ],
      "execution_count": 37,
      "outputs": [
        {
          "output_type": "display_data",
          "data": {
            "image/png": "[encoded data removed]",
            "text/plain": [
              "<Figure size 432x288 with 1 Axes>"
            ]
          },
          "metadata": {
            "tags": []
          }
        }
      ]
    },
    {
      "cell_type": "code",
      "metadata": {
        "id": "P_5190HI5bEQ"
      },
      "source": [
        ""
      ],
      "execution_count": 37,
      "outputs": []
    },
    {
      "cell_type": "code",
      "metadata": {
        "id": "QcQa0oiqpp2i"
      },
      "source": [
        ""
      ],
      "execution_count": 37,
      "outputs": []
    },
    {
      "cell_type": "code",
      "metadata": {
        "id": "OVGFsiIfiyIB"
      },
      "source": [
        "resize, crop_size = 224, 224\n",
        "mean, std = [104, 117, 123], [1, 1, 1]\n",
        "video_transform = VideoTransform(resize, crop_size, mean, std)"
      ],
      "execution_count": 38,
      "outputs": []
    },
    {
      "cell_type": "code",
      "metadata": {
        "id": "3zvnGQY1i2LY"
      },
      "source": [
        "train_dataset = VideoDataset(\n",
        "    train_video_files, mean_returns,\n",
        "    phase=\"train\",\n",
        "    transform=video_transform\n",
        ")"
      ],
      "execution_count": 39,
      "outputs": []
    },
    {
      "cell_type": "code",
      "metadata": {
        "id": "jQqlPbx44pHN"
      },
      "source": [
        "batch_size = 2\n",
        "train_dataloader = torch.utils.data.DataLoader(\n",
        "    train_dataset,\n",
        "    batch_size=batch_size,\n",
        "    shuffle=True\n",
        ")"
      ],
      "execution_count": 41,
      "outputs": []
    },
    {
      "cell_type": "code",
      "metadata": {
        "id": "Hl0LaSrw4-R5"
      },
      "source": [
        "batch, labels = next(iter(train_dataloader))"
      ],
      "execution_count": 39,
      "outputs": []
    },
    {
      "cell_type": "code",
      "metadata": {
        "colab": {
          "base_uri": "https://localhost:8080/"
        },
        "id": "TdKYxrTGFucR",
        "outputId": "d6d931c8-282f-4f8d-f0e1-6c84894d061b"
      },
      "source": [
        "labels.shape"
      ],
      "execution_count": 40,
      "outputs": [
        {
          "output_type": "execute_result",
          "data": {
            "text/plain": [
              "torch.Size([4])"
            ]
          },
          "metadata": {
            "tags": []
          },
          "execution_count": 40
        }
      ]
    },
    {
      "cell_type": "code",
      "metadata": {
        "colab": {
          "base_uri": "https://localhost:8080/"
        },
        "id": "93qRju1kFwdB",
        "outputId": "f5871ae3-f99d-4fb4-d0e0-f0a6dced6ae9"
      },
      "source": [
        "labels"
      ],
      "execution_count": 41,
      "outputs": [
        {
          "output_type": "execute_result",
          "data": {
            "text/plain": [
              "tensor([-0.0168, -0.0491,  0.1191, -0.0593], dtype=torch.float64)"
            ]
          },
          "metadata": {
            "tags": []
          },
          "execution_count": 41
        }
      ]
    },
    {
      "cell_type": "code",
      "metadata": {
        "colab": {
          "base_uri": "https://localhost:8080/"
        },
        "id": "53Ha20Yo5CDx",
        "outputId": "41ea01b3-b484-4b1f-dbdb-f897f0bfad1c"
      },
      "source": [
        "batch.shape"
      ],
      "execution_count": 42,
      "outputs": [
        {
          "output_type": "execute_result",
          "data": {
            "text/plain": [
              "torch.Size([4, 60, 3, 224, 224])"
            ]
          },
          "metadata": {
            "tags": []
          },
          "execution_count": 42
        }
      ]
    },
    {
      "cell_type": "code",
      "metadata": {
        "id": "X1888uKY52-c"
      },
      "source": [
        "plt.rcParams[\"axes.grid\"] = False"
      ],
      "execution_count": 43,
      "outputs": []
    },
    {
      "cell_type": "code",
      "metadata": {
        "colab": {
          "base_uri": "https://localhost:8080/",
          "height": 1000
        },
        "id": "mRtIoaC95RDp",
        "outputId": "c481eaa6-5c3a-4495-d35c-a0817f89a025"
      },
      "source": [
        "for i in range(5):\n",
        "    plt.imshow(batch[0, i, :, :, :].permute(1, 2, 0).numpy())\n",
        "    plt.show()"
      ],
      "execution_count": 44,
      "outputs": [
        {
          "output_type": "stream",
          "text": [
            "Clipping input data to the valid range for imshow with RGB data ([0..1] for floats or [0..255] for integers).\n"
          ],
          "name": "stderr"
        },
        {
          "output_type": "display_data",
          "data": {
            "image/png": "[encoded data removed]",
            "text/plain": [
              "<Figure size 432x288 with 1 Axes>"
            ]
          },
          "metadata": {
            "tags": []
          }
        },
        {
          "output_type": "stream",
          "text": [
            "Clipping input data to the valid range for imshow with RGB data ([0..1] for floats or [0..255] for integers).\n"
          ],
          "name": "stderr"
        },
        {
          "output_type": "display_data",
          "data": {
            "image/png": "[encoded data removed]",
            "text/plain": [
              "<Figure size 432x288 with 1 Axes>"
            ]
          },
          "metadata": {
            "tags": []
          }
        },
        {
          "output_type": "stream",
          "text": [
            "Clipping input data to the valid range for imshow with RGB data ([0..1] for floats or [0..255] for integers).\n"
          ],
          "name": "stderr"
        },
        {
          "output_type": "display_data",
          "data": {
            "image/png": "[encoded data removed]",
            "text/plain": [
              "<Figure size 432x288 with 1 Axes>"
            ]
          },
          "metadata": {
            "tags": []
          }
        },
        {
          "output_type": "stream",
          "text": [
            "Clipping input data to the valid range for imshow with RGB data ([0..1] for floats or [0..255] for integers).\n"
          ],
          "name": "stderr"
        },
        {
          "output_type": "display_data",
          "data": {
            "image/png": "[encoded data removed]",
            "text/plain": [
              "<Figure size 432x288 with 1 Axes>"
            ]
          },
          "metadata": {
            "tags": []
          }
        },
        {
          "output_type": "stream",
          "text": [
            "Clipping input data to the valid range for imshow with RGB data ([0..1] for floats or [0..255] for integers).\n"
          ],
          "name": "stderr"
        },
        {
          "output_type": "display_data",
          "data": {
            "image/png": "[encoded data removed]",
            "text/plain": [
              "<Figure size 432x288 with 1 Axes>"
            ]
          },
          "metadata": {
            "tags": []
          }
        }
      ]
    },
    {
      "cell_type": "code",
      "metadata": {
        "id": "FFoZkvAESVnw"
      },
      "source": [
        "frames = 60"
      ],
      "execution_count": 40,
      "outputs": []
    },
    {
      "cell_type": "code",
      "metadata": {
        "id": "LuBKQ_R66ARk"
      },
      "source": [
        "eco_model = ECO_Lite(frames)"
      ],
      "execution_count": 41,
      "outputs": []
    },
    {
      "cell_type": "code",
      "metadata": {
        "colab": {
          "base_uri": "https://localhost:8080/"
        },
        "id": "GrQxkQ_qGLYU",
        "outputId": "fbc6813f-d3ef-4ec1-f8a5-3a32f572e389"
      },
      "source": [
        "eco_model(batch)"
      ],
      "execution_count": 44,
      "outputs": [
        {
          "output_type": "execute_result",
          "data": {
            "text/plain": [
              "tensor([[0.0981],\n",
              "        [0.0882],\n",
              "        [0.1043],\n",
              "        [0.0884]], grad_fn=<AddmmBackward>)"
            ]
          },
          "metadata": {
            "tags": []
          },
          "execution_count": 44
        }
      ]
    },
    {
      "cell_type": "code",
      "metadata": {
        "id": "9vO5sMJ6GNND"
      },
      "source": [
        "criterion = nn.MSELoss()\n",
        "optimizer = torch.optim.Adam(eco_model.parameters(), lr=0.01, weight_decay=5e-4)"
      ],
      "execution_count": 44,
      "outputs": []
    },
    {
      "cell_type": "code",
      "metadata": {
        "id": "02VJWPyyTyZ5"
      },
      "source": [
        "N_EPOCHS = 10"
      ],
      "execution_count": 45,
      "outputs": []
    },
    {
      "cell_type": "code",
      "metadata": {
        "id": "W2IUPsqtLE_g"
      },
      "source": [
        "device = torch.device('cuda' if torch.cuda.is_available() else 'cpu')"
      ],
      "execution_count": 42,
      "outputs": []
    },
    {
      "cell_type": "code",
      "metadata": {
        "colab": {
          "base_uri": "https://localhost:8080/"
        },
        "id": "JKB35KI1EWQo",
        "outputId": "48cf7463-e6fc-4998-88a3-e77b2c3aff1d"
      },
      "source": [
        "device"
      ],
      "execution_count": 43,
      "outputs": [
        {
          "output_type": "execute_result",
          "data": {
            "text/plain": [
              "device(type='cuda')"
            ]
          },
          "metadata": {
            "tags": []
          },
          "execution_count": 43
        }
      ]
    },
    {
      "cell_type": "code",
      "metadata": {
        "colab": {
          "base_uri": "https://localhost:8080/",
          "height": 57
        },
        "id": "OnAMmmjaIh6y",
        "outputId": "adb5b196-19d4-4a05-ff2b-905c84cfa016"
      },
      "source": [
        "\n",
        "eco_model.to(device)\n",
        "eco_model.train()\n",
        "\n",
        "loss_history = []\n",
        "\n",
        "for epoch in pb(range(N_EPOCHS)):\n",
        "    epoch_loss = 0\n",
        "    i = 0\n",
        "\n",
        "    for videos, labels in pb(train_dataloader):\n",
        "        i += 1\n",
        "\n",
        "        optimizer.zero_grad()\n",
        "\n",
        "        preds = eco_model(videos.to(device))\n",
        "        loss = criterion(preds.double(), labels.double().to(device))\n",
        "\n",
        "        loss.backward()\n",
        "        optimizer.step()\n",
        "\n",
        "        epoch_loss += loss.item() * videos.size(0)\n",
        "\n",
        "        if i % 100 == 0:\n",
        "            torch.save(eco_model.state_dict(), '/content/drive/MyDrive/data/model/crypot_board_eco3d_model')\n",
        "\n",
        "    epoch_loss /= len(train_dataloader.dataset)\n",
        "\n",
        "    loss_history.append(epoch_loss)\n",
        "\n",
        "    print(f'epoch : {n}, loss : {epoch_loss}')"
      ],
      "execution_count": null,
      "outputs": [
        {
          "output_type": "display_data",
          "data": {
            "text/html": [
              "\n",
              "    <div>\n",
              "        <style>\n",
              "            /* Turns off some styling */\n",
              "            progress {\n",
              "                /* gets rid of default border in Firefox and Opera. */\n",
              "                border: none;\n",
              "                /* Needs to be in here for Safari polyfill so background images work as expected. */\n",
              "                background-size: auto;\n",
              "            }\n",
              "            .progress-bar-interrupted, .progress-bar-interrupted::-webkit-progress-bar {\n",
              "                background: #F44336;\n",
              "            }\n",
              "        </style>\n",
              "      <progress value='0' class='' max='10' style='width:300px; height:20px; vertical-align: middle;'></progress>\n",
              "      0.00% [0/10 00:00<00:00]\n",
              "    </div>\n",
              "    "
            ],
            "text/plain": [
              "<IPython.core.display.HTML object>"
            ]
          },
          "metadata": {
            "tags": []
          }
        },
        {
          "output_type": "display_data",
          "data": {
            "text/html": [
              "\n",
              "    <div>\n",
              "        <style>\n",
              "            /* Turns off some styling */\n",
              "            progress {\n",
              "                /* gets rid of default border in Firefox and Opera. */\n",
              "                border: none;\n",
              "                /* Needs to be in here for Safari polyfill so background images work as expected. */\n",
              "                background-size: auto;\n",
              "            }\n",
              "            .progress-bar-interrupted, .progress-bar-interrupted::-webkit-progress-bar {\n",
              "                background: #F44336;\n",
              "            }\n",
              "        </style>\n",
              "      <progress value='5558' class='' max='7549' style='width:300px; height:20px; vertical-align: middle;'></progress>\n",
              "      73.63% [5558/7549 3:20:39<1:11:52]\n",
              "    </div>\n",
              "    "
            ],
            "text/plain": [
              "<IPython.core.display.HTML object>"
            ]
          },
          "metadata": {
            "tags": []
          }
        }
      ]
    },
    {
      "cell_type": "code",
      "metadata": {
        "colab": {
          "base_uri": "https://localhost:8080/"
        },
        "id": "XA9iK3hVUYT3",
        "outputId": "ab48c7fe-cfa9-49b5-e827-0353f14dcb70"
      },
      "source": [
        "epoch_loss"
      ],
      "execution_count": 50,
      "outputs": [
        {
          "output_type": "execute_result",
          "data": {
            "text/plain": [
              "0.008668354013188842"
            ]
          },
          "metadata": {
            "tags": []
          },
          "execution_count": 50
        }
      ]
    },
    {
      "cell_type": "code",
      "metadata": {
        "id": "A20Ky5KLLKaC"
      },
      "source": [
        ""
      ],
      "execution_count": null,
      "outputs": []
    },
    {
      "cell_type": "code",
      "metadata": {
        "colab": {
          "base_uri": "https://localhost:8080/"
        },
        "id": "AUr9swhDLKnD",
        "outputId": "6a2a10a5-25e6-402b-9c4f-6ae70a7f017f"
      },
      "source": [
        "eco_model.load_state_dict(torch.load('/content/drive/MyDrive/data/model/crypot_board_eco3d_model'))"
      ],
      "execution_count": 44,
      "outputs": [
        {
          "output_type": "execute_result",
          "data": {
            "text/plain": [
              "<All keys matched successfully>"
            ]
          },
          "metadata": {
            "tags": []
          },
          "execution_count": 44
        }
      ]
    },
    {
      "cell_type": "code",
      "metadata": {
        "id": "Beb2SX4kLVTy"
      },
      "source": [
        "_ = eco_model.to(device)"
      ],
      "execution_count": 45,
      "outputs": []
    },
    {
      "cell_type": "code",
      "metadata": {
        "id": "nAFZaY0gMfmL"
      },
      "source": [
        "batch_size = 2\n",
        "train_dataloader = torch.utils.data.DataLoader(\n",
        "    train_dataset,\n",
        "    batch_size=batch_size,\n",
        "    shuffle=True\n",
        ")"
      ],
      "execution_count": 46,
      "outputs": []
    },
    {
      "cell_type": "code",
      "metadata": {
        "colab": {
          "base_uri": "https://localhost:8080/",
          "height": 1000
        },
        "id": "Rhzl5ThpCeuK",
        "outputId": "9a902a37-16f4-4962-fd4b-df058f704940"
      },
      "source": [
        "eco_model.eval()\n",
        "# eco_model.cpu()\n",
        "\n",
        "n = 0\n",
        "n_correct = 0\n",
        "i = 0\n",
        "\n",
        "for videos, labels in pb(train_dataloader):\n",
        "    i += 1\n",
        "    n += len(labels)\n",
        "    preds = eco_model(videos.to(device))\n",
        "    n_correct += sum((preds.detach().cpu().numpy().flatten() * labels.cpu().detach().numpy().flatten())>0)\n",
        "    if i % 30 == 0:\n",
        "        print(f'acc : {n_correct/n}')"
      ],
      "execution_count": 48,
      "outputs": [
        {
          "output_type": "display_data",
          "data": {
            "text/html": [
              "\n",
              "    <div>\n",
              "        <style>\n",
              "            /* Turns off some styling */\n",
              "            progress {\n",
              "                /* gets rid of default border in Firefox and Opera. */\n",
              "                border: none;\n",
              "                /* Needs to be in here for Safari polyfill so background images work as expected. */\n",
              "                background-size: auto;\n",
              "            }\n",
              "            .progress-bar-interrupted, .progress-bar-interrupted::-webkit-progress-bar {\n",
              "                background: #F44336;\n",
              "            }\n",
              "        </style>\n",
              "      <progress value='1763' class='' max='7549' style='width:300px; height:20px; vertical-align: middle;'></progress>\n",
              "      23.35% [1763/7549 2:02:27<6:41:53]\n",
              "    </div>\n",
              "    "
            ],
            "text/plain": [
              "<IPython.core.display.HTML object>"
            ]
          },
          "metadata": {
            "tags": []
          }
        },
        {
          "output_type": "stream",
          "text": [
            "acc : 0.5666666666666667\n",
            "acc : 0.5416666666666666\n",
            "acc : 0.5277777777777778\n",
            "acc : 0.5458333333333333\n",
            "acc : 0.5333333333333333\n",
            "acc : 0.5277777777777778\n",
            "acc : 0.5214285714285715\n",
            "acc : 0.5270833333333333\n",
            "acc : 0.524074074074074\n",
            "acc : 0.5216666666666666\n",
            "acc : 0.5272727272727272\n",
            "acc : 0.5347222222222222\n",
            "acc : 0.5269230769230769\n",
            "acc : 0.5273809523809524\n",
            "acc : 0.5255555555555556\n",
            "acc : 0.5197916666666667\n",
            "acc : 0.5205882352941177\n",
            "acc : 0.5175925925925926\n",
            "acc : 0.5157894736842106\n",
            "acc : 0.5158333333333334\n",
            "acc : 0.5142857142857142\n",
            "acc : 0.5151515151515151\n",
            "acc : 0.5152173913043478\n",
            "acc : 0.5118055555555555\n",
            "acc : 0.508\n",
            "acc : 0.5038461538461538\n",
            "acc : 0.504320987654321\n",
            "acc : 0.5083333333333333\n",
            "acc : 0.5091954022988506\n",
            "acc : 0.5094444444444445\n",
            "acc : 0.5102150537634409\n",
            "acc : 0.509375\n",
            "acc : 0.5095959595959596\n",
            "acc : 0.5068627450980392\n",
            "acc : 0.5071428571428571\n",
            "acc : 0.5078703703703704\n",
            "acc : 0.5049549549549549\n",
            "acc : 0.5035087719298246\n",
            "acc : 0.5025641025641026\n",
            "acc : 0.5025\n",
            "acc : 0.5\n",
            "acc : 0.5023809523809524\n",
            "acc : 0.5015503875968992\n",
            "acc : 0.5011363636363636\n",
            "acc : 0.5003703703703704\n",
            "acc : 0.5010869565217392\n",
            "acc : 0.5024822695035461\n",
            "acc : 0.5013888888888889\n",
            "acc : 0.5003401360544217\n",
            "acc : 0.501\n",
            "acc : 0.4996732026143791\n",
            "acc : 0.5003205128205128\n",
            "acc : 0.49968553459119497\n",
            "acc : 0.5003086419753087\n",
            "acc : 0.4996969696969697\n",
            "acc : 0.49910714285714286\n",
            "acc : 0.49707602339181284\n",
            "acc : 0.49770114942528737\n"
          ],
          "name": "stdout"
        },
        {
          "output_type": "error",
          "ename": "KeyboardInterrupt",
          "evalue": "ignored",
          "traceback": [
            "\u001b[0;31m---------------------------------------------------------------------------\u001b[0m",
            "\u001b[0;31mKeyboardInterrupt\u001b[0m                         Traceback (most recent call last)",
            "\u001b[0;32m<ipython-input-48-5701542cbd06>\u001b[0m in \u001b[0;36m<module>\u001b[0;34m()\u001b[0m\n\u001b[1;32m      6\u001b[0m \u001b[0mi\u001b[0m \u001b[0;34m=\u001b[0m \u001b[0;36m0\u001b[0m\u001b[0;34m\u001b[0m\u001b[0;34m\u001b[0m\u001b[0m\n\u001b[1;32m      7\u001b[0m \u001b[0;34m\u001b[0m\u001b[0m\n\u001b[0;32m----> 8\u001b[0;31m \u001b[0;32mfor\u001b[0m \u001b[0mvideos\u001b[0m\u001b[0;34m,\u001b[0m \u001b[0mlabels\u001b[0m \u001b[0;32min\u001b[0m \u001b[0mpb\u001b[0m\u001b[0;34m(\u001b[0m\u001b[0mtrain_dataloader\u001b[0m\u001b[0;34m)\u001b[0m\u001b[0;34m:\u001b[0m\u001b[0;34m\u001b[0m\u001b[0;34m\u001b[0m\u001b[0m\n\u001b[0m\u001b[1;32m      9\u001b[0m     \u001b[0mi\u001b[0m \u001b[0;34m+=\u001b[0m \u001b[0;36m1\u001b[0m\u001b[0;34m\u001b[0m\u001b[0;34m\u001b[0m\u001b[0m\n\u001b[1;32m     10\u001b[0m     \u001b[0mn\u001b[0m \u001b[0;34m+=\u001b[0m \u001b[0mlen\u001b[0m\u001b[0;34m(\u001b[0m\u001b[0mlabels\u001b[0m\u001b[0;34m)\u001b[0m\u001b[0;34m\u001b[0m\u001b[0;34m\u001b[0m\u001b[0m\n",
            "\u001b[0;32m/usr/local/lib/python3.7/dist-packages/fastprogress/fastprogress.py\u001b[0m in \u001b[0;36m__iter__\u001b[0;34m(self)\u001b[0m\n\u001b[1;32m     39\u001b[0m         \u001b[0;32mif\u001b[0m \u001b[0mself\u001b[0m\u001b[0;34m.\u001b[0m\u001b[0mtotal\u001b[0m \u001b[0;34m!=\u001b[0m \u001b[0;36m0\u001b[0m\u001b[0;34m:\u001b[0m \u001b[0mself\u001b[0m\u001b[0;34m.\u001b[0m\u001b[0mupdate\u001b[0m\u001b[0;34m(\u001b[0m\u001b[0;36m0\u001b[0m\u001b[0;34m)\u001b[0m\u001b[0;34m\u001b[0m\u001b[0;34m\u001b[0m\u001b[0m\n\u001b[1;32m     40\u001b[0m         \u001b[0;32mtry\u001b[0m\u001b[0;34m:\u001b[0m\u001b[0;34m\u001b[0m\u001b[0;34m\u001b[0m\u001b[0m\n\u001b[0;32m---> 41\u001b[0;31m             \u001b[0;32mfor\u001b[0m \u001b[0mi\u001b[0m\u001b[0;34m,\u001b[0m\u001b[0mo\u001b[0m \u001b[0;32min\u001b[0m \u001b[0menumerate\u001b[0m\u001b[0;34m(\u001b[0m\u001b[0mself\u001b[0m\u001b[0;34m.\u001b[0m\u001b[0mgen\u001b[0m\u001b[0;34m)\u001b[0m\u001b[0;34m:\u001b[0m\u001b[0;34m\u001b[0m\u001b[0;34m\u001b[0m\u001b[0m\n\u001b[0m\u001b[1;32m     42\u001b[0m                 \u001b[0;32mif\u001b[0m \u001b[0mi\u001b[0m \u001b[0;34m>=\u001b[0m \u001b[0mself\u001b[0m\u001b[0;34m.\u001b[0m\u001b[0mtotal\u001b[0m\u001b[0;34m:\u001b[0m \u001b[0;32mbreak\u001b[0m\u001b[0;34m\u001b[0m\u001b[0;34m\u001b[0m\u001b[0m\n\u001b[1;32m     43\u001b[0m                 \u001b[0;32myield\u001b[0m \u001b[0mo\u001b[0m\u001b[0;34m\u001b[0m\u001b[0;34m\u001b[0m\u001b[0m\n",
            "\u001b[0;32m/usr/local/lib/python3.7/dist-packages/torch/utils/data/dataloader.py\u001b[0m in \u001b[0;36m__next__\u001b[0;34m(self)\u001b[0m\n\u001b[1;32m    515\u001b[0m             \u001b[0;32mif\u001b[0m \u001b[0mself\u001b[0m\u001b[0;34m.\u001b[0m\u001b[0m_sampler_iter\u001b[0m \u001b[0;32mis\u001b[0m \u001b[0;32mNone\u001b[0m\u001b[0;34m:\u001b[0m\u001b[0;34m\u001b[0m\u001b[0;34m\u001b[0m\u001b[0m\n\u001b[1;32m    516\u001b[0m                 \u001b[0mself\u001b[0m\u001b[0;34m.\u001b[0m\u001b[0m_reset\u001b[0m\u001b[0;34m(\u001b[0m\u001b[0;34m)\u001b[0m\u001b[0;34m\u001b[0m\u001b[0;34m\u001b[0m\u001b[0m\n\u001b[0;32m--> 517\u001b[0;31m             \u001b[0mdata\u001b[0m \u001b[0;34m=\u001b[0m \u001b[0mself\u001b[0m\u001b[0;34m.\u001b[0m\u001b[0m_next_data\u001b[0m\u001b[0;34m(\u001b[0m\u001b[0;34m)\u001b[0m\u001b[0;34m\u001b[0m\u001b[0;34m\u001b[0m\u001b[0m\n\u001b[0m\u001b[1;32m    518\u001b[0m             \u001b[0mself\u001b[0m\u001b[0;34m.\u001b[0m\u001b[0m_num_yielded\u001b[0m \u001b[0;34m+=\u001b[0m \u001b[0;36m1\u001b[0m\u001b[0;34m\u001b[0m\u001b[0;34m\u001b[0m\u001b[0m\n\u001b[1;32m    519\u001b[0m             \u001b[0;32mif\u001b[0m \u001b[0mself\u001b[0m\u001b[0;34m.\u001b[0m\u001b[0m_dataset_kind\u001b[0m \u001b[0;34m==\u001b[0m \u001b[0m_DatasetKind\u001b[0m\u001b[0;34m.\u001b[0m\u001b[0mIterable\u001b[0m \u001b[0;32mand\u001b[0m\u001b[0;31m \u001b[0m\u001b[0;31m\\\u001b[0m\u001b[0;34m\u001b[0m\u001b[0;34m\u001b[0m\u001b[0m\n",
            "\u001b[0;32m/usr/local/lib/python3.7/dist-packages/torch/utils/data/dataloader.py\u001b[0m in \u001b[0;36m_next_data\u001b[0;34m(self)\u001b[0m\n\u001b[1;32m    555\u001b[0m     \u001b[0;32mdef\u001b[0m \u001b[0m_next_data\u001b[0m\u001b[0;34m(\u001b[0m\u001b[0mself\u001b[0m\u001b[0;34m)\u001b[0m\u001b[0;34m:\u001b[0m\u001b[0;34m\u001b[0m\u001b[0;34m\u001b[0m\u001b[0m\n\u001b[1;32m    556\u001b[0m         \u001b[0mindex\u001b[0m \u001b[0;34m=\u001b[0m \u001b[0mself\u001b[0m\u001b[0;34m.\u001b[0m\u001b[0m_next_index\u001b[0m\u001b[0;34m(\u001b[0m\u001b[0;34m)\u001b[0m  \u001b[0;31m# may raise StopIteration\u001b[0m\u001b[0;34m\u001b[0m\u001b[0;34m\u001b[0m\u001b[0m\n\u001b[0;32m--> 557\u001b[0;31m         \u001b[0mdata\u001b[0m \u001b[0;34m=\u001b[0m \u001b[0mself\u001b[0m\u001b[0;34m.\u001b[0m\u001b[0m_dataset_fetcher\u001b[0m\u001b[0;34m.\u001b[0m\u001b[0mfetch\u001b[0m\u001b[0;34m(\u001b[0m\u001b[0mindex\u001b[0m\u001b[0;34m)\u001b[0m  \u001b[0;31m# may raise StopIteration\u001b[0m\u001b[0;34m\u001b[0m\u001b[0;34m\u001b[0m\u001b[0m\n\u001b[0m\u001b[1;32m    558\u001b[0m         \u001b[0;32mif\u001b[0m \u001b[0mself\u001b[0m\u001b[0;34m.\u001b[0m\u001b[0m_pin_memory\u001b[0m\u001b[0;34m:\u001b[0m\u001b[0;34m\u001b[0m\u001b[0;34m\u001b[0m\u001b[0m\n\u001b[1;32m    559\u001b[0m             \u001b[0mdata\u001b[0m \u001b[0;34m=\u001b[0m \u001b[0m_utils\u001b[0m\u001b[0;34m.\u001b[0m\u001b[0mpin_memory\u001b[0m\u001b[0;34m.\u001b[0m\u001b[0mpin_memory\u001b[0m\u001b[0;34m(\u001b[0m\u001b[0mdata\u001b[0m\u001b[0;34m)\u001b[0m\u001b[0;34m\u001b[0m\u001b[0;34m\u001b[0m\u001b[0m\n",
            "\u001b[0;32m/usr/local/lib/python3.7/dist-packages/torch/utils/data/_utils/fetch.py\u001b[0m in \u001b[0;36mfetch\u001b[0;34m(self, possibly_batched_index)\u001b[0m\n\u001b[1;32m     42\u001b[0m     \u001b[0;32mdef\u001b[0m \u001b[0mfetch\u001b[0m\u001b[0;34m(\u001b[0m\u001b[0mself\u001b[0m\u001b[0;34m,\u001b[0m \u001b[0mpossibly_batched_index\u001b[0m\u001b[0;34m)\u001b[0m\u001b[0;34m:\u001b[0m\u001b[0;34m\u001b[0m\u001b[0;34m\u001b[0m\u001b[0m\n\u001b[1;32m     43\u001b[0m         \u001b[0;32mif\u001b[0m \u001b[0mself\u001b[0m\u001b[0;34m.\u001b[0m\u001b[0mauto_collation\u001b[0m\u001b[0;34m:\u001b[0m\u001b[0;34m\u001b[0m\u001b[0;34m\u001b[0m\u001b[0m\n\u001b[0;32m---> 44\u001b[0;31m             \u001b[0mdata\u001b[0m \u001b[0;34m=\u001b[0m \u001b[0;34m[\u001b[0m\u001b[0mself\u001b[0m\u001b[0;34m.\u001b[0m\u001b[0mdataset\u001b[0m\u001b[0;34m[\u001b[0m\u001b[0midx\u001b[0m\u001b[0;34m]\u001b[0m \u001b[0;32mfor\u001b[0m \u001b[0midx\u001b[0m \u001b[0;32min\u001b[0m \u001b[0mpossibly_batched_index\u001b[0m\u001b[0;34m]\u001b[0m\u001b[0;34m\u001b[0m\u001b[0;34m\u001b[0m\u001b[0m\n\u001b[0m\u001b[1;32m     45\u001b[0m         \u001b[0;32melse\u001b[0m\u001b[0;34m:\u001b[0m\u001b[0;34m\u001b[0m\u001b[0;34m\u001b[0m\u001b[0m\n\u001b[1;32m     46\u001b[0m             \u001b[0mdata\u001b[0m \u001b[0;34m=\u001b[0m \u001b[0mself\u001b[0m\u001b[0;34m.\u001b[0m\u001b[0mdataset\u001b[0m\u001b[0;34m[\u001b[0m\u001b[0mpossibly_batched_index\u001b[0m\u001b[0;34m]\u001b[0m\u001b[0;34m\u001b[0m\u001b[0;34m\u001b[0m\u001b[0m\n",
            "\u001b[0;32m/usr/local/lib/python3.7/dist-packages/torch/utils/data/_utils/fetch.py\u001b[0m in \u001b[0;36m<listcomp>\u001b[0;34m(.0)\u001b[0m\n\u001b[1;32m     42\u001b[0m     \u001b[0;32mdef\u001b[0m \u001b[0mfetch\u001b[0m\u001b[0;34m(\u001b[0m\u001b[0mself\u001b[0m\u001b[0;34m,\u001b[0m \u001b[0mpossibly_batched_index\u001b[0m\u001b[0;34m)\u001b[0m\u001b[0;34m:\u001b[0m\u001b[0;34m\u001b[0m\u001b[0;34m\u001b[0m\u001b[0m\n\u001b[1;32m     43\u001b[0m         \u001b[0;32mif\u001b[0m \u001b[0mself\u001b[0m\u001b[0;34m.\u001b[0m\u001b[0mauto_collation\u001b[0m\u001b[0;34m:\u001b[0m\u001b[0;34m\u001b[0m\u001b[0;34m\u001b[0m\u001b[0m\n\u001b[0;32m---> 44\u001b[0;31m             \u001b[0mdata\u001b[0m \u001b[0;34m=\u001b[0m \u001b[0;34m[\u001b[0m\u001b[0mself\u001b[0m\u001b[0;34m.\u001b[0m\u001b[0mdataset\u001b[0m\u001b[0;34m[\u001b[0m\u001b[0midx\u001b[0m\u001b[0;34m]\u001b[0m \u001b[0;32mfor\u001b[0m \u001b[0midx\u001b[0m \u001b[0;32min\u001b[0m \u001b[0mpossibly_batched_index\u001b[0m\u001b[0;34m]\u001b[0m\u001b[0;34m\u001b[0m\u001b[0;34m\u001b[0m\u001b[0m\n\u001b[0m\u001b[1;32m     45\u001b[0m         \u001b[0;32melse\u001b[0m\u001b[0;34m:\u001b[0m\u001b[0;34m\u001b[0m\u001b[0;34m\u001b[0m\u001b[0m\n\u001b[1;32m     46\u001b[0m             \u001b[0mdata\u001b[0m \u001b[0;34m=\u001b[0m \u001b[0mself\u001b[0m\u001b[0;34m.\u001b[0m\u001b[0mdataset\u001b[0m\u001b[0;34m[\u001b[0m\u001b[0mpossibly_batched_index\u001b[0m\u001b[0;34m]\u001b[0m\u001b[0;34m\u001b[0m\u001b[0;34m\u001b[0m\u001b[0m\n",
            "\u001b[0;32m<ipython-input-14-a56ca8814765>\u001b[0m in \u001b[0;36m__getitem__\u001b[0;34m(self, index)\u001b[0m\n\u001b[1;32m     19\u001b[0m         \u001b[0m前処理をした画像たちのデータとラベル\u001b[0m\u001b[0;31m、\u001b[0m\u001b[0mラベルIDを取得\u001b[0m\u001b[0;34m\u001b[0m\u001b[0;34m\u001b[0m\u001b[0m\n\u001b[1;32m     20\u001b[0m         '''\n\u001b[0;32m---> 21\u001b[0;31m         \u001b[0mimgs_transformed\u001b[0m\u001b[0;34m,\u001b[0m \u001b[0mlabel\u001b[0m \u001b[0;34m=\u001b[0m \u001b[0mself\u001b[0m\u001b[0;34m.\u001b[0m\u001b[0mpull_item\u001b[0m\u001b[0;34m(\u001b[0m\u001b[0mindex\u001b[0m\u001b[0;34m)\u001b[0m\u001b[0;34m\u001b[0m\u001b[0;34m\u001b[0m\u001b[0m\n\u001b[0m\u001b[1;32m     22\u001b[0m         \u001b[0;32mreturn\u001b[0m \u001b[0mimgs_transformed\u001b[0m\u001b[0;34m,\u001b[0m \u001b[0mlabel\u001b[0m\u001b[0;34m\u001b[0m\u001b[0;34m\u001b[0m\u001b[0m\n\u001b[1;32m     23\u001b[0m \u001b[0;34m\u001b[0m\u001b[0m\n",
            "\u001b[0;32m<ipython-input-14-a56ca8814765>\u001b[0m in \u001b[0;36mpull_item\u001b[0;34m(self, index)\u001b[0m\n\u001b[1;32m     30\u001b[0m \u001b[0;34m\u001b[0m\u001b[0m\n\u001b[1;32m     31\u001b[0m         \u001b[0;31m# 3. 前処理を実施\u001b[0m\u001b[0;34m\u001b[0m\u001b[0;34m\u001b[0m\u001b[0;34m\u001b[0m\u001b[0m\n\u001b[0;32m---> 32\u001b[0;31m         \u001b[0mimgs_transformed\u001b[0m \u001b[0;34m=\u001b[0m \u001b[0mself\u001b[0m\u001b[0;34m.\u001b[0m\u001b[0mtransform\u001b[0m\u001b[0;34m(\u001b[0m\u001b[0mimg_group\u001b[0m\u001b[0;34m,\u001b[0m \u001b[0mphase\u001b[0m\u001b[0;34m=\u001b[0m\u001b[0mself\u001b[0m\u001b[0;34m.\u001b[0m\u001b[0mphase\u001b[0m\u001b[0;34m)\u001b[0m\u001b[0;34m\u001b[0m\u001b[0;34m\u001b[0m\u001b[0m\n\u001b[0m\u001b[1;32m     33\u001b[0m \u001b[0;34m\u001b[0m\u001b[0m\n\u001b[1;32m     34\u001b[0m         \u001b[0;32mreturn\u001b[0m \u001b[0mimgs_transformed\u001b[0m\u001b[0;34m,\u001b[0m \u001b[0mself\u001b[0m\u001b[0;34m.\u001b[0m\u001b[0mlabels\u001b[0m\u001b[0;34m[\u001b[0m\u001b[0mindex\u001b[0m\u001b[0;34m]\u001b[0m\u001b[0;34m\u001b[0m\u001b[0;34m\u001b[0m\u001b[0m\n",
            "\u001b[0;32m<ipython-input-12-6fa466160c1e>\u001b[0m in \u001b[0;36m__call__\u001b[0;34m(self, img_group, phase)\u001b[0m\n\u001b[1;32m     27\u001b[0m             \u001b[0m前処理のモードを指定\u001b[0m\u001b[0;31m。\u001b[0m\u001b[0;34m\u001b[0m\u001b[0;34m\u001b[0m\u001b[0m\n\u001b[1;32m     28\u001b[0m         \"\"\"\n\u001b[0;32m---> 29\u001b[0;31m         \u001b[0;32mreturn\u001b[0m \u001b[0mself\u001b[0m\u001b[0;34m.\u001b[0m\u001b[0mdata_transform\u001b[0m\u001b[0;34m[\u001b[0m\u001b[0mphase\u001b[0m\u001b[0;34m]\u001b[0m\u001b[0;34m(\u001b[0m\u001b[0mimg_group\u001b[0m\u001b[0;34m)\u001b[0m\u001b[0;34m\u001b[0m\u001b[0;34m\u001b[0m\u001b[0m\n\u001b[0m",
            "\u001b[0;32m/usr/local/lib/python3.7/dist-packages/torchvision/transforms/transforms.py\u001b[0m in \u001b[0;36m__call__\u001b[0;34m(self, img)\u001b[0m\n\u001b[1;32m     58\u001b[0m     \u001b[0;32mdef\u001b[0m \u001b[0m__call__\u001b[0m\u001b[0;34m(\u001b[0m\u001b[0mself\u001b[0m\u001b[0;34m,\u001b[0m \u001b[0mimg\u001b[0m\u001b[0;34m)\u001b[0m\u001b[0;34m:\u001b[0m\u001b[0;34m\u001b[0m\u001b[0;34m\u001b[0m\u001b[0m\n\u001b[1;32m     59\u001b[0m         \u001b[0;32mfor\u001b[0m \u001b[0mt\u001b[0m \u001b[0;32min\u001b[0m \u001b[0mself\u001b[0m\u001b[0;34m.\u001b[0m\u001b[0mtransforms\u001b[0m\u001b[0;34m:\u001b[0m\u001b[0;34m\u001b[0m\u001b[0;34m\u001b[0m\u001b[0m\n\u001b[0;32m---> 60\u001b[0;31m             \u001b[0mimg\u001b[0m \u001b[0;34m=\u001b[0m \u001b[0mt\u001b[0m\u001b[0;34m(\u001b[0m\u001b[0mimg\u001b[0m\u001b[0;34m)\u001b[0m\u001b[0;34m\u001b[0m\u001b[0;34m\u001b[0m\u001b[0m\n\u001b[0m\u001b[1;32m     61\u001b[0m         \u001b[0;32mreturn\u001b[0m \u001b[0mimg\u001b[0m\u001b[0;34m\u001b[0m\u001b[0;34m\u001b[0m\u001b[0m\n\u001b[1;32m     62\u001b[0m \u001b[0;34m\u001b[0m\u001b[0m\n",
            "\u001b[0;32m<ipython-input-13-b5d092ba5b8a>\u001b[0m in \u001b[0;36m__call__\u001b[0;34m(self, img_group)\u001b[0m\n\u001b[1;32m     66\u001b[0m         '''\n\u001b[1;32m     67\u001b[0m         ret = torch.cat([(x.flip(dims=[0])).unsqueeze(dim=0)\n\u001b[0;32m---> 68\u001b[0;31m                          for x in img_group], dim=0)  # frames次元で結合\n\u001b[0m\u001b[1;32m     69\u001b[0m         \u001b[0;31m# x.flip(dims=[0])は色チャネルをRGBからBGRへと順番を変えています（元の学習データがBGRであったため）\u001b[0m\u001b[0;34m\u001b[0m\u001b[0;34m\u001b[0m\u001b[0;34m\u001b[0m\u001b[0m\n\u001b[1;32m     70\u001b[0m         \u001b[0;31m# unsqueeze(dim=0)はあらたにframes用の次元を作成しています\u001b[0m\u001b[0;34m\u001b[0m\u001b[0;34m\u001b[0m\u001b[0;34m\u001b[0m\u001b[0m\n",
            "\u001b[0;32m<ipython-input-13-b5d092ba5b8a>\u001b[0m in \u001b[0;36m<listcomp>\u001b[0;34m(.0)\u001b[0m\n\u001b[1;32m     66\u001b[0m         '''\n\u001b[1;32m     67\u001b[0m         ret = torch.cat([(x.flip(dims=[0])).unsqueeze(dim=0)\n\u001b[0;32m---> 68\u001b[0;31m                          for x in img_group], dim=0)  # frames次元で結合\n\u001b[0m\u001b[1;32m     69\u001b[0m         \u001b[0;31m# x.flip(dims=[0])は色チャネルをRGBからBGRへと順番を変えています（元の学習データがBGRであったため）\u001b[0m\u001b[0;34m\u001b[0m\u001b[0;34m\u001b[0m\u001b[0;34m\u001b[0m\u001b[0m\n\u001b[1;32m     70\u001b[0m         \u001b[0;31m# unsqueeze(dim=0)はあらたにframes用の次元を作成しています\u001b[0m\u001b[0;34m\u001b[0m\u001b[0;34m\u001b[0m\u001b[0;34m\u001b[0m\u001b[0m\n",
            "\u001b[0;31mKeyboardInterrupt\u001b[0m: "
          ]
        }
      ]
    },
    {
      "cell_type": "code",
      "metadata": {
        "id": "u5y5CpC_DYQh"
      },
      "source": [
        ""
      ],
      "execution_count": null,
      "outputs": []
    }
  ]
}