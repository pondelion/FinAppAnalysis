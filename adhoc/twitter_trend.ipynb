{
  "nbformat": 4,
  "nbformat_minor": 0,
  "metadata": {
    "colab": {
      "name": "twitter_trend.ipynb",
      "provenance": [],
      "collapsed_sections": []
    },
    "kernelspec": {
      "name": "python3",
      "display_name": "Python 3"
    }
  },
  "cells": [
    {
      "cell_type": "code",
      "metadata": {
        "id": "VJ2JnX7UpBQE",
        "colab_type": "code",
        "colab": {
          "base_uri": "https://localhost:8080/",
          "height": 187
        },
        "outputId": "6fad462c-add3-458b-9887-c84a0fc58de9"
      },
      "source": [
        "!pip install japanize-matplotlib"
      ],
      "execution_count": null,
      "outputs": [
        {
          "output_type": "stream",
          "text": [
            "Collecting japanize-matplotlib\n",
            "\u001b[?25l  Downloading https://files.pythonhosted.org/packages/aa/c0/b75d434be51a8cc11d2e9b36f2d7f93a1bcf63bde24dc79a61d329d60b2a/japanize-matplotlib-1.0.5.tar.gz (4.1MB)\n",
            "\u001b[K     |████████████████████████████████| 4.1MB 1.4MB/s \n",
            "\u001b[?25hBuilding wheels for collected packages: japanize-matplotlib\n",
            "  Building wheel for japanize-matplotlib (setup.py) ... \u001b[?25l\u001b[?25hdone\n",
            "  Created wheel for japanize-matplotlib: filename=japanize_matplotlib-1.0.5-cp36-none-any.whl size=4118721 sha256=6b44f0f08b8e3acc26e7821351d2e3efd1dc70c95f56ad5f8546233e5f6b1c81\n",
            "  Stored in directory: /root/.cache/pip/wheels/6c/8a/08/4a784957da9f3c2b4839b4986be2fba2a481877318948be52c\n",
            "Successfully built japanize-matplotlib\n",
            "Installing collected packages: japanize-matplotlib\n",
            "Successfully installed japanize-matplotlib-1.0.5\n"
          ],
          "name": "stdout"
        }
      ]
    },
    {
      "cell_type": "code",
      "metadata": {
        "id": "-6YFx4ZGpNi0",
        "colab_type": "code",
        "colab": {}
      },
      "source": [
        "import os\n",
        "import time\n",
        "from typing import List, Dict\n",
        "import re\n",
        "from datetime import datetime as dt\n",
        "import pandas as pd\n",
        "import numpy as np\n",
        "import boto3\n",
        "from boto3.dynamodb.conditions import Key\n",
        "from fastprogress import progress_bar as pb\n",
        "import torch\n",
        "import torch.nn as nn\n",
        "import japanize_matplotlib\n",
        "from datetime import datetime, timedelta"
      ],
      "execution_count": null,
      "outputs": []
    },
    {
      "cell_type": "code",
      "metadata": {
        "id": "gH535IalpQKQ",
        "colab_type": "code",
        "colab": {}
      },
      "source": [
        "_aws_session = boto3.session.Session(\n",
        "    region_name='ap-northeast-1',\n",
        "    aws_access_key_id=os.environ[\"AWS_ACCESS_KEY_ID\"],\n",
        "    aws_secret_access_key=os.environ[\"AWS_SECRET_ACCESS_KEY\"],\n",
        ")\n",
        "\n",
        "DYNAMO_DB = _aws_session.resource('dynamodb')"
      ],
      "execution_count": null,
      "outputs": []
    },
    {
      "cell_type": "code",
      "metadata": {
        "id": "WA3rsx0jpeLv",
        "colab_type": "code",
        "colab": {}
      },
      "source": [
        "class DynamoDB:\n",
        "\n",
        "    @staticmethod\n",
        "    def put_items(\n",
        "        table_name: str,\n",
        "        items: List[Dict],\n",
        "        use_batch_writer: bool = False,\n",
        "    ) -> List:\n",
        "        \"\"\"[summary]\n",
        "        \n",
        "        Args:\n",
        "            table_name (str): [description]\n",
        "            items (List[Dict]): [description]\n",
        "        \n",
        "        Raises:\n",
        "            e: [description]\n",
        "        \n",
        "        Returns:\n",
        "            List: [description]\n",
        "        \"\"\"\n",
        "        if not isinstance(items, list):\n",
        "            items = [items]\n",
        "\n",
        "        responses = []\n",
        "        try:\n",
        "            table = DYNAMO_DB.Table(table_name)\n",
        "        except Exception as e:\n",
        "            print(f'Failed at DYNAMO_DB.Table(table_name) : {e}')\n",
        "            raise e\n",
        "\n",
        "        if use_batch_writer:\n",
        "            with table.batch_writer() as batch:\n",
        "                for item in items:\n",
        "                    try:\n",
        "                        responses.append(\n",
        "                            batch.put_item(\n",
        "                                Item=item,\n",
        "                            )\n",
        "                        )\n",
        "                    except Exception as e:\n",
        "                        print(f'Failed to put data to DynamoDB. Skipping : {e}')\n",
        "        else:\n",
        "            for item in items:\n",
        "                try:\n",
        "                    responses.append(\n",
        "                        table.put_item(\n",
        "                            TableName=table_name,\n",
        "                            Item=item,\n",
        "                        )\n",
        "                    )\n",
        "                except Exception as e:\n",
        "                    print(f'Failed to put data to DynamoDB. Skipping : {e}')\n",
        "\n",
        "        return responses\n",
        "\n",
        "    @staticmethod\n",
        "    def partitionkey_query(\n",
        "        table_name: str,\n",
        "        partition_key_name: str,\n",
        "        partition_key: str,\n",
        "    ) -> List[Dict]:\n",
        "        try:\n",
        "            table = DYNAMO_DB.Table(table_name)\n",
        "        except Exception as e:\n",
        "            print(f'Failed at DYNAMO_DB.Table(table_name) : {e}')\n",
        "            raise e\n",
        "\n",
        "        try:\n",
        "            response = table.query(\n",
        "                KeyConditionExpression=Key(partition_key_name).eq(partition_key)\n",
        "            )\n",
        "        except Exception as e:\n",
        "            print(f'Failed to query : {e}')\n",
        "            return []\n",
        "\n",
        "        return response['Items']"
      ],
      "execution_count": null,
      "outputs": []
    },
    {
      "cell_type": "code",
      "metadata": {
        "id": "iQ3JBIfZpgB3",
        "colab_type": "code",
        "colab": {}
      },
      "source": [
        "res = DynamoDB.partitionkey_query(\n",
        "    table_name='finapp_twitter_trend',\n",
        "    partition_key_name='date',\n",
        "    partition_key='2020-04-09',\n",
        ")"
      ],
      "execution_count": null,
      "outputs": []
    },
    {
      "cell_type": "code",
      "metadata": {
        "id": "lDiMSfJapnc_",
        "colab_type": "code",
        "colab": {
          "base_uri": "https://localhost:8080/",
          "height": 34
        },
        "outputId": "d8f561c3-4eb9-4f6d-b74b-4c1111e733df"
      },
      "source": [
        "len(res)"
      ],
      "execution_count": null,
      "outputs": [
        {
          "output_type": "execute_result",
          "data": {
            "text/plain": [
              "9085"
            ]
          },
          "metadata": {
            "tags": []
          },
          "execution_count": 32
        }
      ]
    },
    {
      "cell_type": "code",
      "metadata": {
        "id": "SgnglLRYppm-",
        "colab_type": "code",
        "colab": {
          "base_uri": "https://localhost:8080/",
          "height": 102
        },
        "outputId": "5246e61a-fd3c-474e-f78a-ca3c9a6dbafe"
      },
      "source": [
        "res[0]"
      ],
      "execution_count": null,
      "outputs": [
        {
          "output_type": "execute_result",
          "data": {
            "text/plain": [
              "{'date': '2020-04-09',\n",
              " 'datetime': Decimal('1586358050'),\n",
              " 'datetime_keyword': '20200409_000050_#ORβITさん月が綺麗ですね',\n",
              " 'keyword': '#ORβITさん月が綺麗ですね',\n",
              " 'volume': None}"
            ]
          },
          "metadata": {
            "tags": []
          },
          "execution_count": 33
        }
      ]
    },
    {
      "cell_type": "code",
      "metadata": {
        "id": "Z8kRJiNZpx0v",
        "colab_type": "code",
        "colab": {
          "base_uri": "https://localhost:8080/",
          "height": 34
        },
        "outputId": "84ae162d-be9c-420d-fcdf-19a19dbf1f1d"
      },
      "source": [
        "datetime.fromtimestamp(res[0]['datetime'])"
      ],
      "execution_count": null,
      "outputs": [
        {
          "output_type": "execute_result",
          "data": {
            "text/plain": [
              "datetime.datetime(2020, 4, 8, 15, 0, 50)"
            ]
          },
          "metadata": {
            "tags": []
          },
          "execution_count": 34
        }
      ]
    },
    {
      "cell_type": "code",
      "metadata": {
        "id": "l8gAPtOPqKqP",
        "colab_type": "code",
        "colab": {}
      },
      "source": [
        "df_trend = pd.DataFrame({\n",
        "    'datetime': [datetime.fromtimestamp(r['datetime']) for r in res],\n",
        "    'keyword': [r['keyword'] for r in res],\n",
        "    'volume': [r['volume'] for r in res],\n",
        "})"
      ],
      "execution_count": null,
      "outputs": []
    },
    {
      "cell_type": "code",
      "metadata": {
        "id": "ncSaP7MKqmA5",
        "colab_type": "code",
        "colab": {
          "base_uri": "https://localhost:8080/",
          "height": 419
        },
        "outputId": "58f12ac4-e703-45fe-804e-5ac513c1b241"
      },
      "source": [
        "df_trend"
      ],
      "execution_count": null,
      "outputs": [
        {
          "output_type": "execute_result",
          "data": {
            "text/html": [
              "<div>\n",
              "<style scoped>\n",
              "    .dataframe tbody tr th:only-of-type {\n",
              "        vertical-align: middle;\n",
              "    }\n",
              "\n",
              "    .dataframe tbody tr th {\n",
              "        vertical-align: top;\n",
              "    }\n",
              "\n",
              "    .dataframe thead th {\n",
              "        text-align: right;\n",
              "    }\n",
              "</style>\n",
              "<table border=\"1\" class=\"dataframe\">\n",
              "  <thead>\n",
              "    <tr style=\"text-align: right;\">\n",
              "      <th></th>\n",
              "      <th>datetime</th>\n",
              "      <th>keyword</th>\n",
              "      <th>volume</th>\n",
              "    </tr>\n",
              "  </thead>\n",
              "  <tbody>\n",
              "    <tr>\n",
              "      <th>0</th>\n",
              "      <td>2020-04-08 15:00:50</td>\n",
              "      <td>#ORβITさん月が綺麗ですね</td>\n",
              "      <td>None</td>\n",
              "    </tr>\n",
              "    <tr>\n",
              "      <th>1</th>\n",
              "      <td>2020-04-08 15:00:50</td>\n",
              "      <td>#SUPERBEAVER</td>\n",
              "      <td>14926</td>\n",
              "    </tr>\n",
              "    <tr>\n",
              "      <th>2</th>\n",
              "      <td>2020-04-08 15:00:50</td>\n",
              "      <td>#imas_MOR</td>\n",
              "      <td>None</td>\n",
              "    </tr>\n",
              "    <tr>\n",
              "      <th>3</th>\n",
              "      <td>2020-04-08 15:00:50</td>\n",
              "      <td>#あなたは天才で清楚なのか</td>\n",
              "      <td>None</td>\n",
              "    </tr>\n",
              "    <tr>\n",
              "      <th>4</th>\n",
              "      <td>2020-04-08 15:00:50</td>\n",
              "      <td>#あなたを山手線の駅に例えると</td>\n",
              "      <td>46546</td>\n",
              "    </tr>\n",
              "    <tr>\n",
              "      <th>...</th>\n",
              "      <td>...</td>\n",
              "      <td>...</td>\n",
              "      <td>...</td>\n",
              "    </tr>\n",
              "    <tr>\n",
              "      <th>9080</th>\n",
              "      <td>2020-04-08 18:09:05</td>\n",
              "      <td>P-MODEL</td>\n",
              "      <td>None</td>\n",
              "    </tr>\n",
              "    <tr>\n",
              "      <th>9081</th>\n",
              "      <td>2020-04-08 18:09:05</td>\n",
              "      <td>さくらしめじ</td>\n",
              "      <td>None</td>\n",
              "    </tr>\n",
              "    <tr>\n",
              "      <th>9082</th>\n",
              "      <td>2020-04-08 18:09:05</td>\n",
              "      <td>しめじちゃん</td>\n",
              "      <td>None</td>\n",
              "    </tr>\n",
              "    <tr>\n",
              "      <th>9083</th>\n",
              "      <td>2020-04-08 18:09:05</td>\n",
              "      <td>りあむソロ</td>\n",
              "      <td>13545</td>\n",
              "    </tr>\n",
              "    <tr>\n",
              "      <th>9084</th>\n",
              "      <td>2020-04-08 18:09:05</td>\n",
              "      <td>サンダース氏撤退</td>\n",
              "      <td>None</td>\n",
              "    </tr>\n",
              "  </tbody>\n",
              "</table>\n",
              "<p>9085 rows × 3 columns</p>\n",
              "</div>"
            ],
            "text/plain": [
              "                datetime          keyword volume\n",
              "0    2020-04-08 15:00:50  #ORβITさん月が綺麗ですね   None\n",
              "1    2020-04-08 15:00:50     #SUPERBEAVER  14926\n",
              "2    2020-04-08 15:00:50        #imas_MOR   None\n",
              "3    2020-04-08 15:00:50    #あなたは天才で清楚なのか   None\n",
              "4    2020-04-08 15:00:50  #あなたを山手線の駅に例えると  46546\n",
              "...                  ...              ...    ...\n",
              "9080 2020-04-08 18:09:05          P-MODEL   None\n",
              "9081 2020-04-08 18:09:05           さくらしめじ   None\n",
              "9082 2020-04-08 18:09:05           しめじちゃん   None\n",
              "9083 2020-04-08 18:09:05            りあむソロ  13545\n",
              "9084 2020-04-08 18:09:05         サンダース氏撤退   None\n",
              "\n",
              "[9085 rows x 3 columns]"
            ]
          },
          "metadata": {
            "tags": []
          },
          "execution_count": 36
        }
      ]
    },
    {
      "cell_type": "code",
      "metadata": {
        "id": "jsuGz5y1qtIA",
        "colab_type": "code",
        "colab": {
          "base_uri": "https://localhost:8080/",
          "height": 34
        },
        "outputId": "d1d8976d-044a-49e8-e4c7-6c2ac6f4184b"
      },
      "source": [
        "len(df_trend.keyword.unique())"
      ],
      "execution_count": null,
      "outputs": [
        {
          "output_type": "execute_result",
          "data": {
            "text/plain": [
              "121"
            ]
          },
          "metadata": {
            "tags": []
          },
          "execution_count": 37
        }
      ]
    },
    {
      "cell_type": "code",
      "metadata": {
        "id": "cPj3fuhLqzXn",
        "colab_type": "code",
        "colab": {
          "base_uri": "https://localhost:8080/",
          "height": 419
        },
        "outputId": "fc7dc8ba-01ea-4776-99e1-a7b05123a661"
      },
      "source": [
        "df_trend.sort_values(by='volume')"
      ],
      "execution_count": null,
      "outputs": [
        {
          "output_type": "execute_result",
          "data": {
            "text/html": [
              "<div>\n",
              "<style scoped>\n",
              "    .dataframe tbody tr th:only-of-type {\n",
              "        vertical-align: middle;\n",
              "    }\n",
              "\n",
              "    .dataframe tbody tr th {\n",
              "        vertical-align: top;\n",
              "    }\n",
              "\n",
              "    .dataframe thead th {\n",
              "        text-align: right;\n",
              "    }\n",
              "</style>\n",
              "<table border=\"1\" class=\"dataframe\">\n",
              "  <thead>\n",
              "    <tr style=\"text-align: right;\">\n",
              "      <th></th>\n",
              "      <th>datetime</th>\n",
              "      <th>keyword</th>\n",
              "      <th>volume</th>\n",
              "    </tr>\n",
              "  </thead>\n",
              "  <tbody>\n",
              "    <tr>\n",
              "      <th>5720</th>\n",
              "      <td>2020-04-08 16:59:53</td>\n",
              "      <td>#乃木坂46ANN</td>\n",
              "      <td>10007</td>\n",
              "    </tr>\n",
              "    <tr>\n",
              "      <th>5670</th>\n",
              "      <td>2020-04-08 16:58:51</td>\n",
              "      <td>#乃木坂46ANN</td>\n",
              "      <td>10007</td>\n",
              "    </tr>\n",
              "    <tr>\n",
              "      <th>5620</th>\n",
              "      <td>2020-04-08 16:57:49</td>\n",
              "      <td>#乃木坂46ANN</td>\n",
              "      <td>10007</td>\n",
              "    </tr>\n",
              "    <tr>\n",
              "      <th>5570</th>\n",
              "      <td>2020-04-08 16:56:47</td>\n",
              "      <td>#乃木坂46ANN</td>\n",
              "      <td>10007</td>\n",
              "    </tr>\n",
              "    <tr>\n",
              "      <th>5520</th>\n",
              "      <td>2020-04-08 16:55:45</td>\n",
              "      <td>#乃木坂46ANN</td>\n",
              "      <td>10007</td>\n",
              "    </tr>\n",
              "    <tr>\n",
              "      <th>...</th>\n",
              "      <td>...</td>\n",
              "      <td>...</td>\n",
              "      <td>...</td>\n",
              "    </tr>\n",
              "    <tr>\n",
              "      <th>9079</th>\n",
              "      <td>2020-04-08 18:09:05</td>\n",
              "      <td>It's my life</td>\n",
              "      <td>None</td>\n",
              "    </tr>\n",
              "    <tr>\n",
              "      <th>9080</th>\n",
              "      <td>2020-04-08 18:09:05</td>\n",
              "      <td>P-MODEL</td>\n",
              "      <td>None</td>\n",
              "    </tr>\n",
              "    <tr>\n",
              "      <th>9081</th>\n",
              "      <td>2020-04-08 18:09:05</td>\n",
              "      <td>さくらしめじ</td>\n",
              "      <td>None</td>\n",
              "    </tr>\n",
              "    <tr>\n",
              "      <th>9082</th>\n",
              "      <td>2020-04-08 18:09:05</td>\n",
              "      <td>しめじちゃん</td>\n",
              "      <td>None</td>\n",
              "    </tr>\n",
              "    <tr>\n",
              "      <th>9084</th>\n",
              "      <td>2020-04-08 18:09:05</td>\n",
              "      <td>サンダース氏撤退</td>\n",
              "      <td>None</td>\n",
              "    </tr>\n",
              "  </tbody>\n",
              "</table>\n",
              "<p>9085 rows × 3 columns</p>\n",
              "</div>"
            ],
            "text/plain": [
              "                datetime       keyword volume\n",
              "5720 2020-04-08 16:59:53     #乃木坂46ANN  10007\n",
              "5670 2020-04-08 16:58:51     #乃木坂46ANN  10007\n",
              "5620 2020-04-08 16:57:49     #乃木坂46ANN  10007\n",
              "5570 2020-04-08 16:56:47     #乃木坂46ANN  10007\n",
              "5520 2020-04-08 16:55:45     #乃木坂46ANN  10007\n",
              "...                  ...           ...    ...\n",
              "9079 2020-04-08 18:09:05  It's my life   None\n",
              "9080 2020-04-08 18:09:05       P-MODEL   None\n",
              "9081 2020-04-08 18:09:05        さくらしめじ   None\n",
              "9082 2020-04-08 18:09:05        しめじちゃん   None\n",
              "9084 2020-04-08 18:09:05      サンダース氏撤退   None\n",
              "\n",
              "[9085 rows x 3 columns]"
            ]
          },
          "metadata": {
            "tags": []
          },
          "execution_count": 38
        }
      ]
    },
    {
      "cell_type": "code",
      "metadata": {
        "id": "XNS3CzIhsOb8",
        "colab_type": "code",
        "colab": {}
      },
      "source": [
        "df_trend_not_volume_nan = df_trend.dropna(subset=['volume'])"
      ],
      "execution_count": null,
      "outputs": []
    },
    {
      "cell_type": "code",
      "metadata": {
        "id": "ilXM-K0-tmM7",
        "colab_type": "code",
        "colab": {
          "base_uri": "https://localhost:8080/",
          "height": 34
        },
        "outputId": "0af90625-17d4-4e89-a942-eee88559d457"
      },
      "source": [
        "len(df_trend_not_volume_nan.keyword.unique())"
      ],
      "execution_count": null,
      "outputs": [
        {
          "output_type": "execute_result",
          "data": {
            "text/plain": [
              "45"
            ]
          },
          "metadata": {
            "tags": []
          },
          "execution_count": 41
        }
      ]
    },
    {
      "cell_type": "code",
      "metadata": {
        "id": "vgH-FmlZrAL3",
        "colab_type": "code",
        "colab": {
          "base_uri": "https://localhost:8080/",
          "height": 816
        },
        "outputId": "6fb43981-3281-4315-c1ae-f128a678f478"
      },
      "source": [
        "df_trend_not_volume_nan.groupby(['keyword']).max()['volume']"
      ],
      "execution_count": null,
      "outputs": [
        {
          "output_type": "execute_result",
          "data": {
            "text/plain": [
              "keyword\n",
              "#FAKEMOTION              11312\n",
              "#SUPERBEAVER             15821\n",
              "#ThePromisedSaviour    1159089\n",
              "#fakemotion              11287\n",
              "#あなたは天才で清楚なのか            10351\n",
              "#あなたを山手線の駅に例えると          46622\n",
              "#コレコレプレゼント企画             41046\n",
              "#ドラブラ                    30205\n",
              "#ニンテンドー3DS               23973\n",
              "#ビーエヌエー                  10102\n",
              "#ミラクル9                   18231\n",
              "#レンタルなんもしない人             27267\n",
              "#乃木坂46ANN                17231\n",
              "#全ての住民に補償と給付で防疫を         90922\n",
              "#増田貴久                    14006\n",
              "#宮近海斗                    18356\n",
              "#有吉の壁                    47286\n",
              "#東大王                     45074\n",
              "#水曜日のダウンタウン              10309\n",
              "#特捜9                     24862\n",
              "#祝35th山下智久0409           13421\n",
              "#鬼滅の刃キャラ診断               36589\n",
              "Creepy Nuts              21346\n",
              "SUPER BEAVER             28826\n",
              "りあむソロ                    13545\n",
              "オリュンポス                  176353\n",
              "カイニス                     72077\n",
              "ジンネマン                    35482\n",
              "スーパームーン                 137894\n",
              "ゼウス                      19905\n",
              "テレワーク                   228851\n",
              "ディオスクロイ                  35482\n",
              "パタヤ                      15494\n",
              "マシュ                      45638\n",
              "人と相性                     43136\n",
              "休業要請2週間程度の見送り            30559\n",
              "休業要請2週間見送り               21914\n",
              "休業要請2週間見送り打診             26317\n",
              "低所得国支援                   11196\n",
              "内田姉弟                     12945\n",
              "猫村さん                     12446\n",
              "緊急事態宣言                 1200653\n",
              "自粛影響                     18149\n",
              "財務省幹部                    15587\n",
              "鬼滅の刃キャラ診断                30492\n",
              "Name: volume, dtype: object"
            ]
          },
          "metadata": {
            "tags": []
          },
          "execution_count": 40
        }
      ]
    },
    {
      "cell_type": "code",
      "metadata": {
        "id": "axLYSZ0su2pB",
        "colab_type": "code",
        "colab": {
          "base_uri": "https://localhost:8080/",
          "height": 37
        },
        "outputId": "6ae615fa-3f80-4e92-c87b-a5b1f08797f7"
      },
      "source": [
        "res = []\n",
        "\n",
        "for dt in pb(pd.date_range('2020-03-1', '2020-04-10')):\n",
        "    res += DynamoDB.partitionkey_query(\n",
        "        table_name='finapp_twitter_trend',\n",
        "        partition_key_name='date',\n",
        "        partition_key=str(dt.date()),\n",
        "    )"
      ],
      "execution_count": null,
      "outputs": [
        {
          "output_type": "display_data",
          "data": {
            "text/html": [
              "\n",
              "    <div>\n",
              "        <style>\n",
              "            /* Turns off some styling */\n",
              "            progress {\n",
              "                /* gets rid of default border in Firefox and Opera. */\n",
              "                border: none;\n",
              "                /* Needs to be in here for Safari polyfill so background images work as expected. */\n",
              "                background-size: auto;\n",
              "            }\n",
              "            .progress-bar-interrupted, .progress-bar-interrupted::-webkit-progress-bar {\n",
              "                background: #F44336;\n",
              "            }\n",
              "        </style>\n",
              "      <progress value='41' class='' max='41', style='width:300px; height:20px; vertical-align: middle;'></progress>\n",
              "      100.00% [41/41 04:44<00:00]\n",
              "    </div>\n",
              "    "
            ],
            "text/plain": [
              "<IPython.core.display.HTML object>"
            ]
          },
          "metadata": {
            "tags": []
          }
        }
      ]
    },
    {
      "cell_type": "code",
      "metadata": {
        "id": "_MHZ6HZ3uzjT",
        "colab_type": "code",
        "colab": {}
      },
      "source": [
        "df_trend = pd.DataFrame({\n",
        "    'date': [r['date'] for r in res],\n",
        "    'datetime': [datetime.fromtimestamp(r['datetime']) for r in res],\n",
        "    'keyword': [r['keyword'] for r in res],\n",
        "    'volume': [r['volume'] for r in res],\n",
        "})"
      ],
      "execution_count": null,
      "outputs": []
    },
    {
      "cell_type": "code",
      "metadata": {
        "id": "6A1343cNvyr8",
        "colab_type": "code",
        "colab": {
          "base_uri": "https://localhost:8080/",
          "height": 419
        },
        "outputId": "01edeca1-ea09-4ae6-e3f8-26a3b72acf40"
      },
      "source": [
        "df_trend"
      ],
      "execution_count": null,
      "outputs": [
        {
          "output_type": "execute_result",
          "data": {
            "text/html": [
              "<div>\n",
              "<style scoped>\n",
              "    .dataframe tbody tr th:only-of-type {\n",
              "        vertical-align: middle;\n",
              "    }\n",
              "\n",
              "    .dataframe tbody tr th {\n",
              "        vertical-align: top;\n",
              "    }\n",
              "\n",
              "    .dataframe thead th {\n",
              "        text-align: right;\n",
              "    }\n",
              "</style>\n",
              "<table border=\"1\" class=\"dataframe\">\n",
              "  <thead>\n",
              "    <tr style=\"text-align: right;\">\n",
              "      <th></th>\n",
              "      <th>date</th>\n",
              "      <th>datetime</th>\n",
              "      <th>keyword</th>\n",
              "      <th>volume</th>\n",
              "    </tr>\n",
              "  </thead>\n",
              "  <tbody>\n",
              "    <tr>\n",
              "      <th>0</th>\n",
              "      <td>2020-03-01</td>\n",
              "      <td>2020-02-29 15:00:11</td>\n",
              "      <td>#DMM_eスポーツ</td>\n",
              "      <td>None</td>\n",
              "    </tr>\n",
              "    <tr>\n",
              "      <th>1</th>\n",
              "      <td>2020-03-01</td>\n",
              "      <td>2020-02-29 15:00:11</td>\n",
              "      <td>#RAS武道館</td>\n",
              "      <td>27277</td>\n",
              "    </tr>\n",
              "    <tr>\n",
              "      <th>2</th>\n",
              "      <td>2020-03-01</td>\n",
              "      <td>2020-02-29 15:00:11</td>\n",
              "      <td>#SONGS</td>\n",
              "      <td>22770</td>\n",
              "    </tr>\n",
              "    <tr>\n",
              "      <th>3</th>\n",
              "      <td>2020-03-01</td>\n",
              "      <td>2020-02-29 15:00:11</td>\n",
              "      <td>#nhkらじらー</td>\n",
              "      <td>93769</td>\n",
              "    </tr>\n",
              "    <tr>\n",
              "      <th>4</th>\n",
              "      <td>2020-03-01</td>\n",
              "      <td>2020-02-29 15:00:11</td>\n",
              "      <td>#にじさんじスプラ杯</td>\n",
              "      <td>27627</td>\n",
              "    </tr>\n",
              "    <tr>\n",
              "      <th>...</th>\n",
              "      <td>...</td>\n",
              "      <td>...</td>\n",
              "      <td>...</td>\n",
              "      <td>...</td>\n",
              "    </tr>\n",
              "    <tr>\n",
              "      <th>322049</th>\n",
              "      <td>2020-04-10</td>\n",
              "      <td>2020-04-09 16:42:03</td>\n",
              "      <td>焼きそば定食</td>\n",
              "      <td>None</td>\n",
              "    </tr>\n",
              "    <tr>\n",
              "      <th>322050</th>\n",
              "      <td>2020-04-10</td>\n",
              "      <td>2020-04-09 16:42:03</td>\n",
              "      <td>石川知事</td>\n",
              "      <td>None</td>\n",
              "    </tr>\n",
              "    <tr>\n",
              "      <th>322051</th>\n",
              "      <td>2020-04-10</td>\n",
              "      <td>2020-04-09 16:42:03</td>\n",
              "      <td>蘭ちゃん誕生日</td>\n",
              "      <td>None</td>\n",
              "    </tr>\n",
              "    <tr>\n",
              "      <th>322052</th>\n",
              "      <td>2020-04-10</td>\n",
              "      <td>2020-04-09 16:42:03</td>\n",
              "      <td>通信障害</td>\n",
              "      <td>None</td>\n",
              "    </tr>\n",
              "    <tr>\n",
              "      <th>322053</th>\n",
              "      <td>2020-04-10</td>\n",
              "      <td>2020-04-09 16:42:03</td>\n",
              "      <td>鳥取vs岩手</td>\n",
              "      <td>None</td>\n",
              "    </tr>\n",
              "  </tbody>\n",
              "</table>\n",
              "<p>322054 rows × 4 columns</p>\n",
              "</div>"
            ],
            "text/plain": [
              "              date            datetime     keyword volume\n",
              "0       2020-03-01 2020-02-29 15:00:11  #DMM_eスポーツ   None\n",
              "1       2020-03-01 2020-02-29 15:00:11     #RAS武道館  27277\n",
              "2       2020-03-01 2020-02-29 15:00:11      #SONGS  22770\n",
              "3       2020-03-01 2020-02-29 15:00:11    #nhkらじらー  93769\n",
              "4       2020-03-01 2020-02-29 15:00:11  #にじさんじスプラ杯  27627\n",
              "...            ...                 ...         ...    ...\n",
              "322049  2020-04-10 2020-04-09 16:42:03      焼きそば定食   None\n",
              "322050  2020-04-10 2020-04-09 16:42:03        石川知事   None\n",
              "322051  2020-04-10 2020-04-09 16:42:03     蘭ちゃん誕生日   None\n",
              "322052  2020-04-10 2020-04-09 16:42:03        通信障害   None\n",
              "322053  2020-04-10 2020-04-09 16:42:03      鳥取vs岩手   None\n",
              "\n",
              "[322054 rows x 4 columns]"
            ]
          },
          "metadata": {
            "tags": []
          },
          "execution_count": 81
        }
      ]
    },
    {
      "cell_type": "code",
      "metadata": {
        "id": "3MOnmgzYwM7z",
        "colab_type": "code",
        "colab": {}
      },
      "source": [
        "df_trend_not_volume_nan = df_trend.dropna(subset=['volume'])"
      ],
      "execution_count": null,
      "outputs": []
    },
    {
      "cell_type": "code",
      "metadata": {
        "id": "j1cUiLkP0mPg",
        "colab_type": "code",
        "colab": {
          "base_uri": "https://localhost:8080/",
          "height": 34
        },
        "outputId": "7f5f36c2-a01f-4073-ac1e-fdaa5ffa0bd6"
      },
      "source": [
        "len(df_trend_not_volume_nan)"
      ],
      "execution_count": null,
      "outputs": [
        {
          "output_type": "execute_result",
          "data": {
            "text/plain": [
              "150842"
            ]
          },
          "metadata": {
            "tags": []
          },
          "execution_count": 83
        }
      ]
    },
    {
      "cell_type": "code",
      "metadata": {
        "id": "crm12KOJvz0G",
        "colab_type": "code",
        "colab": {
          "base_uri": "https://localhost:8080/",
          "height": 238
        },
        "outputId": "c6d498ab-f6a3-4062-8d53-0effa6752830"
      },
      "source": [
        "df_trend_not_volume_nan[df_trend_not_volume_nan['date'] == '2020-03-31'].groupby(['keyword']).max()['volume']"
      ],
      "execution_count": null,
      "outputs": [
        {
          "output_type": "execute_result",
          "data": {
            "text/plain": [
              "keyword\n",
              "#CDTVライブライブ       411327\n",
              "#Da_iCE            22705\n",
              "#EXIT              26705\n",
              "#GENERATIONS       20850\n",
              "#MAX_CHOCOLATE     62667\n",
              "                   ...  \n",
              "緊急記者会見            124536\n",
              "舞祭組                17731\n",
              "調整中                23483\n",
              "都知事の会見             87999\n",
              "龍友くん               16132\n",
              "Name: volume, Length: 63, dtype: object"
            ]
          },
          "metadata": {
            "tags": []
          },
          "execution_count": 84
        }
      ]
    },
    {
      "cell_type": "code",
      "metadata": {
        "id": "rkr17HQmwKPk",
        "colab_type": "code",
        "colab": {
          "base_uri": "https://localhost:8080/",
          "height": 421
        },
        "outputId": "9f6c187a-5da7-4b32-8091-ca5cf4647ee8"
      },
      "source": [
        "df_trend[df_trend['keyword'].str.contains('志村')].groupby(['date', 'keyword']).count()"
      ],
      "execution_count": null,
      "outputs": [
        {
          "output_type": "execute_result",
          "data": {
            "text/html": [
              "<div>\n",
              "<style scoped>\n",
              "    .dataframe tbody tr th:only-of-type {\n",
              "        vertical-align: middle;\n",
              "    }\n",
              "\n",
              "    .dataframe tbody tr th {\n",
              "        vertical-align: top;\n",
              "    }\n",
              "\n",
              "    .dataframe thead th {\n",
              "        text-align: right;\n",
              "    }\n",
              "</style>\n",
              "<table border=\"1\" class=\"dataframe\">\n",
              "  <thead>\n",
              "    <tr style=\"text-align: right;\">\n",
              "      <th></th>\n",
              "      <th></th>\n",
              "      <th>datetime</th>\n",
              "      <th>volume</th>\n",
              "    </tr>\n",
              "    <tr>\n",
              "      <th>date</th>\n",
              "      <th>keyword</th>\n",
              "      <th></th>\n",
              "      <th></th>\n",
              "    </tr>\n",
              "  </thead>\n",
              "  <tbody>\n",
              "    <tr>\n",
              "      <th>2020-03-07</th>\n",
              "      <th>#志村どうぶつ園</th>\n",
              "      <td>71</td>\n",
              "      <td>0</td>\n",
              "    </tr>\n",
              "    <tr>\n",
              "      <th>2020-03-26</th>\n",
              "      <th>#志村けん頑張れ</th>\n",
              "      <td>193</td>\n",
              "      <td>193</td>\n",
              "    </tr>\n",
              "    <tr>\n",
              "      <th rowspan=\"3\" valign=\"top\">2020-03-31</th>\n",
              "      <th>志村けんさん</th>\n",
              "      <td>49</td>\n",
              "      <td>49</td>\n",
              "    </tr>\n",
              "    <tr>\n",
              "      <th>志村さん</th>\n",
              "      <td>21</td>\n",
              "      <td>21</td>\n",
              "    </tr>\n",
              "    <tr>\n",
              "      <th>志村さん兄</th>\n",
              "      <td>145</td>\n",
              "      <td>141</td>\n",
              "    </tr>\n",
              "    <tr>\n",
              "      <th rowspan=\"4\" valign=\"top\">2020-04-05</th>\n",
              "      <th>#志村どうぶつ園</th>\n",
              "      <td>95</td>\n",
              "      <td>95</td>\n",
              "    </tr>\n",
              "    <tr>\n",
              "      <th>志村どうぶつ園</th>\n",
              "      <td>15</td>\n",
              "      <td>15</td>\n",
              "    </tr>\n",
              "    <tr>\n",
              "      <th>志村動物園</th>\n",
              "      <td>184</td>\n",
              "      <td>184</td>\n",
              "    </tr>\n",
              "    <tr>\n",
              "      <th>志村園長</th>\n",
              "      <td>28</td>\n",
              "      <td>28</td>\n",
              "    </tr>\n",
              "    <tr>\n",
              "      <th rowspan=\"2\" valign=\"top\">2020-04-06</th>\n",
              "      <th>#志村どうぶつ園</th>\n",
              "      <td>178</td>\n",
              "      <td>178</td>\n",
              "    </tr>\n",
              "    <tr>\n",
              "      <th>志村動物園</th>\n",
              "      <td>143</td>\n",
              "      <td>7</td>\n",
              "    </tr>\n",
              "  </tbody>\n",
              "</table>\n",
              "</div>"
            ],
            "text/plain": [
              "                     datetime  volume\n",
              "date       keyword                   \n",
              "2020-03-07 #志村どうぶつ園        71       0\n",
              "2020-03-26 #志村けん頑張れ       193     193\n",
              "2020-03-31 志村けんさん          49      49\n",
              "           志村さん            21      21\n",
              "           志村さん兄          145     141\n",
              "2020-04-05 #志村どうぶつ園        95      95\n",
              "           志村どうぶつ園         15      15\n",
              "           志村動物園          184     184\n",
              "           志村園長            28      28\n",
              "2020-04-06 #志村どうぶつ園       178     178\n",
              "           志村動物園          143       7"
            ]
          },
          "metadata": {
            "tags": []
          },
          "execution_count": 85
        }
      ]
    },
    {
      "cell_type": "code",
      "metadata": {
        "id": "NnWDKx2Pwi69",
        "colab_type": "code",
        "colab": {
          "base_uri": "https://localhost:8080/",
          "height": 170
        },
        "outputId": "2b753369-8447-4f93-c5ad-d300aefd9fa9"
      },
      "source": [
        "df_trend['date'].unique()"
      ],
      "execution_count": null,
      "outputs": [
        {
          "output_type": "execute_result",
          "data": {
            "text/plain": [
              "array(['2020-03-01', '2020-03-02', '2020-03-07', '2020-03-08',\n",
              "       '2020-03-09', '2020-03-10', '2020-03-11', '2020-03-12',\n",
              "       '2020-03-13', '2020-03-14', '2020-03-15', '2020-03-16',\n",
              "       '2020-03-17', '2020-03-18', '2020-03-19', '2020-03-20',\n",
              "       '2020-03-21', '2020-03-22', '2020-03-23', '2020-03-24',\n",
              "       '2020-03-25', '2020-03-26', '2020-03-27', '2020-03-28',\n",
              "       '2020-03-29', '2020-03-30', '2020-03-31', '2020-04-03',\n",
              "       '2020-04-04', '2020-04-05', '2020-04-06', '2020-04-07',\n",
              "       '2020-04-08', '2020-04-09', '2020-04-10'], dtype=object)"
            ]
          },
          "metadata": {
            "tags": []
          },
          "execution_count": 86
        }
      ]
    },
    {
      "cell_type": "code",
      "metadata": {
        "id": "F9GozAey3YIK",
        "colab_type": "code",
        "colab": {
          "base_uri": "https://localhost:8080/",
          "height": 34
        },
        "outputId": "03f5064e-fc62-4c85-fda9-2927f147b82e"
      },
      "source": [
        "len(df_trend['keyword'].unique()) / len(df_trend['date'].unique())"
      ],
      "execution_count": null,
      "outputs": [
        {
          "output_type": "execute_result",
          "data": {
            "text/plain": [
              "99.85714285714286"
            ]
          },
          "metadata": {
            "tags": []
          },
          "execution_count": 91
        }
      ]
    },
    {
      "cell_type": "code",
      "metadata": {
        "id": "0DtbNaQkxqQg",
        "colab_type": "code",
        "colab": {
          "base_uri": "https://localhost:8080/",
          "height": 669
        },
        "outputId": "91c593bc-3694-4a99-dbdc-c6666bc1a3ea"
      },
      "source": [
        "df_trend[df_trend['keyword'].str.contains('コロナ')].groupby(['date', 'keyword']).count()"
      ],
      "execution_count": null,
      "outputs": [
        {
          "output_type": "execute_result",
          "data": {
            "text/html": [
              "<div>\n",
              "<style scoped>\n",
              "    .dataframe tbody tr th:only-of-type {\n",
              "        vertical-align: middle;\n",
              "    }\n",
              "\n",
              "    .dataframe tbody tr th {\n",
              "        vertical-align: top;\n",
              "    }\n",
              "\n",
              "    .dataframe thead th {\n",
              "        text-align: right;\n",
              "    }\n",
              "</style>\n",
              "<table border=\"1\" class=\"dataframe\">\n",
              "  <thead>\n",
              "    <tr style=\"text-align: right;\">\n",
              "      <th></th>\n",
              "      <th></th>\n",
              "      <th>datetime</th>\n",
              "      <th>volume</th>\n",
              "    </tr>\n",
              "    <tr>\n",
              "      <th>date</th>\n",
              "      <th>keyword</th>\n",
              "      <th></th>\n",
              "      <th></th>\n",
              "    </tr>\n",
              "  </thead>\n",
              "  <tbody>\n",
              "    <tr>\n",
              "      <th>2020-03-02</th>\n",
              "      <th>#教えて新型コロナ</th>\n",
              "      <td>163</td>\n",
              "      <td>0</td>\n",
              "    </tr>\n",
              "    <tr>\n",
              "      <th rowspan=\"3\" valign=\"top\">2020-03-12</th>\n",
              "      <th>#コロナウイルスお絵描き</th>\n",
              "      <td>88</td>\n",
              "      <td>0</td>\n",
              "    </tr>\n",
              "    <tr>\n",
              "      <th>コロナウイルスの上手さ</th>\n",
              "      <td>17</td>\n",
              "      <td>0</td>\n",
              "    </tr>\n",
              "    <tr>\n",
              "      <th>コロナウイルスの特徴</th>\n",
              "      <td>49</td>\n",
              "      <td>0</td>\n",
              "    </tr>\n",
              "    <tr>\n",
              "      <th>2020-03-17</th>\n",
              "      <th>#新型コロナあなたの不安</th>\n",
              "      <td>6</td>\n",
              "      <td>0</td>\n",
              "    </tr>\n",
              "    <tr>\n",
              "      <th>2020-03-20</th>\n",
              "      <th>#シンソウ坂上新型コロナ</th>\n",
              "      <td>187</td>\n",
              "      <td>187</td>\n",
              "    </tr>\n",
              "    <tr>\n",
              "      <th>2020-03-23</th>\n",
              "      <th>コロナ対策30兆円規模</th>\n",
              "      <td>23</td>\n",
              "      <td>23</td>\n",
              "    </tr>\n",
              "    <tr>\n",
              "      <th>2020-03-27</th>\n",
              "      <th>コロナ</th>\n",
              "      <td>184</td>\n",
              "      <td>184</td>\n",
              "    </tr>\n",
              "    <tr>\n",
              "      <th>2020-03-28</th>\n",
              "      <th>コロナ</th>\n",
              "      <td>100</td>\n",
              "      <td>100</td>\n",
              "    </tr>\n",
              "    <tr>\n",
              "      <th>2020-03-29</th>\n",
              "      <th>コロナ</th>\n",
              "      <td>36</td>\n",
              "      <td>36</td>\n",
              "    </tr>\n",
              "    <tr>\n",
              "      <th rowspan=\"2\" valign=\"top\">2020-03-30</th>\n",
              "      <th>コロナビーム</th>\n",
              "      <td>195</td>\n",
              "      <td>195</td>\n",
              "    </tr>\n",
              "    <tr>\n",
              "      <th>俺コロナ</th>\n",
              "      <td>34</td>\n",
              "      <td>34</td>\n",
              "    </tr>\n",
              "    <tr>\n",
              "      <th>2020-03-31</th>\n",
              "      <th>コロナ</th>\n",
              "      <td>50</td>\n",
              "      <td>50</td>\n",
              "    </tr>\n",
              "    <tr>\n",
              "      <th>2020-04-04</th>\n",
              "      <th>日本の新型コロナ検査不足</th>\n",
              "      <td>97</td>\n",
              "      <td>0</td>\n",
              "    </tr>\n",
              "    <tr>\n",
              "      <th>2020-04-07</th>\n",
              "      <th>#コロナ疎開</th>\n",
              "      <td>80</td>\n",
              "      <td>0</td>\n",
              "    </tr>\n",
              "    <tr>\n",
              "      <th rowspan=\"2\" valign=\"top\">2020-04-08</th>\n",
              "      <th>コロナ予防方針</th>\n",
              "      <td>26</td>\n",
              "      <td>0</td>\n",
              "    </tr>\n",
              "    <tr>\n",
              "      <th>新型コロナ集団感染</th>\n",
              "      <td>20</td>\n",
              "      <td>20</td>\n",
              "    </tr>\n",
              "    <tr>\n",
              "      <th>2020-04-09</th>\n",
              "      <th>コロナウイルス対応の緊急経済対策の中</th>\n",
              "      <td>5</td>\n",
              "      <td>0</td>\n",
              "    </tr>\n",
              "    <tr>\n",
              "      <th>2020-04-10</th>\n",
              "      <th>#シンソウ坂上新型コロナ</th>\n",
              "      <td>96</td>\n",
              "      <td>96</td>\n",
              "    </tr>\n",
              "  </tbody>\n",
              "</table>\n",
              "</div>"
            ],
            "text/plain": [
              "                               datetime  volume\n",
              "date       keyword                             \n",
              "2020-03-02 #教えて新型コロナ                163       0\n",
              "2020-03-12 #コロナウイルスお絵描き              88       0\n",
              "           コロナウイルスの上手さ               17       0\n",
              "           コロナウイルスの特徴                49       0\n",
              "2020-03-17 #新型コロナあなたの不安               6       0\n",
              "2020-03-20 #シンソウ坂上新型コロナ             187     187\n",
              "2020-03-23 コロナ対策30兆円規模               23      23\n",
              "2020-03-27 コロナ                      184     184\n",
              "2020-03-28 コロナ                      100     100\n",
              "2020-03-29 コロナ                       36      36\n",
              "2020-03-30 コロナビーム                   195     195\n",
              "           俺コロナ                      34      34\n",
              "2020-03-31 コロナ                       50      50\n",
              "2020-04-04 日本の新型コロナ検査不足              97       0\n",
              "2020-04-07 #コロナ疎開                    80       0\n",
              "2020-04-08 コロナ予防方針                   26       0\n",
              "           新型コロナ集団感染                 20      20\n",
              "2020-04-09 コロナウイルス対応の緊急経済対策の中         5       0\n",
              "2020-04-10 #シンソウ坂上新型コロナ              96      96"
            ]
          },
          "metadata": {
            "tags": []
          },
          "execution_count": 87
        }
      ]
    },
    {
      "cell_type": "code",
      "metadata": {
        "id": "gKW5VasFyZJ3",
        "colab_type": "code",
        "colab": {
          "base_uri": "https://localhost:8080/",
          "height": 390
        },
        "outputId": "88a65ace-b64d-431e-a4ef-fbf2e432f10b"
      },
      "source": [
        "df_trend[df_trend['keyword'].str.contains('マスク')].groupby(['date', 'keyword']).count()"
      ],
      "execution_count": null,
      "outputs": [
        {
          "output_type": "execute_result",
          "data": {
            "text/html": [
              "<div>\n",
              "<style scoped>\n",
              "    .dataframe tbody tr th:only-of-type {\n",
              "        vertical-align: middle;\n",
              "    }\n",
              "\n",
              "    .dataframe tbody tr th {\n",
              "        vertical-align: top;\n",
              "    }\n",
              "\n",
              "    .dataframe thead th {\n",
              "        text-align: right;\n",
              "    }\n",
              "</style>\n",
              "<table border=\"1\" class=\"dataframe\">\n",
              "  <thead>\n",
              "    <tr style=\"text-align: right;\">\n",
              "      <th></th>\n",
              "      <th></th>\n",
              "      <th>datetime</th>\n",
              "      <th>volume</th>\n",
              "    </tr>\n",
              "    <tr>\n",
              "      <th>date</th>\n",
              "      <th>keyword</th>\n",
              "      <th></th>\n",
              "      <th></th>\n",
              "    </tr>\n",
              "  </thead>\n",
              "  <tbody>\n",
              "    <tr>\n",
              "      <th>2020-03-02</th>\n",
              "      <th>マスク配布</th>\n",
              "      <td>4</td>\n",
              "      <td>4</td>\n",
              "    </tr>\n",
              "    <tr>\n",
              "      <th>2020-03-07</th>\n",
              "      <th>マスク大量出品</th>\n",
              "      <td>12</td>\n",
              "      <td>12</td>\n",
              "    </tr>\n",
              "    <tr>\n",
              "      <th>2020-03-10</th>\n",
              "      <th>旧マスク工場</th>\n",
              "      <td>117</td>\n",
              "      <td>117</td>\n",
              "    </tr>\n",
              "    <tr>\n",
              "      <th rowspan=\"2\" valign=\"top\">2020-03-12</th>\n",
              "      <th>マスク配布</th>\n",
              "      <td>9</td>\n",
              "      <td>3</td>\n",
              "    </tr>\n",
              "    <tr>\n",
              "      <th>備蓄用マスクの配布対象</th>\n",
              "      <td>2</td>\n",
              "      <td>2</td>\n",
              "    </tr>\n",
              "    <tr>\n",
              "      <th rowspan=\"2\" valign=\"top\">2020-03-18</th>\n",
              "      <th>マスク手作り600枚</th>\n",
              "      <td>9</td>\n",
              "      <td>0</td>\n",
              "    </tr>\n",
              "    <tr>\n",
              "      <th>手作りマスク612枚</th>\n",
              "      <td>31</td>\n",
              "      <td>31</td>\n",
              "    </tr>\n",
              "    <tr>\n",
              "      <th>2020-04-03</th>\n",
              "      <th>マスク</th>\n",
              "      <td>183</td>\n",
              "      <td>183</td>\n",
              "    </tr>\n",
              "    <tr>\n",
              "      <th>2020-04-08</th>\n",
              "      <th>小池さんのマスク</th>\n",
              "      <td>25</td>\n",
              "      <td>25</td>\n",
              "    </tr>\n",
              "    <tr>\n",
              "      <th>2020-04-10</th>\n",
              "      <th>マスク2枚</th>\n",
              "      <td>73</td>\n",
              "      <td>73</td>\n",
              "    </tr>\n",
              "  </tbody>\n",
              "</table>\n",
              "</div>"
            ],
            "text/plain": [
              "                        datetime  volume\n",
              "date       keyword                      \n",
              "2020-03-02 マスク配布               4       4\n",
              "2020-03-07 マスク大量出品            12      12\n",
              "2020-03-10 旧マスク工場            117     117\n",
              "2020-03-12 マスク配布               9       3\n",
              "           備蓄用マスクの配布対象         2       2\n",
              "2020-03-18 マスク手作り600枚          9       0\n",
              "           手作りマスク612枚         31      31\n",
              "2020-04-03 マスク               183     183\n",
              "2020-04-08 小池さんのマスク           25      25\n",
              "2020-04-10 マスク2枚              73      73"
            ]
          },
          "metadata": {
            "tags": []
          },
          "execution_count": 88
        }
      ]
    },
    {
      "cell_type": "code",
      "metadata": {
        "id": "EtsogbzSyrL3",
        "colab_type": "code",
        "colab": {
          "base_uri": "https://localhost:8080/",
          "height": 235
        },
        "outputId": "c619982b-f3a3-4eb1-87b9-25d8053c43d8"
      },
      "source": [
        "df_trend[df_trend['keyword'].str.contains('安倍')].groupby(['date', 'keyword']).count()"
      ],
      "execution_count": null,
      "outputs": [
        {
          "output_type": "execute_result",
          "data": {
            "text/html": [
              "<div>\n",
              "<style scoped>\n",
              "    .dataframe tbody tr th:only-of-type {\n",
              "        vertical-align: middle;\n",
              "    }\n",
              "\n",
              "    .dataframe tbody tr th {\n",
              "        vertical-align: top;\n",
              "    }\n",
              "\n",
              "    .dataframe thead th {\n",
              "        text-align: right;\n",
              "    }\n",
              "</style>\n",
              "<table border=\"1\" class=\"dataframe\">\n",
              "  <thead>\n",
              "    <tr style=\"text-align: right;\">\n",
              "      <th></th>\n",
              "      <th></th>\n",
              "      <th>datetime</th>\n",
              "      <th>volume</th>\n",
              "    </tr>\n",
              "    <tr>\n",
              "      <th>date</th>\n",
              "      <th>keyword</th>\n",
              "      <th></th>\n",
              "      <th></th>\n",
              "    </tr>\n",
              "  </thead>\n",
              "  <tbody>\n",
              "    <tr>\n",
              "      <th rowspan=\"2\" valign=\"top\">2020-03-01</th>\n",
              "      <th>#安倍やめるな</th>\n",
              "      <td>14</td>\n",
              "      <td>14</td>\n",
              "    </tr>\n",
              "    <tr>\n",
              "      <th>#安倍やめろ</th>\n",
              "      <td>185</td>\n",
              "      <td>185</td>\n",
              "    </tr>\n",
              "    <tr>\n",
              "      <th>2020-03-15</th>\n",
              "      <th>#安倍やめろ</th>\n",
              "      <td>79</td>\n",
              "      <td>79</td>\n",
              "    </tr>\n",
              "    <tr>\n",
              "      <th>2020-03-25</th>\n",
              "      <th>#安倍総理10万円下さい</th>\n",
              "      <td>185</td>\n",
              "      <td>185</td>\n",
              "    </tr>\n",
              "    <tr>\n",
              "      <th>2020-04-08</th>\n",
              "      <th>#安倍首相会見</th>\n",
              "      <td>118</td>\n",
              "      <td>111</td>\n",
              "    </tr>\n",
              "  </tbody>\n",
              "</table>\n",
              "</div>"
            ],
            "text/plain": [
              "                         datetime  volume\n",
              "date       keyword                       \n",
              "2020-03-01 #安倍やめるな             14      14\n",
              "           #安倍やめろ             185     185\n",
              "2020-03-15 #安倍やめろ              79      79\n",
              "2020-03-25 #安倍総理10万円下さい       185     185\n",
              "2020-04-08 #安倍首相会見            118     111"
            ]
          },
          "metadata": {
            "tags": []
          },
          "execution_count": 90
        }
      ]
    },
    {
      "cell_type": "code",
      "metadata": {
        "id": "KYD9brhN1BFF",
        "colab_type": "code",
        "colab": {}
      },
      "source": [
        ""
      ],
      "execution_count": null,
      "outputs": []
    }
  ]
}