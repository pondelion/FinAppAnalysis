{
  "nbformat": 4,
  "nbformat_minor": 0,
  "metadata": {
    "colab": {
      "name": "gmo_historical_data_processing.ipynb",
      "provenance": [],
      "collapsed_sections": []
    },
    "kernelspec": {
      "name": "python3",
      "display_name": "Python 3"
    },
    "language_info": {
      "name": "python"
    }
  },
  "cells": [
    {
      "cell_type": "code",
      "source": [
        "from google.colab import drive\n",
        "drive.mount('/content/drive')"
      ],
      "metadata": {
        "colab": {
          "base_uri": "https://localhost:8080/"
        },
        "id": "sEr40vurJ9rA",
        "outputId": "fbd87f17-4e7f-4d06-d28a-24b51e0dfdd5"
      },
      "execution_count": 1,
      "outputs": [
        {
          "output_type": "stream",
          "name": "stdout",
          "text": [
            "Mounted at /content/drive\n"
          ]
        }
      ]
    },
    {
      "cell_type": "code",
      "source": [
        "!unzip /content/drive/MyDrive/data/crypto/historical/gmo.zip -d /content/drive/MyDrive/data/crypto/historical/gmo > /dev/null"
      ],
      "metadata": {
        "id": "1IbPvTeFJ-Tu"
      },
      "execution_count": null,
      "outputs": []
    },
    {
      "cell_type": "code",
      "source": [
        "from glob import glob\n",
        "from datetime import date\n",
        "import pandas as pd"
      ],
      "metadata": {
        "id": "Yc64A6aBKMi9"
      },
      "execution_count": 8,
      "outputs": []
    },
    {
      "cell_type": "code",
      "source": [
        "csv_files = glob('/content/drive/MyDrive/data/crypto/historical/gmo/**/*.csv', recursive=True)"
      ],
      "metadata": {
        "id": "50c-BYESKbxV"
      },
      "execution_count": 4,
      "outputs": []
    },
    {
      "cell_type": "code",
      "source": [
        "len(csv_files)"
      ],
      "metadata": {
        "colab": {
          "base_uri": "https://localhost:8080/"
        },
        "id": "zGwYKnmAKiL8",
        "outputId": "2df1b804-15d3-43ad-b8f2-60c8db5fcc17"
      },
      "execution_count": 5,
      "outputs": [
        {
          "output_type": "execute_result",
          "data": {
            "text/plain": [
              "2196"
            ]
          },
          "metadata": {},
          "execution_count": 5
        }
      ]
    },
    {
      "cell_type": "code",
      "source": [
        "csv_files[0]"
      ],
      "metadata": {
        "colab": {
          "base_uri": "https://localhost:8080/",
          "height": 35
        },
        "id": "8OaPy-6lKnVC",
        "outputId": "cd5e9a04-7d93-4414-a86b-dbf281d6f7ab"
      },
      "execution_count": 6,
      "outputs": [
        {
          "output_type": "execute_result",
          "data": {
            "application/vnd.google.colaboratory.intrinsic+json": {
              "type": "string"
            },
            "text/plain": [
              "'/content/drive/MyDrive/data/crypto/historical/gmo/gmo/XRP/2021/09/20.csv'"
            ]
          },
          "metadata": {},
          "execution_count": 6
        }
      ]
    },
    {
      "cell_type": "code",
      "source": [
        "df_files = pd.DataFrame({\n",
        "    'filepath': csv_files,\n",
        "    'symbol': [f.split('/')[-4] for f in csv_files],\n",
        "    'date': [date(int(f.split('/')[-3]), int(f.split('/')[-2]), int(f.split('/')[-1].replace('.csv', ''))) for f in csv_files],\n",
        "})\n",
        "df_files['date'] = pd.to_datetime(df_files['date'])\n",
        "df_files.sort_values(by=['symbol', 'date'], inplace=True)\n",
        "df_files.reset_index(inplace=True, drop=True)"
      ],
      "metadata": {
        "id": "wFKyz6XmKjmV"
      },
      "execution_count": 23,
      "outputs": []
    },
    {
      "cell_type": "code",
      "source": [
        "df_files"
      ],
      "metadata": {
        "colab": {
          "base_uri": "https://localhost:8080/",
          "height": 424
        },
        "id": "3egGv-fELR3d",
        "outputId": "9b7e585e-66a7-4c55-c07b-b686615456d0"
      },
      "execution_count": 24,
      "outputs": [
        {
          "output_type": "execute_result",
          "data": {
            "text/html": [
              "\n",
              "  <div id=\"df-f64c9b13-e68d-48ba-8f8d-95f28df976df\">\n",
              "    <div class=\"colab-df-container\">\n",
              "      <div>\n",
              "<style scoped>\n",
              "    .dataframe tbody tr th:only-of-type {\n",
              "        vertical-align: middle;\n",
              "    }\n",
              "\n",
              "    .dataframe tbody tr th {\n",
              "        vertical-align: top;\n",
              "    }\n",
              "\n",
              "    .dataframe thead th {\n",
              "        text-align: right;\n",
              "    }\n",
              "</style>\n",
              "<table border=\"1\" class=\"dataframe\">\n",
              "  <thead>\n",
              "    <tr style=\"text-align: right;\">\n",
              "      <th></th>\n",
              "      <th>filepath</th>\n",
              "      <th>symbol</th>\n",
              "      <th>date</th>\n",
              "    </tr>\n",
              "  </thead>\n",
              "  <tbody>\n",
              "    <tr>\n",
              "      <th>0</th>\n",
              "      <td>/content/drive/MyDrive/data/crypto/historical/...</td>\n",
              "      <td>BTC</td>\n",
              "      <td>2020-01-01</td>\n",
              "    </tr>\n",
              "    <tr>\n",
              "      <th>1</th>\n",
              "      <td>/content/drive/MyDrive/data/crypto/historical/...</td>\n",
              "      <td>BTC</td>\n",
              "      <td>2020-01-02</td>\n",
              "    </tr>\n",
              "    <tr>\n",
              "      <th>2</th>\n",
              "      <td>/content/drive/MyDrive/data/crypto/historical/...</td>\n",
              "      <td>BTC</td>\n",
              "      <td>2020-01-03</td>\n",
              "    </tr>\n",
              "    <tr>\n",
              "      <th>3</th>\n",
              "      <td>/content/drive/MyDrive/data/crypto/historical/...</td>\n",
              "      <td>BTC</td>\n",
              "      <td>2020-01-04</td>\n",
              "    </tr>\n",
              "    <tr>\n",
              "      <th>4</th>\n",
              "      <td>/content/drive/MyDrive/data/crypto/historical/...</td>\n",
              "      <td>BTC</td>\n",
              "      <td>2020-01-05</td>\n",
              "    </tr>\n",
              "    <tr>\n",
              "      <th>...</th>\n",
              "      <td>...</td>\n",
              "      <td>...</td>\n",
              "      <td>...</td>\n",
              "    </tr>\n",
              "    <tr>\n",
              "      <th>2191</th>\n",
              "      <td>/content/drive/MyDrive/data/crypto/historical/...</td>\n",
              "      <td>XRP</td>\n",
              "      <td>2021-12-28</td>\n",
              "    </tr>\n",
              "    <tr>\n",
              "      <th>2192</th>\n",
              "      <td>/content/drive/MyDrive/data/crypto/historical/...</td>\n",
              "      <td>XRP</td>\n",
              "      <td>2021-12-29</td>\n",
              "    </tr>\n",
              "    <tr>\n",
              "      <th>2193</th>\n",
              "      <td>/content/drive/MyDrive/data/crypto/historical/...</td>\n",
              "      <td>XRP</td>\n",
              "      <td>2021-12-30</td>\n",
              "    </tr>\n",
              "    <tr>\n",
              "      <th>2194</th>\n",
              "      <td>/content/drive/MyDrive/data/crypto/historical/...</td>\n",
              "      <td>XRP</td>\n",
              "      <td>2021-12-31</td>\n",
              "    </tr>\n",
              "    <tr>\n",
              "      <th>2195</th>\n",
              "      <td>/content/drive/MyDrive/data/crypto/historical/...</td>\n",
              "      <td>XRP</td>\n",
              "      <td>2022-01-01</td>\n",
              "    </tr>\n",
              "  </tbody>\n",
              "</table>\n",
              "<p>2196 rows × 3 columns</p>\n",
              "</div>\n",
              "      <button class=\"colab-df-convert\" onclick=\"convertToInteractive('df-f64c9b13-e68d-48ba-8f8d-95f28df976df')\"\n",
              "              title=\"Convert this dataframe to an interactive table.\"\n",
              "              style=\"display:none;\">\n",
              "        \n",
              "  <svg xmlns=\"http://www.w3.org/2000/svg\" height=\"24px\"viewBox=\"0 0 24 24\"\n",
              "       width=\"24px\">\n",
              "    <path d=\"M0 0h24v24H0V0z\" fill=\"none\"/>\n",
              "    <path d=\"M18.56 5.44l.94 2.06.94-2.06 2.06-.94-2.06-.94-.94-2.06-.94 2.06-2.06.94zm-11 1L8.5 8.5l.94-2.06 2.06-.94-2.06-.94L8.5 2.5l-.94 2.06-2.06.94zm10 10l.94 2.06.94-2.06 2.06-.94-2.06-.94-.94-2.06-.94 2.06-2.06.94z\"/><path d=\"M17.41 7.96l-1.37-1.37c-.4-.4-.92-.59-1.43-.59-.52 0-1.04.2-1.43.59L10.3 9.45l-7.72 7.72c-.78.78-.78 2.05 0 2.83L4 21.41c.39.39.9.59 1.41.59.51 0 1.02-.2 1.41-.59l7.78-7.78 2.81-2.81c.8-.78.8-2.07 0-2.86zM5.41 20L4 18.59l7.72-7.72 1.47 1.35L5.41 20z\"/>\n",
              "  </svg>\n",
              "      </button>\n",
              "      \n",
              "  <style>\n",
              "    .colab-df-container {\n",
              "      display:flex;\n",
              "      flex-wrap:wrap;\n",
              "      gap: 12px;\n",
              "    }\n",
              "\n",
              "    .colab-df-convert {\n",
              "      background-color: #E8F0FE;\n",
              "      border: none;\n",
              "      border-radius: 50%;\n",
              "      cursor: pointer;\n",
              "      display: none;\n",
              "      fill: #1967D2;\n",
              "      height: 32px;\n",
              "      padding: 0 0 0 0;\n",
              "      width: 32px;\n",
              "    }\n",
              "\n",
              "    .colab-df-convert:hover {\n",
              "      background-color: #E2EBFA;\n",
              "      box-shadow: 0px 1px 2px rgba(60, 64, 67, 0.3), 0px 1px 3px 1px rgba(60, 64, 67, 0.15);\n",
              "      fill: #174EA6;\n",
              "    }\n",
              "\n",
              "    [theme=dark] .colab-df-convert {\n",
              "      background-color: #3B4455;\n",
              "      fill: #D2E3FC;\n",
              "    }\n",
              "\n",
              "    [theme=dark] .colab-df-convert:hover {\n",
              "      background-color: #434B5C;\n",
              "      box-shadow: 0px 1px 3px 1px rgba(0, 0, 0, 0.15);\n",
              "      filter: drop-shadow(0px 1px 2px rgba(0, 0, 0, 0.3));\n",
              "      fill: #FFFFFF;\n",
              "    }\n",
              "  </style>\n",
              "\n",
              "      <script>\n",
              "        const buttonEl =\n",
              "          document.querySelector('#df-f64c9b13-e68d-48ba-8f8d-95f28df976df button.colab-df-convert');\n",
              "        buttonEl.style.display =\n",
              "          google.colab.kernel.accessAllowed ? 'block' : 'none';\n",
              "\n",
              "        async function convertToInteractive(key) {\n",
              "          const element = document.querySelector('#df-f64c9b13-e68d-48ba-8f8d-95f28df976df');\n",
              "          const dataTable =\n",
              "            await google.colab.kernel.invokeFunction('convertToInteractive',\n",
              "                                                     [key], {});\n",
              "          if (!dataTable) return;\n",
              "\n",
              "          const docLinkHtml = 'Like what you see? Visit the ' +\n",
              "            '<a target=\"_blank\" href=https://colab.research.google.com/notebooks/data_table.ipynb>data table notebook</a>'\n",
              "            + ' to learn more about interactive tables.';\n",
              "          element.innerHTML = '';\n",
              "          dataTable['output_type'] = 'display_data';\n",
              "          await google.colab.output.renderOutput(dataTable, element);\n",
              "          const docLink = document.createElement('div');\n",
              "          docLink.innerHTML = docLinkHtml;\n",
              "          element.appendChild(docLink);\n",
              "        }\n",
              "      </script>\n",
              "    </div>\n",
              "  </div>\n",
              "  "
            ],
            "text/plain": [
              "                                               filepath symbol       date\n",
              "0     /content/drive/MyDrive/data/crypto/historical/...    BTC 2020-01-01\n",
              "1     /content/drive/MyDrive/data/crypto/historical/...    BTC 2020-01-02\n",
              "2     /content/drive/MyDrive/data/crypto/historical/...    BTC 2020-01-03\n",
              "3     /content/drive/MyDrive/data/crypto/historical/...    BTC 2020-01-04\n",
              "4     /content/drive/MyDrive/data/crypto/historical/...    BTC 2020-01-05\n",
              "...                                                 ...    ...        ...\n",
              "2191  /content/drive/MyDrive/data/crypto/historical/...    XRP 2021-12-28\n",
              "2192  /content/drive/MyDrive/data/crypto/historical/...    XRP 2021-12-29\n",
              "2193  /content/drive/MyDrive/data/crypto/historical/...    XRP 2021-12-30\n",
              "2194  /content/drive/MyDrive/data/crypto/historical/...    XRP 2021-12-31\n",
              "2195  /content/drive/MyDrive/data/crypto/historical/...    XRP 2022-01-01\n",
              "\n",
              "[2196 rows x 3 columns]"
            ]
          },
          "metadata": {},
          "execution_count": 24
        }
      ]
    },
    {
      "cell_type": "code",
      "source": [
        "df_files.dtypes"
      ],
      "metadata": {
        "colab": {
          "base_uri": "https://localhost:8080/"
        },
        "id": "Ljf3PJ37LgaL",
        "outputId": "65634b08-a396-4e05-d62e-973c4e064d58"
      },
      "execution_count": 17,
      "outputs": [
        {
          "output_type": "execute_result",
          "data": {
            "text/plain": [
              "filepath            object\n",
              "symbol              object\n",
              "date        datetime64[ns]\n",
              "dtype: object"
            ]
          },
          "metadata": {},
          "execution_count": 17
        }
      ]
    },
    {
      "cell_type": "code",
      "source": [
        "df_files[df_files['date'].dt.year == 2021]"
      ],
      "metadata": {
        "colab": {
          "base_uri": "https://localhost:8080/",
          "height": 424
        },
        "id": "SIvJ2kGyLUwN",
        "outputId": "bc9fb70d-9519-4b93-eb7f-c2b4655945f2"
      },
      "execution_count": 18,
      "outputs": [
        {
          "output_type": "execute_result",
          "data": {
            "text/html": [
              "\n",
              "  <div id=\"df-cf0743d6-9cdb-4fe5-99f9-41585a333b8c\">\n",
              "    <div class=\"colab-df-container\">\n",
              "      <div>\n",
              "<style scoped>\n",
              "    .dataframe tbody tr th:only-of-type {\n",
              "        vertical-align: middle;\n",
              "    }\n",
              "\n",
              "    .dataframe tbody tr th {\n",
              "        vertical-align: top;\n",
              "    }\n",
              "\n",
              "    .dataframe thead th {\n",
              "        text-align: right;\n",
              "    }\n",
              "</style>\n",
              "<table border=\"1\" class=\"dataframe\">\n",
              "  <thead>\n",
              "    <tr style=\"text-align: right;\">\n",
              "      <th></th>\n",
              "      <th>filepath</th>\n",
              "      <th>symbol</th>\n",
              "      <th>date</th>\n",
              "    </tr>\n",
              "  </thead>\n",
              "  <tbody>\n",
              "    <tr>\n",
              "      <th>0</th>\n",
              "      <td>/content/drive/MyDrive/data/crypto/historical/...</td>\n",
              "      <td>XRP</td>\n",
              "      <td>2021-09-20</td>\n",
              "    </tr>\n",
              "    <tr>\n",
              "      <th>1</th>\n",
              "      <td>/content/drive/MyDrive/data/crypto/historical/...</td>\n",
              "      <td>XRP</td>\n",
              "      <td>2021-09-13</td>\n",
              "    </tr>\n",
              "    <tr>\n",
              "      <th>2</th>\n",
              "      <td>/content/drive/MyDrive/data/crypto/historical/...</td>\n",
              "      <td>XRP</td>\n",
              "      <td>2021-09-14</td>\n",
              "    </tr>\n",
              "    <tr>\n",
              "      <th>3</th>\n",
              "      <td>/content/drive/MyDrive/data/crypto/historical/...</td>\n",
              "      <td>XRP</td>\n",
              "      <td>2021-09-06</td>\n",
              "    </tr>\n",
              "    <tr>\n",
              "      <th>4</th>\n",
              "      <td>/content/drive/MyDrive/data/crypto/historical/...</td>\n",
              "      <td>XRP</td>\n",
              "      <td>2021-09-12</td>\n",
              "    </tr>\n",
              "    <tr>\n",
              "      <th>...</th>\n",
              "      <td>...</td>\n",
              "      <td>...</td>\n",
              "      <td>...</td>\n",
              "    </tr>\n",
              "    <tr>\n",
              "      <th>1824</th>\n",
              "      <td>/content/drive/MyDrive/data/crypto/historical/...</td>\n",
              "      <td>ETH</td>\n",
              "      <td>2021-06-08</td>\n",
              "    </tr>\n",
              "    <tr>\n",
              "      <th>1825</th>\n",
              "      <td>/content/drive/MyDrive/data/crypto/historical/...</td>\n",
              "      <td>ETH</td>\n",
              "      <td>2021-06-03</td>\n",
              "    </tr>\n",
              "    <tr>\n",
              "      <th>1826</th>\n",
              "      <td>/content/drive/MyDrive/data/crypto/historical/...</td>\n",
              "      <td>ETH</td>\n",
              "      <td>2021-06-11</td>\n",
              "    </tr>\n",
              "    <tr>\n",
              "      <th>1827</th>\n",
              "      <td>/content/drive/MyDrive/data/crypto/historical/...</td>\n",
              "      <td>ETH</td>\n",
              "      <td>2021-06-16</td>\n",
              "    </tr>\n",
              "    <tr>\n",
              "      <th>1828</th>\n",
              "      <td>/content/drive/MyDrive/data/crypto/historical/...</td>\n",
              "      <td>ETH</td>\n",
              "      <td>2021-06-10</td>\n",
              "    </tr>\n",
              "  </tbody>\n",
              "</table>\n",
              "<p>1095 rows × 3 columns</p>\n",
              "</div>\n",
              "      <button class=\"colab-df-convert\" onclick=\"convertToInteractive('df-cf0743d6-9cdb-4fe5-99f9-41585a333b8c')\"\n",
              "              title=\"Convert this dataframe to an interactive table.\"\n",
              "              style=\"display:none;\">\n",
              "        \n",
              "  <svg xmlns=\"http://www.w3.org/2000/svg\" height=\"24px\"viewBox=\"0 0 24 24\"\n",
              "       width=\"24px\">\n",
              "    <path d=\"M0 0h24v24H0V0z\" fill=\"none\"/>\n",
              "    <path d=\"M18.56 5.44l.94 2.06.94-2.06 2.06-.94-2.06-.94-.94-2.06-.94 2.06-2.06.94zm-11 1L8.5 8.5l.94-2.06 2.06-.94-2.06-.94L8.5 2.5l-.94 2.06-2.06.94zm10 10l.94 2.06.94-2.06 2.06-.94-2.06-.94-.94-2.06-.94 2.06-2.06.94z\"/><path d=\"M17.41 7.96l-1.37-1.37c-.4-.4-.92-.59-1.43-.59-.52 0-1.04.2-1.43.59L10.3 9.45l-7.72 7.72c-.78.78-.78 2.05 0 2.83L4 21.41c.39.39.9.59 1.41.59.51 0 1.02-.2 1.41-.59l7.78-7.78 2.81-2.81c.8-.78.8-2.07 0-2.86zM5.41 20L4 18.59l7.72-7.72 1.47 1.35L5.41 20z\"/>\n",
              "  </svg>\n",
              "      </button>\n",
              "      \n",
              "  <style>\n",
              "    .colab-df-container {\n",
              "      display:flex;\n",
              "      flex-wrap:wrap;\n",
              "      gap: 12px;\n",
              "    }\n",
              "\n",
              "    .colab-df-convert {\n",
              "      background-color: #E8F0FE;\n",
              "      border: none;\n",
              "      border-radius: 50%;\n",
              "      cursor: pointer;\n",
              "      display: none;\n",
              "      fill: #1967D2;\n",
              "      height: 32px;\n",
              "      padding: 0 0 0 0;\n",
              "      width: 32px;\n",
              "    }\n",
              "\n",
              "    .colab-df-convert:hover {\n",
              "      background-color: #E2EBFA;\n",
              "      box-shadow: 0px 1px 2px rgba(60, 64, 67, 0.3), 0px 1px 3px 1px rgba(60, 64, 67, 0.15);\n",
              "      fill: #174EA6;\n",
              "    }\n",
              "\n",
              "    [theme=dark] .colab-df-convert {\n",
              "      background-color: #3B4455;\n",
              "      fill: #D2E3FC;\n",
              "    }\n",
              "\n",
              "    [theme=dark] .colab-df-convert:hover {\n",
              "      background-color: #434B5C;\n",
              "      box-shadow: 0px 1px 3px 1px rgba(0, 0, 0, 0.15);\n",
              "      filter: drop-shadow(0px 1px 2px rgba(0, 0, 0, 0.3));\n",
              "      fill: #FFFFFF;\n",
              "    }\n",
              "  </style>\n",
              "\n",
              "      <script>\n",
              "        const buttonEl =\n",
              "          document.querySelector('#df-cf0743d6-9cdb-4fe5-99f9-41585a333b8c button.colab-df-convert');\n",
              "        buttonEl.style.display =\n",
              "          google.colab.kernel.accessAllowed ? 'block' : 'none';\n",
              "\n",
              "        async function convertToInteractive(key) {\n",
              "          const element = document.querySelector('#df-cf0743d6-9cdb-4fe5-99f9-41585a333b8c');\n",
              "          const dataTable =\n",
              "            await google.colab.kernel.invokeFunction('convertToInteractive',\n",
              "                                                     [key], {});\n",
              "          if (!dataTable) return;\n",
              "\n",
              "          const docLinkHtml = 'Like what you see? Visit the ' +\n",
              "            '<a target=\"_blank\" href=https://colab.research.google.com/notebooks/data_table.ipynb>data table notebook</a>'\n",
              "            + ' to learn more about interactive tables.';\n",
              "          element.innerHTML = '';\n",
              "          dataTable['output_type'] = 'display_data';\n",
              "          await google.colab.output.renderOutput(dataTable, element);\n",
              "          const docLink = document.createElement('div');\n",
              "          docLink.innerHTML = docLinkHtml;\n",
              "          element.appendChild(docLink);\n",
              "        }\n",
              "      </script>\n",
              "    </div>\n",
              "  </div>\n",
              "  "
            ],
            "text/plain": [
              "                                               filepath symbol       date\n",
              "0     /content/drive/MyDrive/data/crypto/historical/...    XRP 2021-09-20\n",
              "1     /content/drive/MyDrive/data/crypto/historical/...    XRP 2021-09-13\n",
              "2     /content/drive/MyDrive/data/crypto/historical/...    XRP 2021-09-14\n",
              "3     /content/drive/MyDrive/data/crypto/historical/...    XRP 2021-09-06\n",
              "4     /content/drive/MyDrive/data/crypto/historical/...    XRP 2021-09-12\n",
              "...                                                 ...    ...        ...\n",
              "1824  /content/drive/MyDrive/data/crypto/historical/...    ETH 2021-06-08\n",
              "1825  /content/drive/MyDrive/data/crypto/historical/...    ETH 2021-06-03\n",
              "1826  /content/drive/MyDrive/data/crypto/historical/...    ETH 2021-06-11\n",
              "1827  /content/drive/MyDrive/data/crypto/historical/...    ETH 2021-06-16\n",
              "1828  /content/drive/MyDrive/data/crypto/historical/...    ETH 2021-06-10\n",
              "\n",
              "[1095 rows x 3 columns]"
            ]
          },
          "metadata": {},
          "execution_count": 18
        }
      ]
    },
    {
      "cell_type": "code",
      "source": [
        "from fastprogress import progress_bar as pb"
      ],
      "metadata": {
        "id": "t0JbzO4TMhEO"
      },
      "execution_count": 27,
      "outputs": []
    },
    {
      "cell_type": "code",
      "source": [
        "df_btc = pd.concat([pd.read_csv(f) for f in pb(df_files[df_files['symbol'] == 'BTC']['filepath'])])"
      ],
      "metadata": {
        "colab": {
          "base_uri": "https://localhost:8080/",
          "height": 37
        },
        "id": "-E1A6SLALchm",
        "outputId": "e8c190a0-1d2e-4d9b-fe59-c5ba38501a98"
      },
      "execution_count": 63,
      "outputs": [
        {
          "output_type": "display_data",
          "data": {
            "text/html": [
              "\n",
              "    <div>\n",
              "        <style>\n",
              "            /* Turns off some styling */\n",
              "            progress {\n",
              "                /* gets rid of default border in Firefox and Opera. */\n",
              "                border: none;\n",
              "                /* Needs to be in here for Safari polyfill so background images work as expected. */\n",
              "                background-size: auto;\n",
              "            }\n",
              "            .progress-bar-interrupted, .progress-bar-interrupted::-webkit-progress-bar {\n",
              "                background: #F44336;\n",
              "            }\n",
              "        </style>\n",
              "      <progress value='732' class='' max='732' style='width:300px; height:20px; vertical-align: middle;'></progress>\n",
              "      100.00% [732/732 00:11<00:00]\n",
              "    </div>\n",
              "    "
            ],
            "text/plain": [
              "<IPython.core.display.HTML object>"
            ]
          },
          "metadata": {}
        }
      ]
    },
    {
      "cell_type": "code",
      "source": [
        "df_btc['timestamp'] = pd.to_datetime(df_btc['timestamp'])\n",
        "\n",
        "df_btc_buy = df_btc[df_btc['side']=='BUY']\n",
        "df_btc_sell = df_btc[df_btc['side']=='SELL']\n",
        "\n",
        "df_btc_buy.drop_duplicates('timestamp', inplace=True)\n",
        "df_btc_sell.drop_duplicates('timestamp', inplace=True)"
      ],
      "metadata": {
        "colab": {
          "base_uri": "https://localhost:8080/"
        },
        "id": "O2Z0olSHNDKr",
        "outputId": "4fa62179-a2ec-4a50-b977-3ae98de1d876"
      },
      "execution_count": 64,
      "outputs": [
        {
          "output_type": "stream",
          "name": "stderr",
          "text": [
            "/usr/local/lib/python3.7/dist-packages/ipykernel_launcher.py:6: SettingWithCopyWarning: \n",
            "A value is trying to be set on a copy of a slice from a DataFrame\n",
            "\n",
            "See the caveats in the documentation: https://pandas.pydata.org/pandas-docs/stable/user_guide/indexing.html#returning-a-view-versus-a-copy\n",
            "  \n",
            "/usr/local/lib/python3.7/dist-packages/ipykernel_launcher.py:7: SettingWithCopyWarning: \n",
            "A value is trying to be set on a copy of a slice from a DataFrame\n",
            "\n",
            "See the caveats in the documentation: https://pandas.pydata.org/pandas-docs/stable/user_guide/indexing.html#returning-a-view-versus-a-copy\n",
            "  import sys\n"
          ]
        }
      ]
    },
    {
      "cell_type": "code",
      "source": [
        "df_btc_buy.set_index('timestamp', inplace=True)\n",
        "df_btc_buy.sort_index(inplace=True)\n",
        "\n",
        "df_btc_sell.set_index('timestamp', inplace=True)\n",
        "df_btc_sell.sort_index(inplace=True)"
      ],
      "metadata": {
        "id": "LocpxAZHR-86"
      },
      "execution_count": 65,
      "outputs": []
    },
    {
      "cell_type": "code",
      "source": [
        "df_btc_buy"
      ],
      "metadata": {
        "colab": {
          "base_uri": "https://localhost:8080/",
          "height": 455
        },
        "id": "Z_vdBrS_So0w",
        "outputId": "80f41882-2c45-4ad7-99bf-7a4bb119ecd0"
      },
      "execution_count": 66,
      "outputs": [
        {
          "output_type": "execute_result",
          "data": {
            "text/html": [
              "\n",
              "  <div id=\"df-ab4e4dad-af6c-465a-be57-aacb7b820741\">\n",
              "    <div class=\"colab-df-container\">\n",
              "      <div>\n",
              "<style scoped>\n",
              "    .dataframe tbody tr th:only-of-type {\n",
              "        vertical-align: middle;\n",
              "    }\n",
              "\n",
              "    .dataframe tbody tr th {\n",
              "        vertical-align: top;\n",
              "    }\n",
              "\n",
              "    .dataframe thead th {\n",
              "        text-align: right;\n",
              "    }\n",
              "</style>\n",
              "<table border=\"1\" class=\"dataframe\">\n",
              "  <thead>\n",
              "    <tr style=\"text-align: right;\">\n",
              "      <th></th>\n",
              "      <th>symbol</th>\n",
              "      <th>side</th>\n",
              "      <th>size</th>\n",
              "      <th>price</th>\n",
              "    </tr>\n",
              "    <tr>\n",
              "      <th>timestamp</th>\n",
              "      <th></th>\n",
              "      <th></th>\n",
              "      <th></th>\n",
              "      <th></th>\n",
              "    </tr>\n",
              "  </thead>\n",
              "  <tbody>\n",
              "    <tr>\n",
              "      <th>2019-12-31 21:02:19.817</th>\n",
              "      <td>BTC</td>\n",
              "      <td>BUY</td>\n",
              "      <td>0.0019</td>\n",
              "      <td>777080.0</td>\n",
              "    </tr>\n",
              "    <tr>\n",
              "      <th>2019-12-31 21:04:02.269</th>\n",
              "      <td>BTC</td>\n",
              "      <td>BUY</td>\n",
              "      <td>0.0010</td>\n",
              "      <td>776970.0</td>\n",
              "    </tr>\n",
              "    <tr>\n",
              "      <th>2019-12-31 21:08:23.366</th>\n",
              "      <td>BTC</td>\n",
              "      <td>BUY</td>\n",
              "      <td>0.0010</td>\n",
              "      <td>776990.0</td>\n",
              "    </tr>\n",
              "    <tr>\n",
              "      <th>2019-12-31 21:10:04.741</th>\n",
              "      <td>BTC</td>\n",
              "      <td>BUY</td>\n",
              "      <td>0.0019</td>\n",
              "      <td>777810.0</td>\n",
              "    </tr>\n",
              "    <tr>\n",
              "      <th>2019-12-31 21:11:46.817</th>\n",
              "      <td>BTC</td>\n",
              "      <td>BUY</td>\n",
              "      <td>0.0010</td>\n",
              "      <td>777660.0</td>\n",
              "    </tr>\n",
              "    <tr>\n",
              "      <th>...</th>\n",
              "      <td>...</td>\n",
              "      <td>...</td>\n",
              "      <td>...</td>\n",
              "      <td>...</td>\n",
              "    </tr>\n",
              "    <tr>\n",
              "      <th>2022-01-01 20:33:53.291</th>\n",
              "      <td>BTC</td>\n",
              "      <td>BUY</td>\n",
              "      <td>0.0001</td>\n",
              "      <td>5471524.0</td>\n",
              "    </tr>\n",
              "    <tr>\n",
              "      <th>2022-01-01 20:34:39.071</th>\n",
              "      <td>BTC</td>\n",
              "      <td>BUY</td>\n",
              "      <td>0.0001</td>\n",
              "      <td>5471495.0</td>\n",
              "    </tr>\n",
              "    <tr>\n",
              "      <th>2022-01-01 20:37:46.178</th>\n",
              "      <td>BTC</td>\n",
              "      <td>BUY</td>\n",
              "      <td>0.0001</td>\n",
              "      <td>5469121.0</td>\n",
              "    </tr>\n",
              "    <tr>\n",
              "      <th>2022-01-01 20:47:01.073</th>\n",
              "      <td>BTC</td>\n",
              "      <td>BUY</td>\n",
              "      <td>0.0074</td>\n",
              "      <td>5460925.0</td>\n",
              "    </tr>\n",
              "    <tr>\n",
              "      <th>2022-01-01 20:57:56.305</th>\n",
              "      <td>BTC</td>\n",
              "      <td>BUY</td>\n",
              "      <td>0.0001</td>\n",
              "      <td>5460000.0</td>\n",
              "    </tr>\n",
              "  </tbody>\n",
              "</table>\n",
              "<p>2144580 rows × 4 columns</p>\n",
              "</div>\n",
              "      <button class=\"colab-df-convert\" onclick=\"convertToInteractive('df-ab4e4dad-af6c-465a-be57-aacb7b820741')\"\n",
              "              title=\"Convert this dataframe to an interactive table.\"\n",
              "              style=\"display:none;\">\n",
              "        \n",
              "  <svg xmlns=\"http://www.w3.org/2000/svg\" height=\"24px\"viewBox=\"0 0 24 24\"\n",
              "       width=\"24px\">\n",
              "    <path d=\"M0 0h24v24H0V0z\" fill=\"none\"/>\n",
              "    <path d=\"M18.56 5.44l.94 2.06.94-2.06 2.06-.94-2.06-.94-.94-2.06-.94 2.06-2.06.94zm-11 1L8.5 8.5l.94-2.06 2.06-.94-2.06-.94L8.5 2.5l-.94 2.06-2.06.94zm10 10l.94 2.06.94-2.06 2.06-.94-2.06-.94-.94-2.06-.94 2.06-2.06.94z\"/><path d=\"M17.41 7.96l-1.37-1.37c-.4-.4-.92-.59-1.43-.59-.52 0-1.04.2-1.43.59L10.3 9.45l-7.72 7.72c-.78.78-.78 2.05 0 2.83L4 21.41c.39.39.9.59 1.41.59.51 0 1.02-.2 1.41-.59l7.78-7.78 2.81-2.81c.8-.78.8-2.07 0-2.86zM5.41 20L4 18.59l7.72-7.72 1.47 1.35L5.41 20z\"/>\n",
              "  </svg>\n",
              "      </button>\n",
              "      \n",
              "  <style>\n",
              "    .colab-df-container {\n",
              "      display:flex;\n",
              "      flex-wrap:wrap;\n",
              "      gap: 12px;\n",
              "    }\n",
              "\n",
              "    .colab-df-convert {\n",
              "      background-color: #E8F0FE;\n",
              "      border: none;\n",
              "      border-radius: 50%;\n",
              "      cursor: pointer;\n",
              "      display: none;\n",
              "      fill: #1967D2;\n",
              "      height: 32px;\n",
              "      padding: 0 0 0 0;\n",
              "      width: 32px;\n",
              "    }\n",
              "\n",
              "    .colab-df-convert:hover {\n",
              "      background-color: #E2EBFA;\n",
              "      box-shadow: 0px 1px 2px rgba(60, 64, 67, 0.3), 0px 1px 3px 1px rgba(60, 64, 67, 0.15);\n",
              "      fill: #174EA6;\n",
              "    }\n",
              "\n",
              "    [theme=dark] .colab-df-convert {\n",
              "      background-color: #3B4455;\n",
              "      fill: #D2E3FC;\n",
              "    }\n",
              "\n",
              "    [theme=dark] .colab-df-convert:hover {\n",
              "      background-color: #434B5C;\n",
              "      box-shadow: 0px 1px 3px 1px rgba(0, 0, 0, 0.15);\n",
              "      filter: drop-shadow(0px 1px 2px rgba(0, 0, 0, 0.3));\n",
              "      fill: #FFFFFF;\n",
              "    }\n",
              "  </style>\n",
              "\n",
              "      <script>\n",
              "        const buttonEl =\n",
              "          document.querySelector('#df-ab4e4dad-af6c-465a-be57-aacb7b820741 button.colab-df-convert');\n",
              "        buttonEl.style.display =\n",
              "          google.colab.kernel.accessAllowed ? 'block' : 'none';\n",
              "\n",
              "        async function convertToInteractive(key) {\n",
              "          const element = document.querySelector('#df-ab4e4dad-af6c-465a-be57-aacb7b820741');\n",
              "          const dataTable =\n",
              "            await google.colab.kernel.invokeFunction('convertToInteractive',\n",
              "                                                     [key], {});\n",
              "          if (!dataTable) return;\n",
              "\n",
              "          const docLinkHtml = 'Like what you see? Visit the ' +\n",
              "            '<a target=\"_blank\" href=https://colab.research.google.com/notebooks/data_table.ipynb>data table notebook</a>'\n",
              "            + ' to learn more about interactive tables.';\n",
              "          element.innerHTML = '';\n",
              "          dataTable['output_type'] = 'display_data';\n",
              "          await google.colab.output.renderOutput(dataTable, element);\n",
              "          const docLink = document.createElement('div');\n",
              "          docLink.innerHTML = docLinkHtml;\n",
              "          element.appendChild(docLink);\n",
              "        }\n",
              "      </script>\n",
              "    </div>\n",
              "  </div>\n",
              "  "
            ],
            "text/plain": [
              "                        symbol side    size      price\n",
              "timestamp                                             \n",
              "2019-12-31 21:02:19.817    BTC  BUY  0.0019   777080.0\n",
              "2019-12-31 21:04:02.269    BTC  BUY  0.0010   776970.0\n",
              "2019-12-31 21:08:23.366    BTC  BUY  0.0010   776990.0\n",
              "2019-12-31 21:10:04.741    BTC  BUY  0.0019   777810.0\n",
              "2019-12-31 21:11:46.817    BTC  BUY  0.0010   777660.0\n",
              "...                        ...  ...     ...        ...\n",
              "2022-01-01 20:33:53.291    BTC  BUY  0.0001  5471524.0\n",
              "2022-01-01 20:34:39.071    BTC  BUY  0.0001  5471495.0\n",
              "2022-01-01 20:37:46.178    BTC  BUY  0.0001  5469121.0\n",
              "2022-01-01 20:47:01.073    BTC  BUY  0.0074  5460925.0\n",
              "2022-01-01 20:57:56.305    BTC  BUY  0.0001  5460000.0\n",
              "\n",
              "[2144580 rows x 4 columns]"
            ]
          },
          "metadata": {},
          "execution_count": 66
        }
      ]
    },
    {
      "cell_type": "code",
      "source": [
        "df_btc_sell"
      ],
      "metadata": {
        "colab": {
          "base_uri": "https://localhost:8080/",
          "height": 455
        },
        "id": "3hdIgNljSsms",
        "outputId": "b516c5f0-4e66-4bc2-83c4-b386b9307f87"
      },
      "execution_count": 67,
      "outputs": [
        {
          "output_type": "execute_result",
          "data": {
            "text/html": [
              "\n",
              "  <div id=\"df-fdbd66c7-674c-45a6-9a0d-cfd62ade8b24\">\n",
              "    <div class=\"colab-df-container\">\n",
              "      <div>\n",
              "<style scoped>\n",
              "    .dataframe tbody tr th:only-of-type {\n",
              "        vertical-align: middle;\n",
              "    }\n",
              "\n",
              "    .dataframe tbody tr th {\n",
              "        vertical-align: top;\n",
              "    }\n",
              "\n",
              "    .dataframe thead th {\n",
              "        text-align: right;\n",
              "    }\n",
              "</style>\n",
              "<table border=\"1\" class=\"dataframe\">\n",
              "  <thead>\n",
              "    <tr style=\"text-align: right;\">\n",
              "      <th></th>\n",
              "      <th>symbol</th>\n",
              "      <th>side</th>\n",
              "      <th>size</th>\n",
              "      <th>price</th>\n",
              "    </tr>\n",
              "    <tr>\n",
              "      <th>timestamp</th>\n",
              "      <th></th>\n",
              "      <th></th>\n",
              "      <th></th>\n",
              "      <th></th>\n",
              "    </tr>\n",
              "  </thead>\n",
              "  <tbody>\n",
              "    <tr>\n",
              "      <th>2019-12-31 21:15:48.813</th>\n",
              "      <td>BTC</td>\n",
              "      <td>SELL</td>\n",
              "      <td>0.0120</td>\n",
              "      <td>777556.0</td>\n",
              "    </tr>\n",
              "    <tr>\n",
              "      <th>2019-12-31 21:33:08.814</th>\n",
              "      <td>BTC</td>\n",
              "      <td>SELL</td>\n",
              "      <td>0.0310</td>\n",
              "      <td>777861.0</td>\n",
              "    </tr>\n",
              "    <tr>\n",
              "      <th>2019-12-31 21:42:40.183</th>\n",
              "      <td>BTC</td>\n",
              "      <td>SELL</td>\n",
              "      <td>0.1000</td>\n",
              "      <td>777430.0</td>\n",
              "    </tr>\n",
              "    <tr>\n",
              "      <th>2019-12-31 21:45:49.983</th>\n",
              "      <td>BTC</td>\n",
              "      <td>SELL</td>\n",
              "      <td>0.3000</td>\n",
              "      <td>777520.0</td>\n",
              "    </tr>\n",
              "    <tr>\n",
              "      <th>2019-12-31 21:55:23.220</th>\n",
              "      <td>BTC</td>\n",
              "      <td>SELL</td>\n",
              "      <td>1.0000</td>\n",
              "      <td>778140.0</td>\n",
              "    </tr>\n",
              "    <tr>\n",
              "      <th>...</th>\n",
              "      <td>...</td>\n",
              "      <td>...</td>\n",
              "      <td>...</td>\n",
              "      <td>...</td>\n",
              "    </tr>\n",
              "    <tr>\n",
              "      <th>2022-01-01 20:37:47.139</th>\n",
              "      <td>BTC</td>\n",
              "      <td>SELL</td>\n",
              "      <td>0.0098</td>\n",
              "      <td>5469120.0</td>\n",
              "    </tr>\n",
              "    <tr>\n",
              "      <th>2022-01-01 20:41:38.478</th>\n",
              "      <td>BTC</td>\n",
              "      <td>SELL</td>\n",
              "      <td>0.0100</td>\n",
              "      <td>5462800.0</td>\n",
              "    </tr>\n",
              "    <tr>\n",
              "      <th>2022-01-01 20:43:02.675</th>\n",
              "      <td>BTC</td>\n",
              "      <td>SELL</td>\n",
              "      <td>0.0100</td>\n",
              "      <td>5462800.0</td>\n",
              "    </tr>\n",
              "    <tr>\n",
              "      <th>2022-01-01 20:50:11.261</th>\n",
              "      <td>BTC</td>\n",
              "      <td>SELL</td>\n",
              "      <td>0.0005</td>\n",
              "      <td>5460000.0</td>\n",
              "    </tr>\n",
              "    <tr>\n",
              "      <th>2022-01-01 20:50:14.580</th>\n",
              "      <td>BTC</td>\n",
              "      <td>SELL</td>\n",
              "      <td>0.1405</td>\n",
              "      <td>5460000.0</td>\n",
              "    </tr>\n",
              "  </tbody>\n",
              "</table>\n",
              "<p>1438960 rows × 4 columns</p>\n",
              "</div>\n",
              "      <button class=\"colab-df-convert\" onclick=\"convertToInteractive('df-fdbd66c7-674c-45a6-9a0d-cfd62ade8b24')\"\n",
              "              title=\"Convert this dataframe to an interactive table.\"\n",
              "              style=\"display:none;\">\n",
              "        \n",
              "  <svg xmlns=\"http://www.w3.org/2000/svg\" height=\"24px\"viewBox=\"0 0 24 24\"\n",
              "       width=\"24px\">\n",
              "    <path d=\"M0 0h24v24H0V0z\" fill=\"none\"/>\n",
              "    <path d=\"M18.56 5.44l.94 2.06.94-2.06 2.06-.94-2.06-.94-.94-2.06-.94 2.06-2.06.94zm-11 1L8.5 8.5l.94-2.06 2.06-.94-2.06-.94L8.5 2.5l-.94 2.06-2.06.94zm10 10l.94 2.06.94-2.06 2.06-.94-2.06-.94-.94-2.06-.94 2.06-2.06.94z\"/><path d=\"M17.41 7.96l-1.37-1.37c-.4-.4-.92-.59-1.43-.59-.52 0-1.04.2-1.43.59L10.3 9.45l-7.72 7.72c-.78.78-.78 2.05 0 2.83L4 21.41c.39.39.9.59 1.41.59.51 0 1.02-.2 1.41-.59l7.78-7.78 2.81-2.81c.8-.78.8-2.07 0-2.86zM5.41 20L4 18.59l7.72-7.72 1.47 1.35L5.41 20z\"/>\n",
              "  </svg>\n",
              "      </button>\n",
              "      \n",
              "  <style>\n",
              "    .colab-df-container {\n",
              "      display:flex;\n",
              "      flex-wrap:wrap;\n",
              "      gap: 12px;\n",
              "    }\n",
              "\n",
              "    .colab-df-convert {\n",
              "      background-color: #E8F0FE;\n",
              "      border: none;\n",
              "      border-radius: 50%;\n",
              "      cursor: pointer;\n",
              "      display: none;\n",
              "      fill: #1967D2;\n",
              "      height: 32px;\n",
              "      padding: 0 0 0 0;\n",
              "      width: 32px;\n",
              "    }\n",
              "\n",
              "    .colab-df-convert:hover {\n",
              "      background-color: #E2EBFA;\n",
              "      box-shadow: 0px 1px 2px rgba(60, 64, 67, 0.3), 0px 1px 3px 1px rgba(60, 64, 67, 0.15);\n",
              "      fill: #174EA6;\n",
              "    }\n",
              "\n",
              "    [theme=dark] .colab-df-convert {\n",
              "      background-color: #3B4455;\n",
              "      fill: #D2E3FC;\n",
              "    }\n",
              "\n",
              "    [theme=dark] .colab-df-convert:hover {\n",
              "      background-color: #434B5C;\n",
              "      box-shadow: 0px 1px 3px 1px rgba(0, 0, 0, 0.15);\n",
              "      filter: drop-shadow(0px 1px 2px rgba(0, 0, 0, 0.3));\n",
              "      fill: #FFFFFF;\n",
              "    }\n",
              "  </style>\n",
              "\n",
              "      <script>\n",
              "        const buttonEl =\n",
              "          document.querySelector('#df-fdbd66c7-674c-45a6-9a0d-cfd62ade8b24 button.colab-df-convert');\n",
              "        buttonEl.style.display =\n",
              "          google.colab.kernel.accessAllowed ? 'block' : 'none';\n",
              "\n",
              "        async function convertToInteractive(key) {\n",
              "          const element = document.querySelector('#df-fdbd66c7-674c-45a6-9a0d-cfd62ade8b24');\n",
              "          const dataTable =\n",
              "            await google.colab.kernel.invokeFunction('convertToInteractive',\n",
              "                                                     [key], {});\n",
              "          if (!dataTable) return;\n",
              "\n",
              "          const docLinkHtml = 'Like what you see? Visit the ' +\n",
              "            '<a target=\"_blank\" href=https://colab.research.google.com/notebooks/data_table.ipynb>data table notebook</a>'\n",
              "            + ' to learn more about interactive tables.';\n",
              "          element.innerHTML = '';\n",
              "          dataTable['output_type'] = 'display_data';\n",
              "          await google.colab.output.renderOutput(dataTable, element);\n",
              "          const docLink = document.createElement('div');\n",
              "          docLink.innerHTML = docLinkHtml;\n",
              "          element.appendChild(docLink);\n",
              "        }\n",
              "      </script>\n",
              "    </div>\n",
              "  </div>\n",
              "  "
            ],
            "text/plain": [
              "                        symbol  side    size      price\n",
              "timestamp                                              \n",
              "2019-12-31 21:15:48.813    BTC  SELL  0.0120   777556.0\n",
              "2019-12-31 21:33:08.814    BTC  SELL  0.0310   777861.0\n",
              "2019-12-31 21:42:40.183    BTC  SELL  0.1000   777430.0\n",
              "2019-12-31 21:45:49.983    BTC  SELL  0.3000   777520.0\n",
              "2019-12-31 21:55:23.220    BTC  SELL  1.0000   778140.0\n",
              "...                        ...   ...     ...        ...\n",
              "2022-01-01 20:37:47.139    BTC  SELL  0.0098  5469120.0\n",
              "2022-01-01 20:41:38.478    BTC  SELL  0.0100  5462800.0\n",
              "2022-01-01 20:43:02.675    BTC  SELL  0.0100  5462800.0\n",
              "2022-01-01 20:50:11.261    BTC  SELL  0.0005  5460000.0\n",
              "2022-01-01 20:50:14.580    BTC  SELL  0.1405  5460000.0\n",
              "\n",
              "[1438960 rows x 4 columns]"
            ]
          },
          "metadata": {},
          "execution_count": 67
        }
      ]
    },
    {
      "cell_type": "code",
      "source": [
        "import matplotlib.pyplot as plt"
      ],
      "metadata": {
        "id": "PjMPaLNLM3Yl"
      },
      "execution_count": 32,
      "outputs": []
    },
    {
      "cell_type": "code",
      "source": [
        "# df_btc_buy[['price']].plot(figsize=(20, 6))\n",
        "# df_btc_sell[['price']].plot(figsize=(20, 6))\n",
        "plt.figure(figsize=(20, 6))\n",
        "plt.plot(df_btc_buy['price'], label='buy', alpha=0.6)\n",
        "plt.plot(df_btc_sell['price'], label='sell', alpha=0.6)\n",
        "plt.legend()"
      ],
      "metadata": {
        "colab": {
          "base_uri": "https://localhost:8080/",
          "height": 402
        },
        "id": "CAYZtc3pM8h9",
        "outputId": "1b78941f-3622-4b23-c060-42d390d1ff98"
      },
      "execution_count": 134,
      "outputs": [
        {
          "output_type": "execute_result",
          "data": {
            "text/plain": [
              "<matplotlib.legend.Legend at 0x7fc534b8e310>"
            ]
          },
          "metadata": {},
          "execution_count": 134
        },
        {
          "output_type": "display_data",
          "data": {
            "image/png": "[encoded data removed]",
            "text/plain": [
              "<Figure size 1440x432 with 1 Axes>"
            ]
          },
          "metadata": {
            "needs_background": "light"
          }
        }
      ]
    },
    {
      "cell_type": "code",
      "source": [
        "sr_record_intervals_buy = df_btc_buy.index.to_series().diff().map(lambda x: x.total_seconds())\n",
        "sr_record_intervals_sell = df_btc_sell.index.to_series().diff().map(lambda x: x.total_seconds())"
      ],
      "metadata": {
        "id": "1Yron2HWNAxF"
      },
      "execution_count": 68,
      "outputs": []
    },
    {
      "cell_type": "code",
      "source": [
        "sr_record_intervals_buy.agg(['mean', 'median'])"
      ],
      "metadata": {
        "colab": {
          "base_uri": "https://localhost:8080/"
        },
        "id": "DRWDIcCfQfsj",
        "outputId": "693d21e9-072c-4ac4-d378-bd258a59b638"
      },
      "execution_count": 69,
      "outputs": [
        {
          "output_type": "execute_result",
          "data": {
            "text/plain": [
              "mean      29.49042\n",
              "median     7.36800\n",
              "Name: timestamp, dtype: float64"
            ]
          },
          "metadata": {},
          "execution_count": 69
        }
      ]
    },
    {
      "cell_type": "code",
      "source": [
        "sr_record_intervals_sell.agg(['mean', 'median'])"
      ],
      "metadata": {
        "colab": {
          "base_uri": "https://localhost:8080/"
        },
        "id": "AnIHeYbMTB4r",
        "outputId": "445317a5-cdb3-4d41-a58f-e11946f8225c"
      },
      "execution_count": 72,
      "outputs": [
        {
          "output_type": "execute_result",
          "data": {
            "text/plain": [
              "mean      43.950707\n",
              "median     6.385000\n",
              "Name: timestamp, dtype: float64"
            ]
          },
          "metadata": {},
          "execution_count": 72
        }
      ]
    },
    {
      "cell_type": "code",
      "source": [
        "sr_record_intervals_buy.clip(0, 400).hist(bins=50)"
      ],
      "metadata": {
        "colab": {
          "base_uri": "https://localhost:8080/",
          "height": 293
        },
        "id": "XSRlWnkaN9B8",
        "outputId": "ce624813-3423-4c67-c634-d6e6e193cc58"
      },
      "execution_count": 74,
      "outputs": [
        {
          "output_type": "execute_result",
          "data": {
            "text/plain": [
              "<matplotlib.axes._subplots.AxesSubplot at 0x7fc53a07ad50>"
            ]
          },
          "metadata": {},
          "execution_count": 74
        },
        {
          "output_type": "display_data",
          "data": {
            "image/png": "[encoded data removed]",
            "text/plain": [
              "<Figure size 432x288 with 1 Axes>"
            ]
          },
          "metadata": {
            "needs_background": "light"
          }
        }
      ]
    },
    {
      "cell_type": "code",
      "source": [
        "sr_record_intervals_sell.clip(0, 400).hist(bins=50)"
      ],
      "metadata": {
        "colab": {
          "base_uri": "https://localhost:8080/",
          "height": 282
        },
        "id": "ViVPSVP1Q-mG",
        "outputId": "ae490621-bd10-484e-f8b0-3cbd81716f9f"
      },
      "execution_count": 75,
      "outputs": [
        {
          "output_type": "execute_result",
          "data": {
            "text/plain": [
              "<matplotlib.axes._subplots.AxesSubplot at 0x7fc52f40ff50>"
            ]
          },
          "metadata": {},
          "execution_count": 75
        },
        {
          "output_type": "display_data",
          "data": {
            "image/png": "[encoded data removed]",
            "text/plain": [
              "<Figure size 432x288 with 1 Axes>"
            ]
          },
          "metadata": {
            "needs_background": "light"
          }
        }
      ]
    },
    {
      "cell_type": "code",
      "source": [
        "df_btc_buy.resample('5T').mean()"
      ],
      "metadata": {
        "colab": {
          "base_uri": "https://localhost:8080/",
          "height": 455
        },
        "id": "P2_VfdJOTRPe",
        "outputId": "e2743363-25e3-4f3d-8edf-5fd791d81c6c"
      },
      "execution_count": 85,
      "outputs": [
        {
          "output_type": "execute_result",
          "data": {
            "text/html": [
              "\n",
              "  <div id=\"df-763f5130-deda-49f1-9c47-1a98f3f02929\">\n",
              "    <div class=\"colab-df-container\">\n",
              "      <div>\n",
              "<style scoped>\n",
              "    .dataframe tbody tr th:only-of-type {\n",
              "        vertical-align: middle;\n",
              "    }\n",
              "\n",
              "    .dataframe tbody tr th {\n",
              "        vertical-align: top;\n",
              "    }\n",
              "\n",
              "    .dataframe thead th {\n",
              "        text-align: right;\n",
              "    }\n",
              "</style>\n",
              "<table border=\"1\" class=\"dataframe\">\n",
              "  <thead>\n",
              "    <tr style=\"text-align: right;\">\n",
              "      <th></th>\n",
              "      <th>size</th>\n",
              "      <th>price</th>\n",
              "    </tr>\n",
              "    <tr>\n",
              "      <th>timestamp</th>\n",
              "      <th></th>\n",
              "      <th></th>\n",
              "    </tr>\n",
              "  </thead>\n",
              "  <tbody>\n",
              "    <tr>\n",
              "      <th>2019-12-31 21:00:00</th>\n",
              "      <td>0.001450</td>\n",
              "      <td>777025.0</td>\n",
              "    </tr>\n",
              "    <tr>\n",
              "      <th>2019-12-31 21:05:00</th>\n",
              "      <td>0.001000</td>\n",
              "      <td>776990.0</td>\n",
              "    </tr>\n",
              "    <tr>\n",
              "      <th>2019-12-31 21:10:00</th>\n",
              "      <td>0.001225</td>\n",
              "      <td>777697.5</td>\n",
              "    </tr>\n",
              "    <tr>\n",
              "      <th>2019-12-31 21:15:00</th>\n",
              "      <td>0.003475</td>\n",
              "      <td>777540.0</td>\n",
              "    </tr>\n",
              "    <tr>\n",
              "      <th>2019-12-31 21:20:00</th>\n",
              "      <td>0.001000</td>\n",
              "      <td>777580.0</td>\n",
              "    </tr>\n",
              "    <tr>\n",
              "      <th>...</th>\n",
              "      <td>...</td>\n",
              "      <td>...</td>\n",
              "    </tr>\n",
              "    <tr>\n",
              "      <th>2022-01-01 20:35:00</th>\n",
              "      <td>0.000100</td>\n",
              "      <td>5469121.0</td>\n",
              "    </tr>\n",
              "    <tr>\n",
              "      <th>2022-01-01 20:40:00</th>\n",
              "      <td>NaN</td>\n",
              "      <td>NaN</td>\n",
              "    </tr>\n",
              "    <tr>\n",
              "      <th>2022-01-01 20:45:00</th>\n",
              "      <td>0.007400</td>\n",
              "      <td>5460925.0</td>\n",
              "    </tr>\n",
              "    <tr>\n",
              "      <th>2022-01-01 20:50:00</th>\n",
              "      <td>NaN</td>\n",
              "      <td>NaN</td>\n",
              "    </tr>\n",
              "    <tr>\n",
              "      <th>2022-01-01 20:55:00</th>\n",
              "      <td>0.000100</td>\n",
              "      <td>5460000.0</td>\n",
              "    </tr>\n",
              "  </tbody>\n",
              "</table>\n",
              "<p>210816 rows × 2 columns</p>\n",
              "</div>\n",
              "      <button class=\"colab-df-convert\" onclick=\"convertToInteractive('df-763f5130-deda-49f1-9c47-1a98f3f02929')\"\n",
              "              title=\"Convert this dataframe to an interactive table.\"\n",
              "              style=\"display:none;\">\n",
              "        \n",
              "  <svg xmlns=\"http://www.w3.org/2000/svg\" height=\"24px\"viewBox=\"0 0 24 24\"\n",
              "       width=\"24px\">\n",
              "    <path d=\"M0 0h24v24H0V0z\" fill=\"none\"/>\n",
              "    <path d=\"M18.56 5.44l.94 2.06.94-2.06 2.06-.94-2.06-.94-.94-2.06-.94 2.06-2.06.94zm-11 1L8.5 8.5l.94-2.06 2.06-.94-2.06-.94L8.5 2.5l-.94 2.06-2.06.94zm10 10l.94 2.06.94-2.06 2.06-.94-2.06-.94-.94-2.06-.94 2.06-2.06.94z\"/><path d=\"M17.41 7.96l-1.37-1.37c-.4-.4-.92-.59-1.43-.59-.52 0-1.04.2-1.43.59L10.3 9.45l-7.72 7.72c-.78.78-.78 2.05 0 2.83L4 21.41c.39.39.9.59 1.41.59.51 0 1.02-.2 1.41-.59l7.78-7.78 2.81-2.81c.8-.78.8-2.07 0-2.86zM5.41 20L4 18.59l7.72-7.72 1.47 1.35L5.41 20z\"/>\n",
              "  </svg>\n",
              "      </button>\n",
              "      \n",
              "  <style>\n",
              "    .colab-df-container {\n",
              "      display:flex;\n",
              "      flex-wrap:wrap;\n",
              "      gap: 12px;\n",
              "    }\n",
              "\n",
              "    .colab-df-convert {\n",
              "      background-color: #E8F0FE;\n",
              "      border: none;\n",
              "      border-radius: 50%;\n",
              "      cursor: pointer;\n",
              "      display: none;\n",
              "      fill: #1967D2;\n",
              "      height: 32px;\n",
              "      padding: 0 0 0 0;\n",
              "      width: 32px;\n",
              "    }\n",
              "\n",
              "    .colab-df-convert:hover {\n",
              "      background-color: #E2EBFA;\n",
              "      box-shadow: 0px 1px 2px rgba(60, 64, 67, 0.3), 0px 1px 3px 1px rgba(60, 64, 67, 0.15);\n",
              "      fill: #174EA6;\n",
              "    }\n",
              "\n",
              "    [theme=dark] .colab-df-convert {\n",
              "      background-color: #3B4455;\n",
              "      fill: #D2E3FC;\n",
              "    }\n",
              "\n",
              "    [theme=dark] .colab-df-convert:hover {\n",
              "      background-color: #434B5C;\n",
              "      box-shadow: 0px 1px 3px 1px rgba(0, 0, 0, 0.15);\n",
              "      filter: drop-shadow(0px 1px 2px rgba(0, 0, 0, 0.3));\n",
              "      fill: #FFFFFF;\n",
              "    }\n",
              "  </style>\n",
              "\n",
              "      <script>\n",
              "        const buttonEl =\n",
              "          document.querySelector('#df-763f5130-deda-49f1-9c47-1a98f3f02929 button.colab-df-convert');\n",
              "        buttonEl.style.display =\n",
              "          google.colab.kernel.accessAllowed ? 'block' : 'none';\n",
              "\n",
              "        async function convertToInteractive(key) {\n",
              "          const element = document.querySelector('#df-763f5130-deda-49f1-9c47-1a98f3f02929');\n",
              "          const dataTable =\n",
              "            await google.colab.kernel.invokeFunction('convertToInteractive',\n",
              "                                                     [key], {});\n",
              "          if (!dataTable) return;\n",
              "\n",
              "          const docLinkHtml = 'Like what you see? Visit the ' +\n",
              "            '<a target=\"_blank\" href=https://colab.research.google.com/notebooks/data_table.ipynb>data table notebook</a>'\n",
              "            + ' to learn more about interactive tables.';\n",
              "          element.innerHTML = '';\n",
              "          dataTable['output_type'] = 'display_data';\n",
              "          await google.colab.output.renderOutput(dataTable, element);\n",
              "          const docLink = document.createElement('div');\n",
              "          docLink.innerHTML = docLinkHtml;\n",
              "          element.appendChild(docLink);\n",
              "        }\n",
              "      </script>\n",
              "    </div>\n",
              "  </div>\n",
              "  "
            ],
            "text/plain": [
              "                         size      price\n",
              "timestamp                               \n",
              "2019-12-31 21:00:00  0.001450   777025.0\n",
              "2019-12-31 21:05:00  0.001000   776990.0\n",
              "2019-12-31 21:10:00  0.001225   777697.5\n",
              "2019-12-31 21:15:00  0.003475   777540.0\n",
              "2019-12-31 21:20:00  0.001000   777580.0\n",
              "...                       ...        ...\n",
              "2022-01-01 20:35:00  0.000100  5469121.0\n",
              "2022-01-01 20:40:00       NaN        NaN\n",
              "2022-01-01 20:45:00  0.007400  5460925.0\n",
              "2022-01-01 20:50:00       NaN        NaN\n",
              "2022-01-01 20:55:00  0.000100  5460000.0\n",
              "\n",
              "[210816 rows x 2 columns]"
            ]
          },
          "metadata": {},
          "execution_count": 85
        }
      ]
    },
    {
      "cell_type": "code",
      "source": [
        "# 5分間隔でリサンプルした場合に間に1つもデータが存在しない区間数\n",
        "df_btc_buy.resample('5T').mean().isnull().sum()"
      ],
      "metadata": {
        "colab": {
          "base_uri": "https://localhost:8080/"
        },
        "id": "-F8wTpiDTmbW",
        "outputId": "41ead7a4-5498-4743-d010-8cb4167540f4"
      },
      "execution_count": 88,
      "outputs": [
        {
          "output_type": "execute_result",
          "data": {
            "text/plain": [
              "size     16606\n",
              "price    16606\n",
              "dtype: int64"
            ]
          },
          "metadata": {},
          "execution_count": 88
        }
      ]
    },
    {
      "cell_type": "code",
      "source": [
        "# 5分間隔でリサンプル->線形補間\n",
        "df_btc_buy_resample = df_btc_buy.resample('5T').mean().interpolate()\n",
        "df_btc_sell_resample = df_btc_sell.resample('5T').mean().interpolate()"
      ],
      "metadata": {
        "id": "DShor2G1U-VH"
      },
      "execution_count": 94,
      "outputs": []
    },
    {
      "cell_type": "markdown",
      "source": [
        "### スプレッド"
      ],
      "metadata": {
        "id": "-CGlsLkzVqUc"
      }
    },
    {
      "cell_type": "code",
      "source": [
        "(df_btc_buy_resample['price'] - df_btc_sell_resample['price']).plot(figsize=(20, 6))"
      ],
      "metadata": {
        "colab": {
          "base_uri": "https://localhost:8080/",
          "height": 411
        },
        "id": "VkafyCZ4VVif",
        "outputId": "72af4da5-2fcf-46f0-f263-ca7163458e29"
      },
      "execution_count": 96,
      "outputs": [
        {
          "output_type": "execute_result",
          "data": {
            "text/plain": [
              "<matplotlib.axes._subplots.AxesSubplot at 0x7fc519f0a690>"
            ]
          },
          "metadata": {},
          "execution_count": 96
        },
        {
          "output_type": "display_data",
          "data": {
            "image/png": "[encoded data removed]",
            "text/plain": [
              "<Figure size 1440x432 with 1 Axes>"
            ]
          },
          "metadata": {
            "needs_background": "light"
          }
        }
      ]
    },
    {
      "cell_type": "code",
      "source": [
        "(df_btc_buy_resample['price'] - df_btc_sell_resample['price']).plot(figsize=(20, 6))\n",
        "plt.ylim(-10000, 0)"
      ],
      "metadata": {
        "colab": {
          "base_uri": "https://localhost:8080/",
          "height": 417
        },
        "id": "8iVkHEG4XmPr",
        "outputId": "fdfedf6e-00ec-4d72-c23e-3f21812c2bbc"
      },
      "execution_count": 101,
      "outputs": [
        {
          "output_type": "execute_result",
          "data": {
            "text/plain": [
              "(-10000.0, 0.0)"
            ]
          },
          "metadata": {},
          "execution_count": 101
        },
        {
          "output_type": "display_data",
          "data": {
            "image/png": "[encoded data removed]",
            "text/plain": [
              "<Figure size 1440x432 with 1 Axes>"
            ]
          },
          "metadata": {
            "needs_background": "light"
          }
        }
      ]
    },
    {
      "cell_type": "code",
      "source": [
        "(df_btc_buy_resample['price'] - df_btc_sell_resample['price']).clip(-10000, 10000).hist(bins=50)"
      ],
      "metadata": {
        "colab": {
          "base_uri": "https://localhost:8080/",
          "height": 282
        },
        "id": "znIyG8a-VgTe",
        "outputId": "9ad098b2-3d12-4457-d313-0881addac8a0"
      },
      "execution_count": 99,
      "outputs": [
        {
          "output_type": "execute_result",
          "data": {
            "text/plain": [
              "<matplotlib.axes._subplots.AxesSubplot at 0x7fc537a12250>"
            ]
          },
          "metadata": {},
          "execution_count": 99
        },
        {
          "output_type": "display_data",
          "data": {
            "image/png": "[encoded data removed]",
            "text/plain": [
              "<Figure size 432x288 with 1 Axes>"
            ]
          },
          "metadata": {
            "needs_background": "light"
          }
        }
      ]
    },
    {
      "cell_type": "code",
      "source": [
        "1/ 2"
      ],
      "metadata": {
        "colab": {
          "base_uri": "https://localhost:8080/"
        },
        "id": "u8msKsKLkkvo",
        "outputId": "bd4a9e20-0364-40e6-eea5-18a90aab66c6"
      },
      "execution_count": 135,
      "outputs": [
        {
          "output_type": "execute_result",
          "data": {
            "text/plain": [
              "0.5"
            ]
          },
          "metadata": {},
          "execution_count": 135
        }
      ]
    },
    {
      "cell_type": "code",
      "source": [
        "def calc_target_returns(df_buy, df_sell, hours = [1, 3, 6, 12, 18, 24, 24*2, 24*3, 24*5, 24*7, 24*30, 24*60, 24*90]):\n",
        "    df = df_buy.join(df_sell, how='inner', lsuffix='_buy', rsuffix='_sell')\n",
        "    df_return = pd.DataFrame(index=df.index)\n",
        "    for hour in hours:\n",
        "        # hour後のprice(sell)を現在のprice(buy)で割った値をリターンとして計算。5分間隔データなので1時間当たり12個シフト\n",
        "        df_return[f'return_{hour}h'] = df.shift(-12*hour)['price_sell'] / df['price_buy']\n",
        "    return df_return"
      ],
      "metadata": {
        "id": "0KeR42GRVuJX"
      },
      "execution_count": 136,
      "outputs": []
    },
    {
      "cell_type": "code",
      "source": [
        "df_return = calc_target_returns(df_btc_buy_resample, df_btc_sell_resample)"
      ],
      "metadata": {
        "id": "Cn3r2wYYYvZO"
      },
      "execution_count": 137,
      "outputs": []
    },
    {
      "cell_type": "code",
      "source": [
        "df_return"
      ],
      "metadata": {
        "colab": {
          "base_uri": "https://localhost:8080/",
          "height": 866
        },
        "id": "Q92c68SmbQJp",
        "outputId": "ae70339b-fd71-497a-e0b0-97899f64501f"
      },
      "execution_count": 138,
      "outputs": [
        {
          "output_type": "execute_result",
          "data": {
            "text/html": [
              "\n",
              "  <div id=\"df-8ff72384-e1f8-45ed-b330-c48877c4a67f\">\n",
              "    <div class=\"colab-df-container\">\n",
              "      <div>\n",
              "<style scoped>\n",
              "    .dataframe tbody tr th:only-of-type {\n",
              "        vertical-align: middle;\n",
              "    }\n",
              "\n",
              "    .dataframe tbody tr th {\n",
              "        vertical-align: top;\n",
              "    }\n",
              "\n",
              "    .dataframe thead th {\n",
              "        text-align: right;\n",
              "    }\n",
              "</style>\n",
              "<table border=\"1\" class=\"dataframe\">\n",
              "  <thead>\n",
              "    <tr style=\"text-align: right;\">\n",
              "      <th></th>\n",
              "      <th>return_1h</th>\n",
              "      <th>return_3h</th>\n",
              "      <th>return_6h</th>\n",
              "      <th>return_12h</th>\n",
              "      <th>return_18h</th>\n",
              "      <th>return_24h</th>\n",
              "      <th>return_48h</th>\n",
              "      <th>return_72h</th>\n",
              "      <th>return_120h</th>\n",
              "      <th>return_168h</th>\n",
              "      <th>return_720h</th>\n",
              "      <th>return_1440h</th>\n",
              "      <th>return_2160h</th>\n",
              "    </tr>\n",
              "    <tr>\n",
              "      <th>timestamp</th>\n",
              "      <th></th>\n",
              "      <th></th>\n",
              "      <th></th>\n",
              "      <th></th>\n",
              "      <th></th>\n",
              "      <th></th>\n",
              "      <th></th>\n",
              "      <th></th>\n",
              "      <th></th>\n",
              "      <th></th>\n",
              "      <th></th>\n",
              "      <th></th>\n",
              "      <th></th>\n",
              "    </tr>\n",
              "  </thead>\n",
              "  <tbody>\n",
              "    <tr>\n",
              "      <th>2019-12-31 21:15:00</th>\n",
              "      <td>1.000916</td>\n",
              "      <td>1.000649</td>\n",
              "      <td>1.006713</td>\n",
              "      <td>1.002986</td>\n",
              "      <td>1.007373</td>\n",
              "      <td>1.008283</td>\n",
              "      <td>0.968452</td>\n",
              "      <td>1.017735</td>\n",
              "      <td>1.029784</td>\n",
              "      <td>1.132307</td>\n",
              "      <td>1.336909</td>\n",
              "      <td>1.201652</td>\n",
              "      <td>0.905107</td>\n",
              "    </tr>\n",
              "    <tr>\n",
              "      <th>2019-12-31 21:20:00</th>\n",
              "      <td>1.000900</td>\n",
              "      <td>1.000561</td>\n",
              "      <td>1.007009</td>\n",
              "      <td>1.003472</td>\n",
              "      <td>1.006925</td>\n",
              "      <td>1.008224</td>\n",
              "      <td>0.968900</td>\n",
              "      <td>1.016635</td>\n",
              "      <td>1.029214</td>\n",
              "      <td>1.130117</td>\n",
              "      <td>1.336218</td>\n",
              "      <td>1.199488</td>\n",
              "      <td>0.904578</td>\n",
              "    </tr>\n",
              "    <tr>\n",
              "      <th>2019-12-31 21:25:00</th>\n",
              "      <td>1.000971</td>\n",
              "      <td>1.000161</td>\n",
              "      <td>1.007203</td>\n",
              "      <td>1.002903</td>\n",
              "      <td>1.006875</td>\n",
              "      <td>1.007851</td>\n",
              "      <td>0.969047</td>\n",
              "      <td>1.015219</td>\n",
              "      <td>1.027670</td>\n",
              "      <td>1.129068</td>\n",
              "      <td>1.335293</td>\n",
              "      <td>1.198884</td>\n",
              "      <td>0.905345</td>\n",
              "    </tr>\n",
              "    <tr>\n",
              "      <th>2019-12-31 21:30:00</th>\n",
              "      <td>1.001404</td>\n",
              "      <td>1.000124</td>\n",
              "      <td>1.007762</td>\n",
              "      <td>1.003104</td>\n",
              "      <td>1.007004</td>\n",
              "      <td>1.007844</td>\n",
              "      <td>0.969545</td>\n",
              "      <td>1.014171</td>\n",
              "      <td>1.026500</td>\n",
              "      <td>1.126282</td>\n",
              "      <td>1.334464</td>\n",
              "      <td>1.199147</td>\n",
              "      <td>0.903535</td>\n",
              "    </tr>\n",
              "    <tr>\n",
              "      <th>2019-12-31 21:35:00</th>\n",
              "      <td>1.001878</td>\n",
              "      <td>1.000129</td>\n",
              "      <td>1.007502</td>\n",
              "      <td>1.003347</td>\n",
              "      <td>1.007482</td>\n",
              "      <td>1.007878</td>\n",
              "      <td>0.970083</td>\n",
              "      <td>1.013165</td>\n",
              "      <td>1.025095</td>\n",
              "      <td>1.125580</td>\n",
              "      <td>1.332712</td>\n",
              "      <td>1.199459</td>\n",
              "      <td>0.903243</td>\n",
              "    </tr>\n",
              "    <tr>\n",
              "      <th>...</th>\n",
              "      <td>...</td>\n",
              "      <td>...</td>\n",
              "      <td>...</td>\n",
              "      <td>...</td>\n",
              "      <td>...</td>\n",
              "      <td>...</td>\n",
              "      <td>...</td>\n",
              "      <td>...</td>\n",
              "      <td>...</td>\n",
              "      <td>...</td>\n",
              "      <td>...</td>\n",
              "      <td>...</td>\n",
              "      <td>...</td>\n",
              "    </tr>\n",
              "    <tr>\n",
              "      <th>2022-01-01 20:30:00</th>\n",
              "      <td>NaN</td>\n",
              "      <td>NaN</td>\n",
              "      <td>NaN</td>\n",
              "      <td>NaN</td>\n",
              "      <td>NaN</td>\n",
              "      <td>NaN</td>\n",
              "      <td>NaN</td>\n",
              "      <td>NaN</td>\n",
              "      <td>NaN</td>\n",
              "      <td>NaN</td>\n",
              "      <td>NaN</td>\n",
              "      <td>NaN</td>\n",
              "      <td>NaN</td>\n",
              "    </tr>\n",
              "    <tr>\n",
              "      <th>2022-01-01 20:35:00</th>\n",
              "      <td>NaN</td>\n",
              "      <td>NaN</td>\n",
              "      <td>NaN</td>\n",
              "      <td>NaN</td>\n",
              "      <td>NaN</td>\n",
              "      <td>NaN</td>\n",
              "      <td>NaN</td>\n",
              "      <td>NaN</td>\n",
              "      <td>NaN</td>\n",
              "      <td>NaN</td>\n",
              "      <td>NaN</td>\n",
              "      <td>NaN</td>\n",
              "      <td>NaN</td>\n",
              "    </tr>\n",
              "    <tr>\n",
              "      <th>2022-01-01 20:40:00</th>\n",
              "      <td>NaN</td>\n",
              "      <td>NaN</td>\n",
              "      <td>NaN</td>\n",
              "      <td>NaN</td>\n",
              "      <td>NaN</td>\n",
              "      <td>NaN</td>\n",
              "      <td>NaN</td>\n",
              "      <td>NaN</td>\n",
              "      <td>NaN</td>\n",
              "      <td>NaN</td>\n",
              "      <td>NaN</td>\n",
              "      <td>NaN</td>\n",
              "      <td>NaN</td>\n",
              "    </tr>\n",
              "    <tr>\n",
              "      <th>2022-01-01 20:45:00</th>\n",
              "      <td>NaN</td>\n",
              "      <td>NaN</td>\n",
              "      <td>NaN</td>\n",
              "      <td>NaN</td>\n",
              "      <td>NaN</td>\n",
              "      <td>NaN</td>\n",
              "      <td>NaN</td>\n",
              "      <td>NaN</td>\n",
              "      <td>NaN</td>\n",
              "      <td>NaN</td>\n",
              "      <td>NaN</td>\n",
              "      <td>NaN</td>\n",
              "      <td>NaN</td>\n",
              "    </tr>\n",
              "    <tr>\n",
              "      <th>2022-01-01 20:50:00</th>\n",
              "      <td>NaN</td>\n",
              "      <td>NaN</td>\n",
              "      <td>NaN</td>\n",
              "      <td>NaN</td>\n",
              "      <td>NaN</td>\n",
              "      <td>NaN</td>\n",
              "      <td>NaN</td>\n",
              "      <td>NaN</td>\n",
              "      <td>NaN</td>\n",
              "      <td>NaN</td>\n",
              "      <td>NaN</td>\n",
              "      <td>NaN</td>\n",
              "      <td>NaN</td>\n",
              "    </tr>\n",
              "  </tbody>\n",
              "</table>\n",
              "<p>210812 rows × 13 columns</p>\n",
              "</div>\n",
              "      <button class=\"colab-df-convert\" onclick=\"convertToInteractive('df-8ff72384-e1f8-45ed-b330-c48877c4a67f')\"\n",
              "              title=\"Convert this dataframe to an interactive table.\"\n",
              "              style=\"display:none;\">\n",
              "        \n",
              "  <svg xmlns=\"http://www.w3.org/2000/svg\" height=\"24px\"viewBox=\"0 0 24 24\"\n",
              "       width=\"24px\">\n",
              "    <path d=\"M0 0h24v24H0V0z\" fill=\"none\"/>\n",
              "    <path d=\"M18.56 5.44l.94 2.06.94-2.06 2.06-.94-2.06-.94-.94-2.06-.94 2.06-2.06.94zm-11 1L8.5 8.5l.94-2.06 2.06-.94-2.06-.94L8.5 2.5l-.94 2.06-2.06.94zm10 10l.94 2.06.94-2.06 2.06-.94-2.06-.94-.94-2.06-.94 2.06-2.06.94z\"/><path d=\"M17.41 7.96l-1.37-1.37c-.4-.4-.92-.59-1.43-.59-.52 0-1.04.2-1.43.59L10.3 9.45l-7.72 7.72c-.78.78-.78 2.05 0 2.83L4 21.41c.39.39.9.59 1.41.59.51 0 1.02-.2 1.41-.59l7.78-7.78 2.81-2.81c.8-.78.8-2.07 0-2.86zM5.41 20L4 18.59l7.72-7.72 1.47 1.35L5.41 20z\"/>\n",
              "  </svg>\n",
              "      </button>\n",
              "      \n",
              "  <style>\n",
              "    .colab-df-container {\n",
              "      display:flex;\n",
              "      flex-wrap:wrap;\n",
              "      gap: 12px;\n",
              "    }\n",
              "\n",
              "    .colab-df-convert {\n",
              "      background-color: #E8F0FE;\n",
              "      border: none;\n",
              "      border-radius: 50%;\n",
              "      cursor: pointer;\n",
              "      display: none;\n",
              "      fill: #1967D2;\n",
              "      height: 32px;\n",
              "      padding: 0 0 0 0;\n",
              "      width: 32px;\n",
              "    }\n",
              "\n",
              "    .colab-df-convert:hover {\n",
              "      background-color: #E2EBFA;\n",
              "      box-shadow: 0px 1px 2px rgba(60, 64, 67, 0.3), 0px 1px 3px 1px rgba(60, 64, 67, 0.15);\n",
              "      fill: #174EA6;\n",
              "    }\n",
              "\n",
              "    [theme=dark] .colab-df-convert {\n",
              "      background-color: #3B4455;\n",
              "      fill: #D2E3FC;\n",
              "    }\n",
              "\n",
              "    [theme=dark] .colab-df-convert:hover {\n",
              "      background-color: #434B5C;\n",
              "      box-shadow: 0px 1px 3px 1px rgba(0, 0, 0, 0.15);\n",
              "      filter: drop-shadow(0px 1px 2px rgba(0, 0, 0, 0.3));\n",
              "      fill: #FFFFFF;\n",
              "    }\n",
              "  </style>\n",
              "\n",
              "      <script>\n",
              "        const buttonEl =\n",
              "          document.querySelector('#df-8ff72384-e1f8-45ed-b330-c48877c4a67f button.colab-df-convert');\n",
              "        buttonEl.style.display =\n",
              "          google.colab.kernel.accessAllowed ? 'block' : 'none';\n",
              "\n",
              "        async function convertToInteractive(key) {\n",
              "          const element = document.querySelector('#df-8ff72384-e1f8-45ed-b330-c48877c4a67f');\n",
              "          const dataTable =\n",
              "            await google.colab.kernel.invokeFunction('convertToInteractive',\n",
              "                                                     [key], {});\n",
              "          if (!dataTable) return;\n",
              "\n",
              "          const docLinkHtml = 'Like what you see? Visit the ' +\n",
              "            '<a target=\"_blank\" href=https://colab.research.google.com/notebooks/data_table.ipynb>data table notebook</a>'\n",
              "            + ' to learn more about interactive tables.';\n",
              "          element.innerHTML = '';\n",
              "          dataTable['output_type'] = 'display_data';\n",
              "          await google.colab.output.renderOutput(dataTable, element);\n",
              "          const docLink = document.createElement('div');\n",
              "          docLink.innerHTML = docLinkHtml;\n",
              "          element.appendChild(docLink);\n",
              "        }\n",
              "      </script>\n",
              "    </div>\n",
              "  </div>\n",
              "  "
            ],
            "text/plain": [
              "                     return_1h  return_3h  ...  return_1440h  return_2160h\n",
              "timestamp                                  ...                            \n",
              "2019-12-31 21:15:00   1.000916   1.000649  ...      1.201652      0.905107\n",
              "2019-12-31 21:20:00   1.000900   1.000561  ...      1.199488      0.904578\n",
              "2019-12-31 21:25:00   1.000971   1.000161  ...      1.198884      0.905345\n",
              "2019-12-31 21:30:00   1.001404   1.000124  ...      1.199147      0.903535\n",
              "2019-12-31 21:35:00   1.001878   1.000129  ...      1.199459      0.903243\n",
              "...                        ...        ...  ...           ...           ...\n",
              "2022-01-01 20:30:00        NaN        NaN  ...           NaN           NaN\n",
              "2022-01-01 20:35:00        NaN        NaN  ...           NaN           NaN\n",
              "2022-01-01 20:40:00        NaN        NaN  ...           NaN           NaN\n",
              "2022-01-01 20:45:00        NaN        NaN  ...           NaN           NaN\n",
              "2022-01-01 20:50:00        NaN        NaN  ...           NaN           NaN\n",
              "\n",
              "[210812 rows x 13 columns]"
            ]
          },
          "metadata": {},
          "execution_count": 138
        }
      ]
    },
    {
      "cell_type": "code",
      "source": [
        "for hour in [1, 3, 6, 12, 18, 24, 24*2, 24*3, 24*5, 24*7, 24*30, 24*60, 24*90]:\n",
        "    df_return[f'return_{hour}h'].hist(bins=50)\n",
        "    print(df_return[f'return_{hour}h'].mean())\n",
        "    plt.title(f'Return with {hour}hour lag')\n",
        "    plt.show()"
      ],
      "metadata": {
        "colab": {
          "base_uri": "https://localhost:8080/",
          "height": 1000
        },
        "id": "uia9oSwGcIH4",
        "outputId": "2871f684-57ac-4eb1-f2f8-4e19c45ba8a7"
      },
      "execution_count": 139,
      "outputs": [
        {
          "output_type": "stream",
          "name": "stdout",
          "text": [
            "0.9997771640815847\n"
          ]
        },
        {
          "output_type": "display_data",
          "data": {
            "image/png": "[encoded data removed]",
            "text/plain": [
              "<Figure size 432x288 with 1 Axes>"
            ]
          },
          "metadata": {
            "needs_background": "light"
          }
        },
        {
          "output_type": "stream",
          "name": "stdout",
          "text": [
            "1.0000670803759755\n"
          ]
        },
        {
          "output_type": "display_data",
          "data": {
            "image/png": "[encoded data removed]",
            "text/plain": [
              "<Figure size 432x288 with 1 Axes>"
            ]
          },
          "metadata": {
            "needs_background": "light"
          }
        },
        {
          "output_type": "stream",
          "name": "stdout",
          "text": [
            "1.0004944563464093\n"
          ]
        },
        {
          "output_type": "display_data",
          "data": {
            "image/png": "[encoded data removed]",
            "text/plain": [
              "<Figure size 432x288 with 1 Axes>"
            ]
          },
          "metadata": {
            "needs_background": "light"
          }
        },
        {
          "output_type": "stream",
          "name": "stdout",
          "text": [
            "1.0013419232267717\n"
          ]
        },
        {
          "output_type": "display_data",
          "data": {
            "image/png": "[encoded data removed]",
            "text/plain": [
              "<Figure size 432x288 with 1 Axes>"
            ]
          },
          "metadata": {
            "needs_background": "light"
          }
        },
        {
          "output_type": "stream",
          "name": "stdout",
          "text": [
            "1.0022190742514618\n"
          ]
        },
        {
          "output_type": "display_data",
          "data": {
            "image/png": "[encoded data removed]",
            "text/plain": [
              "<Figure size 432x288 with 1 Axes>"
            ]
          },
          "metadata": {
            "needs_background": "light"
          }
        },
        {
          "output_type": "stream",
          "name": "stdout",
          "text": [
            "1.0030892664424171\n"
          ]
        },
        {
          "output_type": "display_data",
          "data": {
            "image/png": "[encoded data removed]",
            "text/plain": [
              "<Figure size 432x288 with 1 Axes>"
            ]
          },
          "metadata": {
            "needs_background": "light"
          }
        },
        {
          "output_type": "stream",
          "name": "stdout",
          "text": [
            "1.0065120268167491\n"
          ]
        },
        {
          "output_type": "display_data",
          "data": {
            "image/png": "[encoded data removed]",
            "text/plain": [
              "<Figure size 432x288 with 1 Axes>"
            ]
          },
          "metadata": {
            "needs_background": "light"
          }
        },
        {
          "output_type": "stream",
          "name": "stdout",
          "text": [
            "1.009942312228169\n"
          ]
        },
        {
          "output_type": "display_data",
          "data": {
            "image/png": "[encoded data removed]",
            "text/plain": [
              "<Figure size 432x288 with 1 Axes>"
            ]
          },
          "metadata": {
            "needs_background": "light"
          }
        },
        {
          "output_type": "stream",
          "name": "stdout",
          "text": [
            "1.0169172291113824\n"
          ]
        },
        {
          "output_type": "display_data",
          "data": {
            "image/png": "[encoded data removed]",
            "text/plain": [
              "<Figure size 432x288 with 1 Axes>"
            ]
          },
          "metadata": {
            "needs_background": "light"
          }
        },
        {
          "output_type": "stream",
          "name": "stdout",
          "text": [
            "1.0242342134643085\n"
          ]
        },
        {
          "output_type": "display_data",
          "data": {
            "image/png": "[encoded data removed]",
            "text/plain": [
              "<Figure size 432x288 with 1 Axes>"
            ]
          },
          "metadata": {
            "needs_background": "light"
          }
        },
        {
          "output_type": "stream",
          "name": "stdout",
          "text": [
            "1.1107254550999717\n"
          ]
        },
        {
          "output_type": "display_data",
          "data": {
            "image/png": "[encoded data removed]",
            "text/plain": [
              "<Figure size 432x288 with 1 Axes>"
            ]
          },
          "metadata": {
            "needs_background": "light"
          }
        },
        {
          "output_type": "stream",
          "name": "stdout",
          "text": [
            "1.2522295310052374\n"
          ]
        },
        {
          "output_type": "display_data",
          "data": {
            "image/png": "[encoded data removed]",
            "text/plain": [
              "<Figure size 432x288 with 1 Axes>"
            ]
          },
          "metadata": {
            "needs_background": "light"
          }
        },
        {
          "output_type": "stream",
          "name": "stdout",
          "text": [
            "1.4461284487277664\n"
          ]
        },
        {
          "output_type": "display_data",
          "data": {
            "image/png": "[encoded data removed]",
            "text/plain": [
              "<Figure size 432x288 with 1 Axes>"
            ]
          },
          "metadata": {
            "needs_background": "light"
          }
        }
      ]
    },
    {
      "cell_type": "code",
      "source": [
        "df_return.to_csv('/content/drive/MyDrive/data/crypto/historical/gmo/return_btc_5min.csv')"
      ],
      "metadata": {
        "id": "Fzk2fsD4cUZg"
      },
      "execution_count": 140,
      "outputs": []
    },
    {
      "cell_type": "code",
      "source": [
        ""
      ],
      "metadata": {
        "id": "ooctUggif-BR"
      },
      "execution_count": null,
      "outputs": []
    }
  ]
}